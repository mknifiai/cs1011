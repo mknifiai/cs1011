{
 "cells": [
  {
   "cell_type": "markdown",
   "id": "9915f6c5-3a6f-4d34-ba9c-e81dd19e81f7",
   "metadata": {},
   "source": [
    "## 1. String"
   ]
  },
  {
   "cell_type": "markdown",
   "id": "372f4038-bd71-4632-b127-1346fee64d78",
   "metadata": {},
   "source": [
    "**string**\n",
    "  \n",
    "A string is a sequence of characters, like the text MARY, that can be stored in a variable.\n",
    "\n",
    "**string literal**\n",
    "\n",
    "A string literal is a string value specified in the source code of a program.\n",
    "\n",
    "**sequence type**\n",
    "\n",
    "Sequence type: A type that specifies a collection of objects ordered from left to right."
   ]
  },
  {
   "cell_type": "code",
   "execution_count": 2,
   "id": "734859b4-bb30-44a0-994f-2c57b044a05a",
   "metadata": {},
   "outputs": [
    {
     "name": "stdin",
     "output_type": "stream",
     "text": [
      "Enter a type of relative:  brother\n"
     ]
    },
    {
     "name": "stdout",
     "output_type": "stream",
     "text": [
      "\n"
     ]
    },
    {
     "name": "stdin",
     "output_type": "stream",
     "text": [
      "Enter a type of food:  meat\n"
     ]
    },
    {
     "name": "stdout",
     "output_type": "stream",
     "text": [
      "\n"
     ]
    },
    {
     "name": "stdin",
     "output_type": "stream",
     "text": [
      "Enter an adjective:  macho\n"
     ]
    },
    {
     "name": "stdout",
     "output_type": "stream",
     "text": [
      "\n"
     ]
    },
    {
     "name": "stdin",
     "output_type": "stream",
     "text": [
      "Enter a time period:  day\n"
     ]
    },
    {
     "name": "stdout",
     "output_type": "stream",
     "text": [
      "\n",
      "My brother says eating meat\n",
      "will make me more macho\n",
      "so now I eat them every day\n"
     ]
    }
   ],
   "source": [
    "#A 'Mad Libs' style game where user enters nouns,\n",
    "#verbs, etc., and then a story using those words is output.\n",
    "\n",
    "#Get user's words\n",
    "relative = input('Enter a type of relative: ')\n",
    "print()\n",
    "\n",
    "food = input('Enter a type of food: ')\n",
    "print()\n",
    "\n",
    "adjective = input('Enter an adjective: ')\n",
    "print()\n",
    "\n",
    "period = input('Enter a time period: ')\n",
    "print()\n",
    "\n",
    "# Tell the story\n",
    "print('My', relative, 'says eating', food)\n",
    "print('will make me more', adjective)\n",
    "print('so now I eat them every', period)"
   ]
  },
  {
   "cell_type": "markdown",
   "id": "c0b8baf8-fb6b-46d9-b3ba-8a2cd1218a7e",
   "metadata": {},
   "source": [
    "**len()**\n",
    "\n",
    "The len() built-in function can be used to find the length of a string (and any other sequence type)."
   ]
  },
  {
   "cell_type": "code",
   "execution_count": 3,
   "id": "6e23bb13-3049-417c-93a5-55170ff6597b",
   "metadata": {},
   "outputs": [],
   "source": [
    "george_v = \"His Majesty George V, by the Grace of God, \" \\\n",
    "           \"of the United Kingdom of Great Britain and \" \\\n",
    "           \"Ireland and of the British Dominions beyond \" \\\n",
    "           \"the Seas, King, Defender of the Faith, Emperor of India\""
   ]
  },
  {
   "cell_type": "code",
   "execution_count": 4,
   "id": "1ef16215-e584-4bee-beb9-ab9c1b11e0db",
   "metadata": {},
   "outputs": [
    {
     "data": {
      "text/plain": [
       "185"
      ]
     },
     "execution_count": 4,
     "metadata": {},
     "output_type": "execute_result"
    }
   ],
   "source": [
    "len(george_v)"
   ]
  },
  {
   "cell_type": "markdown",
   "id": "91f72389-aeef-4760-a95b-b658da7a74fa",
   "metadata": {},
   "source": [
    "#### string concatenation"
   ]
  },
  {
   "cell_type": "code",
   "execution_count": 5,
   "id": "6ff8997d-4760-4ba9-b62c-65769c779035",
   "metadata": {},
   "outputs": [
    {
     "name": "stdout",
     "output_type": "stream",
     "text": [
      "Easy as abc123\n"
     ]
    }
   ],
   "source": [
    "string_1 = 'abc'\n",
    "string_2 = '123'\n",
    "concatenated_string = string_1 + string_2\n",
    "print('Easy as ' + concatenated_string)"
   ]
  },
  {
   "cell_type": "markdown",
   "id": "bd500be6-89d7-497e-b2eb-c330cbc1566c",
   "metadata": {},
   "source": [
    "## 2. String formatting"
   ]
  },
  {
   "cell_type": "code",
   "execution_count": 9,
   "id": "7bdc4716-bf36-46f2-a73d-7884d26c2487",
   "metadata": {},
   "outputs": [
    {
     "name": "stdout",
     "output_type": "stream",
     "text": [
      "two_power_two=4\n"
     ]
    }
   ],
   "source": [
    "two_power_two = 2**2\n",
    "print(f'{two_power_two=}')"
   ]
  },
  {
   "cell_type": "code",
   "execution_count": 7,
   "id": "d7e1a2e3-69a8-4fe5-bdfa-c843b640500a",
   "metadata": {},
   "outputs": [
    {
     "name": "stdout",
     "output_type": "stream",
     "text": [
      "2**2=4\n"
     ]
    }
   ],
   "source": [
    "print(f'{2**2=}')"
   ]
  },
  {
   "cell_type": "code",
   "execution_count": 8,
   "id": "d9ccd803-009d-4dc2-8ad7-1befc08f018c",
   "metadata": {},
   "outputs": [
    {
     "name": "stdout",
     "output_type": "stream",
     "text": [
      "{2**2}\n"
     ]
    }
   ],
   "source": [
    "print(f'{{2**2}}')"
   ]
  },
  {
   "cell_type": "markdown",
   "id": "ea621dea-0e14-4dee-95d1-df8854442c58",
   "metadata": {},
   "source": [
    "**format specification**\n",
    "\n",
    "A format specification inside a replacement field allows a value's formatting in the string to be customized.\n",
    "\n",
    "**presentation type**\n",
    "\n",
    "A presentation type is part of a format specification that determines how to represent a value in text form, such as an integer (4), a floating point (4.0), a fixed precision decimal (4.000), a percentage (4%), a binary (100), etc."
   ]
  },
  {
   "cell_type": "code",
   "execution_count": 10,
   "id": "ea51a1be-a7f7-4ef1-a3c3-58b919559c0d",
   "metadata": {},
   "outputs": [
    {
     "name": "stdout",
     "output_type": "stream",
     "text": [
      "Aiden\n"
     ]
    }
   ],
   "source": [
    "name = 'Aiden'\n",
    "print(f'{name:s}')"
   ]
  },
  {
   "cell_type": "code",
   "execution_count": 39,
   "id": "7a70b4ea-84ee-4daf-b6a1-d021ac0ecb6b",
   "metadata": {},
   "outputs": [
    {
     "name": "stdout",
     "output_type": "stream",
     "text": [
      "76,000\n"
     ]
    }
   ],
   "source": [
    "number = 76000\n",
    "print(f'{number:,d}')"
   ]
  },
  {
   "cell_type": "code",
   "execution_count": 12,
   "id": "4750b268-d820-4699-a067-d2eb1820272d",
   "metadata": {},
   "outputs": [
    {
     "name": "stdout",
     "output_type": "stream",
     "text": [
      "004\n"
     ]
    }
   ],
   "source": [
    "number = 4\n",
    "print(f'{number:03d}')"
   ]
  },
  {
   "cell_type": "code",
   "execution_count": 13,
   "id": "a9e966a1-be61-4cfd-81b8-e313623d62ce",
   "metadata": {},
   "outputs": [
    {
     "name": "stdout",
     "output_type": "stream",
     "text": [
      "4.000000\n"
     ]
    }
   ],
   "source": [
    "number = 4\n",
    "print(f'{number:f}')"
   ]
  },
  {
   "cell_type": "code",
   "execution_count": 14,
   "id": "48e32fc2-22de-427a-97ab-e31cdc0aba3b",
   "metadata": {},
   "outputs": [
    {
     "name": "stdout",
     "output_type": "stream",
     "text": [
      "4.00\n"
     ]
    }
   ],
   "source": [
    "number = 4\n",
    "print(f'{number:.2f}')"
   ]
  },
  {
   "cell_type": "markdown",
   "id": "e9b750c6-9d13-48b9-8d00-aa8655907799",
   "metadata": {},
   "source": [
    "## 3. List basics"
   ]
  },
  {
   "cell_type": "markdown",
   "id": "45d01d80-bdf2-45b8-906d-0ea118c188aa",
   "metadata": {},
   "source": [
    "**container**\n",
    "\n",
    "A container is a construct used to group related values together and contains references to other objects instead of data.\n",
    "\n",
    "**list**\n",
    "\n",
    "A list is a container created by surrounding a sequence of variables or literals with brackets [ ].\n",
    "\n",
    "**element**\n",
    "\n",
    "A list item is called an element .\n",
    "\n",
    "**index**\n",
    "\n",
    "Elements are ordered by position in the list, known as the element's index, starting with 0."
   ]
  },
  {
   "cell_type": "code",
   "execution_count": 15,
   "id": "5b12beb0-118c-4784-a62c-9eb503d18a01",
   "metadata": {},
   "outputs": [
    {
     "name": "stdout",
     "output_type": "stream",
     "text": [
      "['Daniel', 'Roxanna', 'Jean']\n"
     ]
    }
   ],
   "source": [
    "names = ['Daniel', 'Roxanna', 'Jean']\n",
    "\n",
    "print(names)"
   ]
  },
  {
   "cell_type": "markdown",
   "id": "83630d0a-f4b0-430d-be00-e84782b30397",
   "metadata": {},
   "source": [
    "**Access an element in a list via index**\n",
    "\n",
    "- index starts from 0 to (len(lst)-1)"
   ]
  },
  {
   "cell_type": "code",
   "execution_count": 24,
   "id": "bfac70c8-2539-4512-a02e-79a8645ee78c",
   "metadata": {},
   "outputs": [
    {
     "data": {
      "text/plain": [
       "'Daniel'"
      ]
     },
     "execution_count": 24,
     "metadata": {},
     "output_type": "execute_result"
    }
   ],
   "source": [
    "names[0]"
   ]
  },
  {
   "cell_type": "code",
   "execution_count": 27,
   "id": "19e7f0f8-af04-46c2-a35f-ca7769e0a706",
   "metadata": {},
   "outputs": [
    {
     "data": {
      "text/plain": [
       "'Jean'"
      ]
     },
     "execution_count": 27,
     "metadata": {},
     "output_type": "execute_result"
    }
   ],
   "source": [
    "names[len(names)-1]"
   ]
  },
  {
   "cell_type": "code",
   "execution_count": 16,
   "id": "7a5b76fe-cf7c-41d1-99e6-ad657876c8fa",
   "metadata": {},
   "outputs": [
    {
     "name": "stdout",
     "output_type": "stream",
     "text": [
      "[5, 12, 20]\n",
      "[5, -28, 20]\n"
     ]
    }
   ],
   "source": [
    "my_nums = [5, 12, 20]\n",
    "print(my_nums)\n",
    "\n",
    "# Update a list element\n",
    "my_nums[1] = -28\n",
    "print(my_nums)"
   ]
  },
  {
   "cell_type": "markdown",
   "id": "d1259bb4-f372-4a57-98cf-384fa41566ff",
   "metadata": {},
   "source": [
    "**method**\n",
    "\n",
    "A method instructs an object to perform some action, and is executed by specifying the method name following a \".\" symbol and an object.\n",
    "\n",
    "**append()**\n",
    "\n",
    "The append() list method is used to add new elements to a list.\n",
    "\n",
    "**pop() / remove()**\n",
    "\n",
    "Elements can be removed using the pop() or remove() methods."
   ]
  },
  {
   "cell_type": "code",
   "execution_count": 43,
   "id": "7c88bee4-f92d-4ff6-a705-9e35d10cfafc",
   "metadata": {},
   "outputs": [
    {
     "name": "stdout",
     "output_type": "stream",
     "text": [
      "[10, 'bw']\n",
      "After append: [10, 'bw', 'abc']\n",
      "After pop: ['bw', 'abc']\n",
      "After remove: ['abc']\n"
     ]
    }
   ],
   "source": [
    "my_list = [10, 'bw']\n",
    "print(my_list)\n",
    "\n",
    "my_list.append('abc')\n",
    "print(f'After append: {my_list}')\n",
    "\n",
    "my_list.pop(0)\n",
    "print(f'After pop: {my_list}')\n",
    "\n",
    "my_list.remove('bw')\n",
    "print(f'After remove: {my_list}')"
   ]
  },
  {
   "cell_type": "markdown",
   "id": "ebfe2799-44e5-4c56-94df-c80c1b0c81e7",
   "metadata": {},
   "source": [
    "**Sequence-type functions**\n",
    "\n",
    "Sequence-type functions are built-in functions that operate on sequences like lists and strings.\n",
    "\n",
    "**Sequence-type methods**\n",
    "\n",
    "Sequence-type methods are methods built into the class definitions of sequences like lists and strings."
   ]
  },
  {
   "cell_type": "code",
   "execution_count": 18,
   "id": "3d92f80b-e3b8-491b-a3f5-8725bf8fc960",
   "metadata": {},
   "outputs": [
    {
     "name": "stdout",
     "output_type": "stream",
     "text": [
      "There are 4 prices in the list.\n",
      "Cheapest house: 225000\n",
      "Most expensive house: 900000\n"
     ]
    }
   ],
   "source": [
    "# Concatenating lists\n",
    "house_prices = [380000, 900000, 875000] + [225000]\n",
    "print(f'There are {len(house_prices)} prices in the list.')\n",
    "\n",
    "# Finding min, max\n",
    "print(f'Cheapest house: {min(house_prices)}')\n",
    "print(f'Most expensive house: {max(house_prices)}')"
   ]
  },
  {
   "cell_type": "code",
   "execution_count": 20,
   "id": "62ce9acf-5aa8-4f8f-bd30-39b1ed853a9d",
   "metadata": {},
   "outputs": [
    {
     "data": {
      "text/plain": [
       "4"
      ]
     },
     "execution_count": 20,
     "metadata": {},
     "output_type": "execute_result"
    }
   ],
   "source": [
    "x = [1,2,2,3,2,5,2]\n",
    "\n",
    "x.count(2) # Count the number of occurrences of the value val in the list."
   ]
  },
  {
   "cell_type": "code",
   "execution_count": 21,
   "id": "eeadbc6d-df45-4ca9-8169-5988b73752fa",
   "metadata": {},
   "outputs": [
    {
     "data": {
      "text/plain": [
       "1"
      ]
     },
     "execution_count": 21,
     "metadata": {},
     "output_type": "execute_result"
    }
   ],
   "source": [
    "x.index(2) # Find the index of the first element in the list whose value matches val."
   ]
  },
  {
   "cell_type": "markdown",
   "id": "ce9366f8-cc13-44df-8da3-c54c2625f2c7",
   "metadata": {},
   "source": [
    "## 4. tuple\n",
    "\n",
    "A tuple stores a collection of data, like a list, but is immutable – once created, the tuple's elements cannot be changed."
   ]
  },
  {
   "cell_type": "code",
   "execution_count": 23,
   "id": "e8c682e4-a432-414e-855a-878b75f50ea9",
   "metadata": {},
   "outputs": [
    {
     "name": "stdout",
     "output_type": "stream",
     "text": [
      "Coordinates: (38.8977, 77.0366)\n",
      "Tuple length: 2\n",
      "\n",
      "Latitude: 38.8977 north\n",
      "Longitude: 77.0366 west\n",
      "\n"
     ]
    },
    {
     "ename": "TypeError",
     "evalue": "'tuple' object does not support item assignment",
     "output_type": "error",
     "traceback": [
      "\u001b[0;31m---------------------------------------------------------------------------\u001b[0m",
      "\u001b[0;31mTypeError\u001b[0m                                 Traceback (most recent call last)",
      "Cell \u001b[0;32mIn[23], line 10\u001b[0m\n\u001b[1;32m      7\u001b[0m \u001b[38;5;28mprint\u001b[39m(\u001b[38;5;124mf\u001b[39m\u001b[38;5;124m'\u001b[39m\u001b[38;5;124mLongitude: \u001b[39m\u001b[38;5;132;01m{\u001b[39;00mhouse_coordinates[\u001b[38;5;241m1\u001b[39m]\u001b[38;5;132;01m}\u001b[39;00m\u001b[38;5;124m west\u001b[39m\u001b[38;5;130;01m\\n\u001b[39;00m\u001b[38;5;124m'\u001b[39m)\n\u001b[1;32m      9\u001b[0m \u001b[38;5;66;03m# Error. Tuples are immutable\u001b[39;00m\n\u001b[0;32m---> 10\u001b[0m \u001b[43mhouse_coordinates\u001b[49m\u001b[43m[\u001b[49m\u001b[38;5;241;43m1\u001b[39;49m\u001b[43m]\u001b[49m \u001b[38;5;241m=\u001b[39m \u001b[38;5;241m50\u001b[39m\n",
      "\u001b[0;31mTypeError\u001b[0m: 'tuple' object does not support item assignment"
     ]
    }
   ],
   "source": [
    "house_coordinates = (38.8977, 77.0366)\n",
    "print(f'Coordinates: {house_coordinates}')\n",
    "print(f'Tuple length: {len(house_coordinates)}')\n",
    "\n",
    "# Access tuples via index\n",
    "print(f'\\nLatitude: {house_coordinates[0]} north')\n",
    "print(f'Longitude: {house_coordinates[1]} west\\n')\n",
    "\n",
    "# Error. Tuples are immutable\n",
    "house_coordinates[1] = 50"
   ]
  },
  {
   "cell_type": "markdown",
   "id": "3aaa665c-5961-4fde-be67-a81293675d8f",
   "metadata": {},
   "source": [
    "## 5. Set\n",
    "\n",
    "A set is an unordered collection of unique elements."
   ]
  },
  {
   "cell_type": "code",
   "execution_count": 34,
   "id": "86c296bf-5242-4470-86e4-7991b7dfb828",
   "metadata": {},
   "outputs": [
    {
     "name": "stdout",
     "output_type": "stream",
     "text": [
      "{1, 2, 3}\n",
      "{8, 9, 7}\n"
     ]
    }
   ],
   "source": [
    "# Create a set using the set() function.\n",
    "nums1 = set([1, 2, 3])\n",
    "\n",
    "# Create a set using a set literal.\n",
    "nums2 = { 7, 8, 9 }\n",
    "\n",
    "# Print the contents of the sets.\n",
    "print(nums1)\n",
    "print(nums2)"
   ]
  },
  {
   "cell_type": "markdown",
   "id": "d2a5f4e7-0571-47a5-a330-36113b6356c8",
   "metadata": {},
   "source": [
    "**add()**\n",
    "\n",
    "The add() method places a new element into the set if the set does not contain an element with the provided value.\n",
    "\n",
    "**remove() / pop()**\n",
    "\n",
    "The remove() and pop() methods remove an element from the set."
   ]
  },
  {
   "cell_type": "code",
   "execution_count": null,
   "id": "06500f96-533b-4e78-b0bf-5cea0c050183",
   "metadata": {},
   "outputs": [],
   "source": [
    "# Create sets\n",
    "names1 = {'Pedro', 'Khan', 'Dean'}\n",
    "names2 = {'Emilia', 'Kara', 'Tia'}\n",
    "\n",
    "# Add element to set\n",
    "names1.add('Hyungu')\n",
    "\n",
    "# Add names2 to names1\n",
    "names1.update(names2)\n",
    "\n",
    "# Remove element from set\n",
    "names1.remove('Dean')\n",
    "\n",
    "# Clear all elements from set\n",
    "names2.clear()"
   ]
  },
  {
   "cell_type": "code",
   "execution_count": 32,
   "id": "b8b958e7-b77e-43fc-ae02-271e693b4762",
   "metadata": {},
   "outputs": [],
   "source": [
    "# Create sets\n",
    "names1 = {'Corrin', 'Pedro', 'Khan', 'Dean'}\n",
    "names2 = {'Emilia', 'Kara', 'Corrin', 'Tia'}\n",
    "names3 = {'Karat', 'Kara', 'Karah', 'Khan'}\n",
    "names4 = {'Khan', 'Dean', 'Pascale'}\n",
    "\n",
    "# Union names1 and names2\n",
    "result_set = names1.union(names2)\n",
    "\n",
    "# Intersection btwn result_set and names3\n",
    "result_set = result_set.intersection(names3)\n",
    "\n",
    "# Difference btwn result_set and names4\n",
    "result_set = result_set.difference(names4)"
   ]
  },
  {
   "cell_type": "code",
   "execution_count": 33,
   "id": "6522b81e-b6d4-4ccb-af0d-1484b5cdab85",
   "metadata": {},
   "outputs": [
    {
     "data": {
      "text/plain": [
       "{'Kara'}"
      ]
     },
     "execution_count": 33,
     "metadata": {},
     "output_type": "execute_result"
    }
   ],
   "source": [
    "result_set"
   ]
  },
  {
   "cell_type": "markdown",
   "id": "eb373f91-92c1-4df7-bb57-61dc4c6df234",
   "metadata": {},
   "source": [
    "## 6. Dictionary"
   ]
  },
  {
   "cell_type": "markdown",
   "id": "01a00dfa-4df9-4f6d-8c10-073a38a92e54",
   "metadata": {},
   "source": [
    "**dictionary**\n",
    "A dictionary is a Python container used to describe associative relationships.\n",
    "\n",
    "**dict**\n",
    "A dictionary is represented by the dict object type.\n",
    "\n",
    "**key**\n",
    "A key is a term that can be located in a dictionary, such as the word \"cat\" in the English dictionary.\n",
    "    \n",
    "**value**\n",
    "A value describes some data associated with a key, such as a definition."
   ]
  },
  {
   "cell_type": "code",
   "execution_count": 36,
   "id": "bef89d4e-9196-4671-a93f-4987288f1300",
   "metadata": {},
   "outputs": [
    {
     "name": "stdout",
     "output_type": "stream",
     "text": [
      "{'Lionel Messi': 10, 'Cristiano Ronaldo': 7}\n"
     ]
    }
   ],
   "source": [
    "players = {\n",
    "    'Lionel Messi': 10,\n",
    "    'Cristiano Ronaldo': 7\n",
    "}\n",
    "\n",
    "print(players)"
   ]
  },
  {
   "cell_type": "markdown",
   "id": "41fb6f85-ef4e-4160-90cf-62ecd778a5d4",
   "metadata": {},
   "source": [
    "**del**\n",
    "\n",
    "The **del keyword** is used to remove entries from a dictionary: del prices['papaya'] removes the entry whose key is 'papaya'."
   ]
  },
  {
   "cell_type": "markdown",
   "id": "7117f7b3-a278-470c-ad27-ae72a7304e64",
   "metadata": {},
   "source": [
    "#### Type conversion"
   ]
  },
  {
   "cell_type": "code",
   "execution_count": 37,
   "id": "1112af6e-41bc-4151-bd81-968521613775",
   "metadata": {},
   "outputs": [
    {
     "name": "stdin",
     "output_type": "stream",
     "text": [
      "Enter a number:\n",
      " 5\n"
     ]
    },
    {
     "name": "stdout",
     "output_type": "stream",
     "text": [
      "original input text: 5\n",
      "input text converted to a float: 5.0\n",
      "float variable converted to an int: 5\n"
     ]
    }
   ],
   "source": [
    "input_text = input('Enter a number:\\n')\n",
    "float_variable = float(input_text)\n",
    "int_variable = int(float_variable)\n",
    "\n",
    "print(f'original input text: {input_text}')\n",
    "print(f'input text converted to a float: {float_variable}')\n",
    "print(f'float variable converted to an int: {int_variable}')\n"
   ]
  },
  {
   "cell_type": "code",
   "execution_count": null,
   "id": "31826d22-ee4d-4889-81b1-8af51d13c48b",
   "metadata": {},
   "outputs": [],
   "source": []
  }
 ],
 "metadata": {
  "kernelspec": {
   "display_name": "Python 3 (ipykernel)",
   "language": "python",
   "name": "python3"
  },
  "language_info": {
   "codemirror_mode": {
    "name": "ipython",
    "version": 3
   },
   "file_extension": ".py",
   "mimetype": "text/x-python",
   "name": "python",
   "nbconvert_exporter": "python",
   "pygments_lexer": "ipython3",
   "version": "3.12.1"
  }
 },
 "nbformat": 4,
 "nbformat_minor": 5
}
