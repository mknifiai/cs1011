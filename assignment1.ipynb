{
 "cells": [
  {
   "cell_type": "markdown",
   "id": "22a076f4-de48-4540-a271-7246b4b3247d",
   "metadata": {},
   "source": [
    "## Assignment 1"
   ]
  },
  {
   "cell_type": "markdown",
   "id": "1f3f4db7-e744-4c28-858d-c653a3431215",
   "metadata": {},
   "source": [
    "**Task 1: Cafeteria Bill Calculator (1 mark)**\n",
    "\n",
    "\n",
    "Write a program that calculates the total cost of a student's meal.\n",
    "\n",
    "- Use variables like meal_price, drink_price, and total_cost.\n",
    "- Print the total cost with a message like: \"Your total is: 18.5"
   ]
  },
  {
   "cell_type": "code",
   "execution_count": null,
   "id": "f9b13f8a-8953-4611-9c22-b81178dee107",
   "metadata": {},
   "outputs": [],
   "source": []
  },
  {
   "cell_type": "markdown",
   "id": "d1754629-adcb-445f-8c1f-962f39279064",
   "metadata": {},
   "source": [
    "**Task 2: Task Priority Score (1 mark)**\n",
    "\n",
    "Use Python to calculate a score that helps students prioritize tasks.\n",
    "Run the following code and explain the result using comments:\n",
    "score = (10 + 5) * 2 - 3 ** 2 / 3\n",
    "print(score)"
   ]
  },
  {
   "cell_type": "code",
   "execution_count": null,
   "id": "a8c4c7e3-f3de-4795-bff5-9461076658f3",
   "metadata": {},
   "outputs": [],
   "source": []
  },
  {
   "cell_type": "markdown",
   "id": "5fcc45fa-2767-4bdb-943a-c57a96349386",
   "metadata": {},
   "source": [
    "**Task 3: Discount Eligibility Checker (1 mark)**\n",
    "\n",
    "Ask the student to enter the age and the student id.\n",
    "\n",
    "Then, write a program that checks if a student is eligible for a transportation discount.\n",
    "\n",
    "- Conditions: age between 18 and 25, and has_student_id = True\n",
    "- Print \"Eligible for discount\" or \"Not eligible\"."
   ]
  },
  {
   "cell_type": "code",
   "execution_count": null,
   "id": "7167dc20-baa9-40d0-a306-65fa982de653",
   "metadata": {},
   "outputs": [],
   "source": []
  },
  {
   "cell_type": "markdown",
   "id": "ee0dc23b-e5c4-4e4f-9ffa-5b2e5fd4ed43",
   "metadata": {},
   "source": [
    "**Task 4: Clothing Advice Based on Weather (1 mark)**\n",
    "                                            \n",
    "Ask the user to enter the current temperature in Celsius.\n",
    "Based on the input, print advice:\n",
    "\n",
    "• ≥ 35 → \"Wear light clothes\"\n",
    "\n",
    "• ≥ 25 → \"T-shirt is fine\"\n",
    "\n",
    "• ≥ 15 → \"Bring a jacket\"\n",
    "\n",
    "• < 15 → \"Wear a coat\"\n",
    "\n",
    "• Use if, elif, and else statements."
   ]
  },
  {
   "cell_type": "code",
   "execution_count": null,
   "id": "95d4a3e0-dac9-49e7-81de-89aa8b786484",
   "metadata": {},
   "outputs": [],
   "source": []
  },
  {
   "cell_type": "markdown",
   "id": "02efe92b-6926-42d5-9b6b-df3dd7a955ba",
   "metadata": {},
   "source": [
    "**Task 5: Daily Reminder Generator (1 mark)**\n",
    "\n",
    "Use a for loop to print reminders for 5 days.\n",
    "Each day should include a different item to bring to campus"
   ]
  },
  {
   "cell_type": "markdown",
   "id": "829bbe7c-7594-4796-8e92-cd4aa20ed534",
   "metadata": {},
   "source": [
    "Example Output:\n",
    "\n",
    "Day 1: Remember to bring your student ID\n",
    "\n",
    "Day 2: Remember to bring your notebook\n",
    "\n",
    "Day 3: Remember to bring your laptop\n",
    "\n",
    "Day 4: Remember to bring your water bottle\n",
    "\n",
    "Day 5: Remember to bring your charger"
   ]
  },
  {
   "cell_type": "code",
   "execution_count": null,
   "id": "8cefa0fb-ac73-46b8-adfa-322d4c56fc76",
   "metadata": {},
   "outputs": [],
   "source": []
  }
 ],
 "metadata": {
  "kernelspec": {
   "display_name": "Python 3 (ipykernel)",
   "language": "python",
   "name": "python3"
  },
  "language_info": {
   "codemirror_mode": {
    "name": "ipython",
    "version": 3
   },
   "file_extension": ".py",
   "mimetype": "text/x-python",
   "name": "python",
   "nbconvert_exporter": "python",
   "pygments_lexer": "ipython3",
   "version": "3.12.1"
  }
 },
 "nbformat": 4,
 "nbformat_minor": 5
}
