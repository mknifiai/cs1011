{
 "cells": [
  {
   "cell_type": "markdown",
   "id": "23955073-682f-439c-bb67-4e8e06d3fd51",
   "metadata": {},
   "source": [
    "## 1. Lists"
   ]
  },
  {
   "cell_type": "markdown",
   "id": "932cf1df-26ba-4ebe-97b7-e9f78c2227e2",
   "metadata": {},
   "source": [
    "**container**\n",
    "\n",
    "A container is an object that groups related objects together.\n",
    "\n",
    "**list / mutable**\n",
    "\n",
    "A list is a mutable container, meaning the size of the list can grow or shrink and elements within the list can change."
   ]
  },
  {
   "cell_type": "markdown",
   "id": "84ea5518-23e8-4ccd-8f1b-66a8cd5b2029",
   "metadata": {},
   "source": [
    "<img src=\"img/lst.png\" width=200 height=200 />"
   ]
  },
  {
   "cell_type": "markdown",
   "id": "6ca4024f-7177-44cf-8c01-94e2abfe9e12",
   "metadata": {},
   "source": [
    "**list()**\n",
    "\n",
    "The list() function accepts a single iterable object argument, such as a string, list, or tuple, and returns a new list object.\n",
    "\n",
    "**index**\n",
    "\n",
    "An index is a zero-based integer matching to a specific position in the list's sequence of elements."
   ]
  },
  {
   "cell_type": "markdown",
   "id": "14268cc4-d6e3-4f5c-a6e9-dd62483fe9db",
   "metadata": {},
   "source": [
    "### in-place modification"
   ]
  },
  {
   "cell_type": "code",
   "execution_count": 2,
   "id": "8b1e389d-fc08-421a-981a-8f8c2d8433e5",
   "metadata": {},
   "outputs": [
    {
     "name": "stdout",
     "output_type": "stream",
     "text": [
      "[1, 2, 3]\n"
     ]
    }
   ],
   "source": [
    "my_list = [1, 2, 3]\n",
    "print(my_list)"
   ]
  },
  {
   "cell_type": "code",
   "execution_count": 3,
   "id": "b43bdad3-e5fa-4ebf-94c9-3521ffa10023",
   "metadata": {},
   "outputs": [
    {
     "name": "stdout",
     "output_type": "stream",
     "text": [
      "['1', '2', '3']\n"
     ]
    }
   ],
   "source": [
    "my_list = list('123')\n",
    "print(my_list)"
   ]
  },
  {
   "cell_type": "code",
   "execution_count": 4,
   "id": "315c6c65-853a-4636-90e6-399632dbb9b6",
   "metadata": {},
   "outputs": [
    {
     "name": "stdout",
     "output_type": "stream",
     "text": [
      "2\n"
     ]
    }
   ],
   "source": [
    "my_list = [1, 2, 3]\n",
    "print(my_list[1])"
   ]
  },
  {
   "cell_type": "code",
   "execution_count": 5,
   "id": "91307efb-14fe-45f8-b148-b13bca1f3186",
   "metadata": {},
   "outputs": [
    {
     "name": "stdout",
     "output_type": "stream",
     "text": [
      "[2, 3]\n"
     ]
    }
   ],
   "source": [
    "my_list = [1, 2, 3]\n",
    "print(my_list[1:3])"
   ]
  },
  {
   "cell_type": "code",
   "execution_count": 6,
   "id": "c5b8da2d-75a1-46d7-94da-07e460073ee5",
   "metadata": {},
   "outputs": [
    {
     "name": "stdout",
     "output_type": "stream",
     "text": [
      "[1, 2, 3]\n"
     ]
    }
   ],
   "source": [
    "my_list = [1, 2] + [3] \n",
    "print(my_list)"
   ]
  },
  {
   "cell_type": "code",
   "execution_count": 7,
   "id": "d95df6fe-4da6-4e9e-9069-4f96d3237a3d",
   "metadata": {},
   "outputs": [
    {
     "name": "stdout",
     "output_type": "stream",
     "text": [
      "[1, 2, 9]\n"
     ]
    }
   ],
   "source": [
    "my_list = [1, 2, 3]\n",
    "my_list[2] = 9 \n",
    "print(my_list)"
   ]
  },
  {
   "cell_type": "code",
   "execution_count": 8,
   "id": "11544f22-72ba-4178-b50b-3f3bf0ff7113",
   "metadata": {},
   "outputs": [
    {
     "name": "stdout",
     "output_type": "stream",
     "text": [
      "[1, 3]\n"
     ]
    }
   ],
   "source": [
    "my_list = [1, 2, 3]\n",
    "del my_list[1]\n",
    "print(my_list)"
   ]
  },
  {
   "cell_type": "markdown",
   "id": "7a5e6b5a-7286-4ea8-a0d0-a9576ad1e682",
   "metadata": {},
   "source": [
    "## 1.1 List methods"
   ]
  },
  {
   "cell_type": "markdown",
   "id": "91df0419-8e3a-4054-b45c-8886b1480bc8",
   "metadata": {},
   "source": [
    "**list method**\n",
    "\n",
    "A list method can perform a useful operation on a list such as adding or removing elements, sorting, reversing, etc."
   ]
  },
  {
   "cell_type": "code",
   "execution_count": 9,
   "id": "56e366d1-ba3c-4d10-ad54-ebaac7c1c6bc",
   "metadata": {},
   "outputs": [],
   "source": [
    "my_list = [5, 8]\n",
    "my_list.append(16) # Add an item to the end of list."
   ]
  },
  {
   "cell_type": "code",
   "execution_count": 10,
   "id": "a2a7792f-a2f7-4721-8e53-3ceb5abb191d",
   "metadata": {},
   "outputs": [],
   "source": [
    "my_list = [5, 8]\n",
    "my_list.extend([4, 12]) # Add all items in [x] to list."
   ]
  },
  {
   "cell_type": "code",
   "execution_count": 11,
   "id": "0521c29e-3843-476b-bd65-e97cb43b6b72",
   "metadata": {},
   "outputs": [],
   "source": [
    "my_list = [5, 8]\n",
    "my_list.insert(1, 1.7) # Insert x into list before position i."
   ]
  },
  {
   "cell_type": "code",
   "execution_count": 12,
   "id": "d6bc1dd7-f1ce-4eac-97bb-b02f4cd514d5",
   "metadata": {},
   "outputs": [],
   "source": [
    "my_list = [5, 8, 14]\n",
    "my_list.remove(8) # Remove first item from list with value x.\t"
   ]
  },
  {
   "cell_type": "code",
   "execution_count": null,
   "id": "22cb4df3-9e4e-4f5d-ba63-6db6d371a19e",
   "metadata": {},
   "outputs": [],
   "source": [
    "my_list = [5, 8, 14]\n",
    "val = my_list.pop() # Remove and return last item in list."
   ]
  },
  {
   "cell_type": "code",
   "execution_count": 13,
   "id": "ff86b570-92ab-40fb-87b5-f422951b493e",
   "metadata": {},
   "outputs": [],
   "source": [
    "my_list = [5, 8, 14]\n",
    "val = my_list.pop(0) # Remove and return item at position i in list.\t"
   ]
  },
  {
   "cell_type": "code",
   "execution_count": null,
   "id": "324084d3-075f-44a1-b1d9-9c63025a5a05",
   "metadata": {},
   "outputs": [],
   "source": [
    "my_list = [14, 5, 8]\n",
    "my_list.sort() # Sort the items of list in-place.\t"
   ]
  },
  {
   "cell_type": "code",
   "execution_count": null,
   "id": "8307dcc5-15c7-4ad3-b3d7-d237298c0f20",
   "metadata": {},
   "outputs": [],
   "source": [
    "my_list = [14, 5, 8]\n",
    "my_list.reverse() # Reverse the elements of list in-place.\t"
   ]
  },
  {
   "cell_type": "code",
   "execution_count": 14,
   "id": "cc2a0deb-5ec6-4b62-8c09-c3355b5375a0",
   "metadata": {},
   "outputs": [
    {
     "name": "stdout",
     "output_type": "stream",
     "text": [
      "2\n"
     ]
    }
   ],
   "source": [
    "my_list = [5, 8, 14]\n",
    "print(my_list.index(14))# Return index of first item in list with value x.\t"
   ]
  },
  {
   "cell_type": "code",
   "execution_count": null,
   "id": "4505a62b-22b2-4bca-8a6a-d081dfe0a244",
   "metadata": {},
   "outputs": [],
   "source": [
    "my_list = [5, 8, 5, 5, 14]\n",
    "print(my_list.count(5)) # Count the number of times value x is in list."
   ]
  },
  {
   "cell_type": "markdown",
   "id": "bcefa132-20bb-4796-b55c-57bb222ebae6",
   "metadata": {},
   "source": [
    "### 1.2 Iterating over a list"
   ]
  },
  {
   "cell_type": "markdown",
   "id": "5d310e4b-d547-4fcd-81b4-ad6ec5d0b9e7",
   "metadata": {},
   "source": [
    "Looping through a sequence such as a list is so common that Python supports a construct called a for loop, specifically for iteration purposes."
   ]
  },
  {
   "cell_type": "code",
   "execution_count": null,
   "id": "e2ee2f23-5d4e-40f2-af84-00df4bf62038",
   "metadata": {},
   "outputs": [],
   "source": [
    "for my_var in my_list:\n",
    "    # Loop body statements go here"
   ]
  },
  {
   "cell_type": "markdown",
   "id": "4f072adc-6dbe-4364-a905-fdfe7a143e0d",
   "metadata": {},
   "source": [
    "**IndexError**\n",
    "\n",
    "Accessing an index that is out of range causes the program to automatically abort execution and generate an IndexError."
   ]
  },
  {
   "cell_type": "markdown",
   "id": "d8b095a1-b7e7-4b9c-b7df-24693741a57e",
   "metadata": {},
   "source": [
    "**enumerate()**\n",
    "\n",
    "The built-in enumerate() function iterates over a list and provides an iteration counter."
   ]
  },
  {
   "cell_type": "code",
   "execution_count": 15,
   "id": "ee226d43-df37-4eef-b22b-61abf0b6ed76",
   "metadata": {},
   "outputs": [
    {
     "name": "stdout",
     "output_type": "stream",
     "text": [
      "True\n",
      "False\n"
     ]
    }
   ],
   "source": [
    "## True if every element in list is True (!= 0), or if the list is empty.\n",
    "print(all([1, 2, 3]))\n",
    "print(all([0, 1, 2]))"
   ]
  },
  {
   "cell_type": "code",
   "execution_count": 16,
   "id": "55785e71-72e6-4edd-a401-1719957af62c",
   "metadata": {},
   "outputs": [
    {
     "name": "stdout",
     "output_type": "stream",
     "text": [
      "True\n",
      "False\n"
     ]
    }
   ],
   "source": [
    "## True if any element in the list is True.\n",
    "print(any([0, 2]))\n",
    "print(any([0, 0]))"
   ]
  },
  {
   "cell_type": "code",
   "execution_count": 17,
   "id": "fd389592-bf97-40ee-bae7-8b233856a842",
   "metadata": {},
   "outputs": [
    {
     "name": "stdout",
     "output_type": "stream",
     "text": [
      "25\n",
      "-3\n",
      "27\n"
     ]
    }
   ],
   "source": [
    "print(max([-3, 5, 25]))\n",
    "print(min([-3, 5, 25]))\n",
    "print(sum([-3, 5, 25]))"
   ]
  },
  {
   "cell_type": "markdown",
   "id": "9e37425c-0e98-44bd-8c70-de8c456c9621",
   "metadata": {},
   "source": [
    "### 1.3 list nesting\n",
    "  \n",
    "Such embedding of a list inside another list is known as list nesting."
   ]
  },
  {
   "cell_type": "code",
   "execution_count": 19,
   "id": "6702c3ac-add0-4ca5-ad05-dff37e6a9549",
   "metadata": {},
   "outputs": [
    {
     "name": "stdout",
     "output_type": "stream",
     "text": [
      "First nested list: [10, 20]\n",
      "Second nested list: [30, 40]\n",
      "Element 0 of first nested list: 10\n"
     ]
    }
   ],
   "source": [
    "## Multi-dimensional lists.\n",
    "my_list = [[10, 20], [30, 40]]\n",
    "print(f'First nested list: {my_list[0]}')\n",
    "print(f'Second nested list: {my_list[1]}')\n",
    "print(f'Element 0 of first nested list: {my_list[0][0]}')"
   ]
  },
  {
   "cell_type": "markdown",
   "id": "9c6b8805-ab18-4b6c-806b-a0e782d853c3",
   "metadata": {},
   "source": [
    "**multi-dimensional data structure**\n",
    "\n",
    "List nesting allows for a programmer to also create a multi-dimensional data structure, the simplest being a two-dimensional table, like a spreadsheet or tic-tac-toe board."
   ]
  },
  {
   "cell_type": "code",
   "execution_count": 20,
   "id": "dc048b74-8903-4eb7-9b62-9ecf0b4a9857",
   "metadata": {},
   "outputs": [
    {
     "name": "stdout",
     "output_type": "stream",
     "text": [
      "X O X\n",
      "  X  \n",
      "O O X\n"
     ]
    }
   ],
   "source": [
    "tic_tac_toe = [\n",
    "    ['X', 'O', 'X'],\n",
    "    [' ', 'X', ' '],\n",
    "    ['O', 'O', 'X']\n",
    "]\n",
    "\n",
    "print(tic_tac_toe[0][0], tic_tac_toe[0][1], tic_tac_toe[0][2])\n",
    "print(tic_tac_toe[1][0], tic_tac_toe[1][1], tic_tac_toe[1][2])\n",
    "print(tic_tac_toe[2][0], tic_tac_toe[2][1], tic_tac_toe[2][2])"
   ]
  },
  {
   "cell_type": "markdown",
   "id": "9db546e9-15f5-41ba-9aa8-2255b4c37119",
   "metadata": {},
   "source": [
    "**nested for loops**\n",
    "\n",
    "A programmer can access all of the elements of nested lists by using nested for loops."
   ]
  },
  {
   "cell_type": "code",
   "execution_count": 21,
   "id": "2b0b888f-1ea4-4276-b2cf-066b91b5d0fb",
   "metadata": {},
   "outputs": [
    {
     "name": "stdout",
     "output_type": "stream",
     "text": [
      "currency[0][0] is 1.00\n",
      "currency[0][1] is 5.00\n",
      "currency[0][2] is 10.00\n",
      "currency[1][0] is 0.75\n",
      "currency[1][1] is 3.77\n",
      "currency[1][2] is 7.53\n",
      "currency[2][0] is 0.65\n",
      "currency[2][1] is 3.25\n",
      "currency[2][2] is 6.50\n"
     ]
    }
   ],
   "source": [
    "currency = [\n",
    "   [1, 5, 10 ],  # US Dollars\n",
    "   [0.75, 3.77, 7.53],  #Euros\n",
    "   [0.65, 3.25, 6.50]  # British pounds\n",
    "]\n",
    "for row_index, row in enumerate(currency):\n",
    "   for column_index, item in enumerate(row):\n",
    "       print(f'currency[{row_index}][{column_index}] is {item:.2f}')"
   ]
  },
  {
   "cell_type": "markdown",
   "id": "6b902675-d155-447f-8756-11ab5cf55b7c",
   "metadata": {},
   "source": [
    "### 1.4 List slicing\n",
    "\n",
    "**slice notation**\n",
    "\n",
    "A programmer can use slice notation to read multiple elements from a list, creating a new list that contains only the desired elements."
   ]
  },
  {
   "cell_type": "code",
   "execution_count": 22,
   "id": "9ea2ca4d-feb6-4fbf-af0c-605e4f929271",
   "metadata": {},
   "outputs": [
    {
     "name": "stdout",
     "output_type": "stream",
     "text": [
      "Elements 0 and 1: ['Tyler', 'Zdeno']\n",
      "Elements 1 and 2: ['Zdeno', 'Patrice']\n"
     ]
    }
   ],
   "source": [
    "boston_bruins = ['Tyler', 'Zdeno', 'Patrice']\n",
    "print(f'Elements 0 and 1: {boston_bruins[0:2]}')\n",
    "print(f'Elements 1 and 2: {boston_bruins[1:3]}')"
   ]
  },
  {
   "cell_type": "code",
   "execution_count": 23,
   "id": "ce3bcb01-ad65-4b42-a35d-9e6ab41319fc",
   "metadata": {},
   "outputs": [
    {
     "name": "stdout",
     "output_type": "stream",
     "text": [
      "[1992, 1996, 2000, 2004]\n",
      "[1992, 1996]\n",
      "[2000, 2004]\n"
     ]
    }
   ],
   "source": [
    "election_years = [1992, 1996, 2000, 2004, 2008]\n",
    "print(election_years[0:-1])  # Every year except the last\n",
    "print(election_years[0:-3])  # Every year except the last three\n",
    "print(election_years[-3:-1])  # The third and second to last years"
   ]
  },
  {
   "cell_type": "markdown",
   "id": "59f3b921-98ff-458e-8b4a-d228b02e3587",
   "metadata": {},
   "source": [
    "**stride**\n",
    "  \n",
    "An optional component of slice notation is the stride, which indicates how many elements are skipped between extracted items in the source list.\n"
   ]
  },
  {
   "cell_type": "code",
   "execution_count": null,
   "id": "1acaa1ae-2509-48eb-b363-6c24e233a224",
   "metadata": {},
   "outputs": [],
   "source": [
    "my_list = [5, 10, 20]\n",
    "print(my_list[0:2]) # Get a list from start to end (minus 1)."
   ]
  },
  {
   "cell_type": "code",
   "execution_count": null,
   "id": "36a7a380-a017-4417-9af6-8b0eb3fd8adc",
   "metadata": {},
   "outputs": [],
   "source": [
    "my_list = [5, 10, 20, 40, 80]\n",
    "print(my_list[0:5:3]) # Get a list of every stride element from start to end (minus 1)."
   ]
  },
  {
   "cell_type": "code",
   "execution_count": null,
   "id": "a212c2cf-d980-4ec6-b2e5-1a6cfaa18068",
   "metadata": {},
   "outputs": [],
   "source": [
    "my_list = [5, 10, 20, 40, 80]\n",
    "print(my_list[2:]) # Get a list from start to end of the list."
   ]
  },
  {
   "cell_type": "code",
   "execution_count": null,
   "id": "faa7a4f4-061c-4c3a-90ba-2a01735593ae",
   "metadata": {},
   "outputs": [],
   "source": [
    "my_list = [5, 10, 20, 40, 80]\n",
    "print(my_list[:4]) # Get a list from beginning of the list to the end (minus 1).\t"
   ]
  },
  {
   "cell_type": "code",
   "execution_count": null,
   "id": "49ae7dac-e667-4233-a10b-e3e8d7476b33",
   "metadata": {},
   "outputs": [],
   "source": [
    "my_list = [5, 10, 20, 40, 80]\n",
    "print(my_list[:]) # Get a copy of the list."
   ]
  },
  {
   "cell_type": "markdown",
   "id": "65f2c138-b919-421c-bd6e-12e61acff2ce",
   "metadata": {},
   "source": [
    "### 1.5 Loops modifying lists"
   ]
  },
  {
   "cell_type": "code",
   "execution_count": 25,
   "id": "fefeceda-64da-4b71-adb6-09c4c09182b3",
   "metadata": {},
   "outputs": [],
   "source": [
    "# Modifying a list during an iteration example.\n",
    "\n",
    "my_list = [3.2, 5.0, 16.5, 12.25]\n",
    "\n",
    "for i in range(len(my_list)):\n",
    "    my_list[ i ] += 5"
   ]
  },
  {
   "cell_type": "markdown",
   "id": "6c9f628a-2258-4c62-b7eb-34ab85e59827",
   "metadata": {},
   "source": [
    "#### Copy a list using [:]"
   ]
  },
  {
   "cell_type": "code",
   "execution_count": 26,
   "id": "4020fa27-c71c-41ba-b781-ecea2a6cd629",
   "metadata": {},
   "outputs": [
    {
     "name": "stdout",
     "output_type": "stream",
     "text": [
      "[5, 15]\n"
     ]
    }
   ],
   "source": [
    "nums1 = [5, 10, 15]\n",
    "nums2 = [10, 15]\n",
    "\n",
    "for val in nums1:\n",
    "    if val in nums2:\n",
    "        nums1.remove(val)\n",
    "print(nums1)"
   ]
  },
  {
   "cell_type": "code",
   "execution_count": 27,
   "id": "679df43d-4794-4fe5-a983-a5e4941dbd04",
   "metadata": {},
   "outputs": [
    {
     "name": "stdout",
     "output_type": "stream",
     "text": [
      "[5]\n"
     ]
    }
   ],
   "source": [
    "nums1 = [5, 10, 15]\n",
    "nums2 = [10, 15]\n",
    "\n",
    "for val in nums1[:]:\n",
    "    if val in nums2:\n",
    "        nums1.remove(val)\n",
    "print(nums1)"
   ]
  },
  {
   "cell_type": "markdown",
   "id": "3c4607e9-6f97-4b03-a019-b9e19cd045ba",
   "metadata": {},
   "source": [
    "### 1.6 List comprehensions"
   ]
  },
  {
   "cell_type": "markdown",
   "id": "782400c3-3762-4b68-a20b-404b855e67b1",
   "metadata": {},
   "source": [
    "The Python language provides a convenient construct, known as list comprehension, that iterates over a list, modifies each element, and returns a new list of the modified elements."
   ]
  },
  {
   "cell_type": "code",
   "execution_count": null,
   "id": "49032dac-733e-4ba9-8464-0d77d4f7ca94",
   "metadata": {},
   "outputs": [],
   "source": [
    "new_list = [expression for loop_variable_name in iterable]"
   ]
  },
  {
   "cell_type": "code",
   "execution_count": 28,
   "id": "3a17c3bb-86ec-4a28-adcb-a1f06a0da21d",
   "metadata": {},
   "outputs": [
    {
     "name": "stdout",
     "output_type": "stream",
     "text": [
      "New list contains: [15, 25, 35]\n"
     ]
    }
   ],
   "source": [
    "my_list = [10, 20, 30]\n",
    "list_plus_5 = [(i + 5) for i in my_list]\n",
    "\n",
    "print(f'New list contains: {list_plus_5}')"
   ]
  },
  {
   "cell_type": "markdown",
   "id": "a0591450-f9f9-4687-8e25-91bb916fb860",
   "metadata": {},
   "source": [
    "#### List comprehensions can replace some for loops."
   ]
  },
  {
   "cell_type": "code",
   "execution_count": 29,
   "id": "58b52faa-abe6-4358-b256-9b856255af3c",
   "metadata": {},
   "outputs": [
    {
     "name": "stdout",
     "output_type": "stream",
     "text": [
      "[15, 30, 60]\n"
     ]
    }
   ],
   "source": [
    "my_list = [5, 20, 50]\n",
    "my_list = [(i+10) for i in my_list]\n",
    "print(my_list)"
   ]
  },
  {
   "cell_type": "code",
   "execution_count": 30,
   "id": "6d5d8e6b-8f48-49d6-a456-17452796585e",
   "metadata": {},
   "outputs": [
    {
     "name": "stdout",
     "output_type": "stream",
     "text": [
      "['5', '20', '50']\n"
     ]
    }
   ],
   "source": [
    "my_list = [5, 20, 50]\n",
    "my_list = [str(i) for i in my_list]\n",
    "print(my_list)"
   ]
  },
  {
   "cell_type": "code",
   "execution_count": 32,
   "id": "32a3600a-4d11-492b-9284-647a687b519a",
   "metadata": {},
   "outputs": [
    {
     "name": "stdin",
     "output_type": "stream",
     "text": [
      "Enter numbers: 5 6 7\n"
     ]
    },
    {
     "name": "stdout",
     "output_type": "stream",
     "text": [
      "[5, 6, 7]\n"
     ]
    }
   ],
   "source": [
    "inp = input('Enter numbers:')\n",
    "my_list = [int(i) for i in inp.split()]\n",
    "print(my_list)"
   ]
  },
  {
   "cell_type": "code",
   "execution_count": 33,
   "id": "63afe055-a070-4491-a617-92e6f5437e83",
   "metadata": {},
   "outputs": [
    {
     "name": "stdout",
     "output_type": "stream",
     "text": [
      "[30, 21, 100]\n"
     ]
    }
   ],
   "source": [
    "my_list = [[5, 10, 15], [2, 3, 16], [100]]\n",
    "sum_list = [sum(row) for row in my_list]\n",
    "print(sum_list)"
   ]
  },
  {
   "cell_type": "code",
   "execution_count": 34,
   "id": "446c1ea4-ce4c-4006-9765-1942c8b8dbb8",
   "metadata": {},
   "outputs": [
    {
     "name": "stdout",
     "output_type": "stream",
     "text": [
      "21\n"
     ]
    }
   ],
   "source": [
    "my_list = [[5, 10, 15], [2, 3, 16], [100]]\n",
    "min_row = min([sum(row) for row in my_list])\n",
    "print(min_row)"
   ]
  },
  {
   "cell_type": "markdown",
   "id": "8ba49b29-81ee-4a87-921e-2dce5f59662b",
   "metadata": {},
   "source": [
    "#### Conditional list comprehensions."
   ]
  },
  {
   "cell_type": "code",
   "execution_count": null,
   "id": "0fabe5fa-7227-49cc-802a-c5c66dd8c7be",
   "metadata": {},
   "outputs": [],
   "source": [
    "new_list = [expression for name in iterable if condition]"
   ]
  },
  {
   "cell_type": "code",
   "execution_count": 36,
   "id": "8e3b0d5e-dcd3-4f02-a8c6-51f8514222e9",
   "metadata": {},
   "outputs": [
    {
     "name": "stdin",
     "output_type": "stream",
     "text": [
      "Enter numbers: 2 4 5 6 7\n"
     ]
    },
    {
     "name": "stdout",
     "output_type": "stream",
     "text": [
      "Even numbers only: [2, 4, 6]\n"
     ]
    }
   ],
   "source": [
    "# Get a list of integers from the user\n",
    "numbers = [int(i) for i in input('Enter numbers:').split()]\n",
    "\n",
    "# Return a list of only even numbers\n",
    "even_numbers = [i for i in numbers if (i % 2) == 0]\n",
    "print(f'Even numbers only: {even_numbers}')"
   ]
  },
  {
   "cell_type": "markdown",
   "id": "400a99fb-6022-43f8-9346-a70a20e80c92",
   "metadata": {},
   "source": [
    "### 1.7 Sorting lists"
   ]
  },
  {
   "cell_type": "markdown",
   "id": "e8dea2c0-7b57-43d4-b898-2853d90edecb",
   "metadata": {},
   "source": [
    "**sort()**\n",
    "\n",
    "One of the most useful list methods is sort(), which performs an in-place rearranging of the list elements, sorting the elements from lowest to highest."
   ]
  },
  {
   "cell_type": "code",
   "execution_count": 37,
   "id": "215910a4-3a19-4f8e-80ac-9983bd98903c",
   "metadata": {},
   "outputs": [
    {
     "name": "stdin",
     "output_type": "stream",
     "text": [
      "Enter new book:  Hackers and Painters\n",
      "Enter new book:  Programming in Python\n",
      "Enter new book:  The art of War\n",
      "Enter new book:  Programming in Java\n",
      "Enter new book:  exit\n"
     ]
    },
    {
     "name": "stdout",
     "output_type": "stream",
     "text": [
      "\n",
      "Alphabetical order:\n",
      "Hackers and Painters\n",
      "Programming in Java\n",
      "Programming in Python\n",
      "The art of War\n"
     ]
    }
   ],
   "source": [
    "books = []\n",
    "prompt = 'Enter new book: '\n",
    "user_input = input(prompt).strip()\n",
    "\n",
    "while (user_input.lower() != 'exit'):\n",
    "    books.append(user_input)\n",
    "    user_input = input(prompt).strip()\n",
    "\n",
    "books.sort()\n",
    "\n",
    "print('\\nAlphabetical order:')\n",
    "for book in books:\n",
    "    print(book)"
   ]
  },
  {
   "cell_type": "markdown",
   "id": "89d02d26-4093-4586-bbe3-504c15719804",
   "metadata": {},
   "source": [
    "**sorted()**\n",
    "\n",
    "The sorted() built-in function provides the same sorting functionality as the list.sort() method, however, sorted() creates and returns a new list instead of modifying an existing list"
   ]
  },
  {
   "cell_type": "code",
   "execution_count": 39,
   "id": "936463f2-45a7-4827-83ad-0dd89d8871c5",
   "metadata": {},
   "outputs": [
    {
     "name": "stdin",
     "output_type": "stream",
     "text": [
      "Enter numbers:  1 6 8 9 2 4 3 \n"
     ]
    },
    {
     "name": "stdout",
     "output_type": "stream",
     "text": [
      "\n",
      "Original numbers: [1, 6, 8, 9, 2, 4, 3]\n",
      "Sorted numbers: [1, 2, 3, 4, 6, 8, 9]\n"
     ]
    }
   ],
   "source": [
    "numbers = [int(i) for i in input('Enter numbers: ').split()]\n",
    "\n",
    "sorted_numbers = sorted(numbers)\n",
    "\n",
    "print(f'\\nOriginal numbers: {numbers}')\n",
    "print(f'Sorted numbers: {sorted_numbers}')"
   ]
  },
  {
   "cell_type": "markdown",
   "id": "bf12d985-7da8-448c-a625-f7bb7ddc5cde",
   "metadata": {},
   "source": [
    "**key**\n",
    "\n",
    "Both the list.sort() method and the built-in sorted() function have an optional key argument. The key specifies a function to be applied to each element prior to being compared."
   ]
  },
  {
   "cell_type": "code",
   "execution_count": 42,
   "id": "acc7263b-f07c-49c9-99e0-99709ed7bd58",
   "metadata": {},
   "outputs": [
    {
     "name": "stdin",
     "output_type": "stream",
     "text": [
      "Enter name:  riyadh\n",
      "Enter name:  Moscow\n",
      "Enter name:  washington\n",
      "Enter name:  edinburgh\n",
      "Enter name:  exit\n"
     ]
    },
    {
     "name": "stdout",
     "output_type": "stream",
     "text": [
      "Sorting without key: ['Moscow', 'edinburgh', 'riyadh', 'washington']\n",
      "Sorting with key:  ['edinburgh', 'Moscow', 'riyadh', 'washington']\n"
     ]
    }
   ],
   "source": [
    "names = []\n",
    "prompt = 'Enter name: '\n",
    "\n",
    "user_input = input(prompt)\n",
    "\n",
    "while user_input != 'exit':\n",
    "    names.append(user_input)\n",
    "    user_input = input(prompt)\n",
    "\n",
    "no_key_sort = sorted(names)\n",
    "key_sort = sorted(names, key=str.lower)\n",
    "\n",
    "print(f'Sorting without key: {no_key_sort}')\n",
    "print(f'Sorting with key:  {key_sort}')"
   ]
  },
  {
   "cell_type": "code",
   "execution_count": 46,
   "id": "611c7efd-bb98-49ba-a12f-231a58b54187",
   "metadata": {},
   "outputs": [
    {
     "name": "stdout",
     "output_type": "stream",
     "text": [
      "Sorted list: [[25], [15, 25, 35], [10, 15]]\n"
     ]
    }
   ],
   "source": [
    "my_list = [[25], [15, 25, 35], [10, 15]]\n",
    "\n",
    "sorted_list = sorted(my_list, reverse=True)\n",
    "\n",
    "print(f'Sorted list: {sorted_list}')"
   ]
  },
  {
   "cell_type": "markdown",
   "id": "8004497f-18d4-4b3f-9134-6ecbb947307f",
   "metadata": {},
   "source": [
    "### 1.8 Command-line arguments"
   ]
  },
  {
   "cell_type": "code",
   "execution_count": null,
   "id": "401e701d-5d63-4b76-bdcb-dcedd9af4c28",
   "metadata": {},
   "outputs": [],
   "source": [
    "## > python myprog.py Aisha 30\n",
    "\n",
    "import sys\n",
    "\n",
    "if len(sys.argv) != 3:\n",
    "    print('Usage: python myprog.py name age\\n')\n",
    "    sys.exit(1)  # Exit the program, indicating an error with 1.\n",
    "    \n",
    "name = sys.argv[1]\n",
    "age = int(sys.argv[2])\n",
    "\n",
    "print(f'Hello {name}.')\n",
    "print(f'{age} is a great age.\\n'"
   ]
  }
 ],
 "metadata": {
  "kernelspec": {
   "display_name": "Python 3 (ipykernel)",
   "language": "python",
   "name": "python3"
  },
  "language_info": {
   "codemirror_mode": {
    "name": "ipython",
    "version": 3
   },
   "file_extension": ".py",
   "mimetype": "text/x-python",
   "name": "python",
   "nbconvert_exporter": "python",
   "pygments_lexer": "ipython3",
   "version": "3.12.1"
  }
 },
 "nbformat": 4,
 "nbformat_minor": 5
}
