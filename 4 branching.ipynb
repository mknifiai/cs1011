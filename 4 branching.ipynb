{
 "cells": [
  {
   "cell_type": "markdown",
   "id": "0934d063-09f4-4ac4-bd95-6682bf59c60f",
   "metadata": {},
   "source": [
    "## Branching"
   ]
  },
  {
   "cell_type": "markdown",
   "id": "0cdfa613-703d-4337-9ef4-b5b402436f18",
   "metadata": {},
   "source": [
    "### Conditional execution\n",
    "\n",
    "**branch**\n",
    "  \n",
    "A branch is a sequence of statements only executed under a certain condition.\n",
    "\n",
    "**if**\n",
    "\n",
    "An if branch is a branch taken only if an expression is true."
   ]
  },
  {
   "cell_type": "code",
   "execution_count": 3,
   "id": "8b770ef3-cd4d-4f42-89b9-8c4edfe09246",
   "metadata": {},
   "outputs": [
    {
     "name": "stdout",
     "output_type": "stream",
     "text": [
      "x is positive\n",
      "Done\n"
     ]
    }
   ],
   "source": [
    "x = 5\n",
    "\n",
    "if x > 0 :\n",
    "    print('x is positive')\n",
    "\n",
    "print('Done')"
   ]
  },
  {
   "cell_type": "markdown",
   "id": "467a6bc6-bce7-4800-abcc-3d9fb46f63c4",
   "metadata": {},
   "source": [
    "### Alternative execution\n",
    "\n",
    "**if-else**\n",
    "\n",
    "An if-else branch has two branches: The first branch is executed if an expression is true, else the other branch is executed."
   ]
  },
  {
   "cell_type": "code",
   "execution_count": 4,
   "id": "480dd902-e67d-4b7c-baf1-60f2944f97d0",
   "metadata": {},
   "outputs": [
    {
     "name": "stdout",
     "output_type": "stream",
     "text": [
      "x is odd\n",
      "Done\n"
     ]
    }
   ],
   "source": [
    "x = 5\n",
    "\n",
    "if x % 2 == 0:\n",
    "    print('x is even')\n",
    "else:\n",
    "    print('x is odd')\n",
    "\n",
    "print('Done')"
   ]
  },
  {
   "cell_type": "markdown",
   "id": "a8aa7354-bec5-44b4-8859-2affa4aa76b9",
   "metadata": {},
   "source": [
    "### Chained conditionals\n",
    "\n",
    "\n",
    "Sometimes there are more than two possibilities and we need more than two branches. \n",
    "\n",
    "One way to express a computation like that is a **chained conditional**:"
   ]
  },
  {
   "cell_type": "code",
   "execution_count": 5,
   "id": "751c4240-386e-48ad-9530-afe1ed6b81eb",
   "metadata": {},
   "outputs": [
    {
     "name": "stdout",
     "output_type": "stream",
     "text": [
      "x is less than y\n",
      "Done\n"
     ]
    }
   ],
   "source": [
    "x = 5\n",
    "y = 8\n",
    "\n",
    "if x < y:\n",
    "    print('x is less than y')\n",
    "elif x > y:\n",
    "    print('x is greater than y')\n",
    "else:\n",
    "    print('x and y are equal')\n",
    "\n",
    "print('Done')"
   ]
  },
  {
   "cell_type": "markdown",
   "id": "a363effe-3ba0-42ef-808d-34b099731661",
   "metadata": {},
   "source": [
    "### Nested conditionals"
   ]
  },
  {
   "cell_type": "code",
   "execution_count": 7,
   "id": "e834b34b-ae19-4452-93ba-09a2fedeac5b",
   "metadata": {},
   "outputs": [
    {
     "name": "stdout",
     "output_type": "stream",
     "text": [
      "x is less than y\n",
      "Done\n"
     ]
    }
   ],
   "source": [
    "\n",
    "x = 5\n",
    "y = 8\n",
    "\n",
    "if x == y:\n",
    "    print('x and y are equal')\n",
    "else:\n",
    "    if x < y:\n",
    "        print('x is less than y')\n",
    "    else:\n",
    "        print('x is greater than y')\n",
    "\n",
    "print('Done')"
   ]
  },
  {
   "cell_type": "code",
   "execution_count": 8,
   "id": "5968d859-d266-41de-abbc-737d4ca9a6c3",
   "metadata": {},
   "outputs": [
    {
     "name": "stdout",
     "output_type": "stream",
     "text": [
      "a\n"
     ]
    }
   ],
   "source": [
    "x = 3\n",
    "\n",
    "if (x < 5) and (x > 2):\n",
    "    print('a')\n",
    "else:\n",
    "    print('b')"
   ]
  },
  {
   "cell_type": "markdown",
   "id": "abdeacb7-05b7-4d6c-8f32-9039ba6dd00f",
   "metadata": {},
   "source": [
    "We see the **equality operator (==)** which evaluates to True if the left and right sides are equal.\n",
    "\n",
    "**The inequality operator (!=)** evaluates to True if the left and right sides are not equal, or different.\n",
    "\n",
    "**The relational operator (>=, <=, <, >)** checks how one operand's value relates to another, such as being greater than.\n",
    "\n",
    "**A logical operator (AND, OR, and NOT)** treats operands as being True or False, and evaluates to True or False. Logical operators include."
   ]
  },
  {
   "cell_type": "code",
   "execution_count": null,
   "id": "a1c697a7-0e06-4ec3-a492-5732808bf350",
   "metadata": {},
   "outputs": [],
   "source": [
    "user_age = int(input('Enter your age: '))\n",
    "\n",
    "if user_age < 16:          # Age 15 and under\n",
    "  print('Too young.')\n",
    "  insurance_price = 0\n",
    "\n",
    "elif user_age < 25:        # Age 16 - 24\n",
    "  insurance_price = 4800\n",
    "\n",
    "elif user_age < 40:         # Age 25 - 39\n",
    "  insurance_price = 2350\n",
    "\n",
    "else:                      # Age 40 and up\n",
    "  insurance_price = 2100\n",
    "\n",
    "print(f'Annual price: ${insurance_price}')"
   ]
  },
  {
   "cell_type": "markdown",
   "id": "50d743bc-6cf5-46a2-b3a4-46eab8e34144",
   "metadata": {},
   "source": [
    "### Membership and identity operators\n",
    "\n",
    "The in and not in operators, known as membership operators, yield True or False if the left operand matches the value of an element in the right operand, which is always a container."
   ]
  },
  {
   "cell_type": "code",
   "execution_count": null,
   "id": "65b96579-466b-411c-8cc3-7184b895e8d7",
   "metadata": {},
   "outputs": [],
   "source": [
    "# Use the \"in\" operator\n",
    "barcelona_fc_roster = ['Alves', 'Messi', 'Fabregas']\n",
    "\n",
    "name = input('Enter name to check: ')\n",
    "\n",
    "if name in barcelona_fc_roster:\n",
    "    print(f'Found {name} on the roster.')\n",
    "else:\n",
    "    print(f'Could not find {name} on the roster.')"
   ]
  },
  {
   "cell_type": "code",
   "execution_count": null,
   "id": "4211b1fe-7c47-4b73-a973-c8ab9fb10b08",
   "metadata": {},
   "outputs": [],
   "source": [
    "# Use the \"not in\" operator\n",
    "barcelona_fc_roster = ['Alves', 'Messi', 'Fabregas']\n",
    "\n",
    "name = input('Enter name to check: ')\n",
    "\n",
    "if name not in barcelona_fc_roster:\n",
    "    print(f'Could not find {name} on the roster.')\n",
    "else:\n",
    "    print(f'Found {name} on the roster.')"
   ]
  },
  {
   "cell_type": "markdown",
   "id": "e60f9b3b-015e-40e6-b20d-e452cc98c949",
   "metadata": {},
   "source": [
    "### substring\n",
    "A substring, or matching subset of characters, of a larger string."
   ]
  },
  {
   "cell_type": "code",
   "execution_count": 12,
   "id": "4477a840-a89c-4785-8267-3b78d198a7d9",
   "metadata": {},
   "outputs": [
    {
     "name": "stdout",
     "output_type": "stream",
     "text": [
      "HTTP protocol 1.1\n",
      "Unsecured connection\n"
     ]
    }
   ],
   "source": [
    "request_str = 'GET index.html HTTP/1.1'\n",
    "\n",
    "if '/1.1' in request_str:\n",
    "    print('HTTP protocol 1.1')\n",
    "\n",
    "if 'HTTPS' not in request_str:\n",
    "    print('Unsecured connection')"
   ]
  },
  {
   "cell_type": "code",
   "execution_count": 13,
   "id": "01aadacc-fcf5-4a37-a5cd-519846ee930a",
   "metadata": {},
   "outputs": [
    {
     "name": "stdout",
     "output_type": "stream",
     "text": [
      "Found 'B'\n",
      "3 not found\n"
     ]
    }
   ],
   "source": [
    "my_dict = {'A': 1, 'B': 2, 'C': 3}\n",
    "\n",
    "if 'B' in my_dict:\n",
    "   print(\"Found 'B'\")\n",
    "else:\n",
    "   print(\"'B' not found\")\n",
    "\n",
    "# Membership operator does not check values\n",
    "if 3 in my_dict:\n",
    "    print('Found 3')\n",
    "else:\n",
    "    print('3 not found')"
   ]
  },
  {
   "cell_type": "markdown",
   "id": "8b60b584-496f-499c-b626-4c6235845294",
   "metadata": {},
   "source": [
    "### identity operator / is\n",
    "The programmer can use the identity operator, is, to check whether two operands are bound to a single object.\n",
    "\n",
    "### is not\n",
    "The inverse identity operator, is not, gives the negated value of \"is\"."
   ]
  },
  {
   "cell_type": "code",
   "execution_count": 11,
   "id": "0bbe085c-de7d-4ba8-a0c9-f4720d6125b6",
   "metadata": {},
   "outputs": [
    {
     "name": "stdout",
     "output_type": "stream",
     "text": [
      "z and x are bound to the same object\n",
      "z and y are NOT bound to the same object\n"
     ]
    }
   ],
   "source": [
    "w = 500\n",
    "x = 500 + 500  # Create a new object with value 1000\n",
    "y = w + w      # Create a second object with value 1000\n",
    "z = x          # Bind z to the same object as x\n",
    "\n",
    "if z is x:\n",
    "    print('z and x are bound to the same object')\n",
    "if z is not y:\n",
    "    print('z and y are NOT bound to the same object')"
   ]
  },
  {
   "cell_type": "markdown",
   "id": "a8c2739d-06a7-477c-99b1-305a0689e70c",
   "metadata": {},
   "source": [
    "### Order of evaluation"
   ]
  },
  {
   "cell_type": "markdown",
   "id": "08e81f80-e113-42d1-93c3-7538b0fc367a",
   "metadata": {},
   "source": [
    "<img src=\"img/precedence.png\" width=450 height=450 />"
   ]
  },
  {
   "cell_type": "markdown",
   "id": "c5e0e84f-424d-48df-96de-5e7ea1d0d59e",
   "metadata": {},
   "source": [
    "### Conditional expressions"
   ]
  },
  {
   "cell_type": "markdown",
   "id": "ea850fee-1bfb-422f-9c6b-f5ebc9d84725",
   "metadata": {},
   "source": [
    "expr_when_true **if** condition **else** expr_when_false"
   ]
  },
  {
   "cell_type": "code",
   "execution_count": 14,
   "id": "c6fc9a14-b287-49b6-bcaa-bfaf3bd18adf",
   "metadata": {},
   "outputs": [
    {
     "name": "stdout",
     "output_type": "stream",
     "text": [
      "1\n"
     ]
    }
   ],
   "source": [
    "my_number = 6\n",
    "your_number = 1 if my_number >= 6 else 3\n",
    "print(your_number)"
   ]
  },
  {
   "cell_type": "code",
   "execution_count": null,
   "id": "7920264f-8540-41fc-84b0-604bc7548512",
   "metadata": {},
   "outputs": [],
   "source": []
  }
 ],
 "metadata": {
  "kernelspec": {
   "display_name": "Python 3 (ipykernel)",
   "language": "python",
   "name": "python3"
  },
  "language_info": {
   "codemirror_mode": {
    "name": "ipython",
    "version": 3
   },
   "file_extension": ".py",
   "mimetype": "text/x-python",
   "name": "python",
   "nbconvert_exporter": "python",
   "pygments_lexer": "ipython3",
   "version": "3.12.1"
  }
 },
 "nbformat": 4,
 "nbformat_minor": 5
}
