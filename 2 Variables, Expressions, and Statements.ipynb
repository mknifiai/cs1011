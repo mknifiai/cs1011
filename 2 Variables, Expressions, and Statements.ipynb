{
 "cells": [
  {
   "cell_type": "markdown",
   "id": "32bf17c6-749a-41e1-b2b2-aae95ab1cdaa",
   "metadata": {},
   "source": [
    "# Variables, Expressions, and Statements"
   ]
  },
  {
   "cell_type": "markdown",
   "id": "03e1023d-ee40-4124-bbf3-f8b889476820",
   "metadata": {},
   "source": [
    "### Basic Types in Python\n",
    "\n",
    "**Numerics**: Booleans, integers, floating point numbers, and imaginary numbers\n",
    "\n",
    "**Sequences**: Strings and binary strings"
   ]
  },
  {
   "cell_type": "code",
   "execution_count": 4,
   "id": "b75f0f81-db9c-44d0-a685-eff6f1c8d5da",
   "metadata": {},
   "outputs": [
    {
     "data": {
      "text/plain": [
       "float"
      ]
     },
     "execution_count": 4,
     "metadata": {},
     "output_type": "execute_result"
    }
   ],
   "source": [
    "type(4.1)"
   ]
  },
  {
   "cell_type": "code",
   "execution_count": 5,
   "id": "2776c432-9fa5-4b82-be0c-7a1e28e40859",
   "metadata": {},
   "outputs": [
    {
     "data": {
      "text/plain": [
       "bool"
      ]
     },
     "execution_count": 5,
     "metadata": {},
     "output_type": "execute_result"
    }
   ],
   "source": [
    "type(True)"
   ]
  },
  {
   "cell_type": "code",
   "execution_count": 9,
   "id": "f5cfe4e0-0c16-4798-816e-09445a17ecd6",
   "metadata": {},
   "outputs": [
    {
     "data": {
      "text/plain": [
       "int"
      ]
     },
     "execution_count": 9,
     "metadata": {},
     "output_type": "execute_result"
    }
   ],
   "source": [
    "type(55)"
   ]
  },
  {
   "cell_type": "markdown",
   "id": "5dfd5f09-4e0d-40f1-9631-71fe21b0716b",
   "metadata": {},
   "source": [
    "**scientific notation**\n"
   ]
  },
  {
   "cell_type": "code",
   "execution_count": 14,
   "id": "328b767a-9058-49f9-bac6-e7eadc3ce616",
   "metadata": {},
   "outputs": [
    {
     "name": "stdout",
     "output_type": "stream",
     "text": [
      "4184000000.0\n",
      "0.0004184\n"
     ]
    }
   ],
   "source": [
    "pton = 4.184e9\n",
    "nton = 4.184e-4\n",
    "\n",
    "print(pton)\n",
    "print(nton)"
   ]
  },
  {
   "cell_type": "markdown",
   "id": "9014417e-67a3-47b0-8554-c0fec24753b9",
   "metadata": {},
   "source": [
    "### Statements"
   ]
  },
  {
   "cell_type": "markdown",
   "id": "fdc6227d-1fca-4428-9bd1-34907ef77383",
   "metadata": {},
   "source": [
    "A statement is a unit of code that the Python interpreter can execute"
   ]
  },
  {
   "cell_type": "markdown",
   "id": "502dbea1-f870-4f83-b30b-d6721a4c968c",
   "metadata": {},
   "source": [
    "**Expression Statements**\n",
    "A Python expression is a piece of code that evaluates to a value (or to None) "
   ]
  },
  {
   "cell_type": "markdown",
   "id": "ab754f51-13e5-4c2e-9849-97a140f4ec51",
   "metadata": {},
   "source": [
    "    - a mathematical expression or a call to a function or method"
   ]
  },
  {
   "cell_type": "code",
   "execution_count": 9,
   "id": "3d4a31d0-2eee-4d30-bda4-f8ebdf049b6a",
   "metadata": {},
   "outputs": [
    {
     "data": {
      "text/plain": [
       "966"
      ]
     },
     "execution_count": 9,
     "metadata": {},
     "output_type": "execute_result"
    }
   ],
   "source": [
    "23 * 42"
   ]
  },
  {
   "cell_type": "markdown",
   "id": "045205e1-224b-43ee-98c9-36e16ee558e8",
   "metadata": {},
   "source": [
    "**Assignment Statements** \n",
    "\n",
    "**A variable** is a name that holds a value. \n",
    "\n",
    "- It is important to understand that, in an assignment statement, the variable points to the data and is not the data itself."
   ]
  },
  {
   "cell_type": "code",
   "execution_count": 13,
   "id": "2d491c64-32d2-4f28-ba2a-731a8ccbd129",
   "metadata": {},
   "outputs": [],
   "source": [
    "x = 12\n",
    "y = 'Hello'"
   ]
  },
  {
   "cell_type": "code",
   "execution_count": 19,
   "id": "944b9d02-2594-46ad-9ecf-d05a5c4db0b2",
   "metadata": {},
   "outputs": [],
   "source": [
    "x, y, z = 1,'a',3.0"
   ]
  },
  {
   "cell_type": "code",
   "execution_count": 1,
   "id": "a4545f83-237f-4c64-9363-6bbf395e846a",
   "metadata": {},
   "outputs": [
    {
     "name": "stdout",
     "output_type": "stream",
     "text": [
      "9\n"
     ]
    }
   ],
   "source": [
    "x = 5\n",
    "y = 8\n",
    "x = 9\n",
    "print(x)"
   ]
  },
  {
   "cell_type": "markdown",
   "id": "a57f5d85-33ec-4bf7-a927-5f6a0c28c81a",
   "metadata": {},
   "source": [
    "**identifier**\n",
    "\n",
    "An identifier, also called a name, is a sequence of letters (a-z, A-Z), underscores (_), and digits (0–9), and must start with a letter or an underscore."
   ]
  },
  {
   "cell_type": "markdown",
   "id": "3e73dbe1-ad49-49d6-865c-9bce2bdebe40",
   "metadata": {},
   "source": [
    "**Reserved words / keywords**\n",
    "\n",
    "Reserved words, or keywords, are words that are part of the language and cannot be used as a programmer-defined name."
   ]
  },
  {
   "cell_type": "markdown",
   "id": "6fc78357-f398-48b2-af1b-6dd2ef99ed74",
   "metadata": {},
   "source": [
    "<img src=\"img/keywords.png\" width=400 height=400 />"
   ]
  },
  {
   "cell_type": "markdown",
   "id": "28d7ac18-cd64-46a2-bea9-87ea00cb3809",
   "metadata": {},
   "source": [
    "**Print statements**"
   ]
  },
  {
   "cell_type": "code",
   "execution_count": 29,
   "id": "8b358ecc-11ff-4cdb-bd65-8835a056bf41",
   "metadata": {},
   "outputs": [
    {
     "name": "stdout",
     "output_type": "stream",
     "text": [
      "1 -> b\n"
     ]
    }
   ],
   "source": [
    "print(1 ,' b',sep=' ->')"
   ]
  },
  {
   "cell_type": "code",
   "execution_count": 30,
   "id": "9fdf2cac-e239-4937-80e8-ee9992605dce",
   "metadata": {},
   "outputs": [
    {
     "name": "stdout",
     "output_type": "stream",
     "text": [
      "1 -> b\n"
     ]
    }
   ],
   "source": [
    "print(f'1 -> b')"
   ]
  },
  {
   "cell_type": "markdown",
   "id": "64bbb7aa-6977-43c0-a1d6-1723194f77f7",
   "metadata": {},
   "source": [
    "### Operators and operands"
   ]
  },
  {
   "cell_type": "markdown",
   "id": "76b603f7-56c7-4cfd-a61b-67101dc2d5c7",
   "metadata": {},
   "source": [
    "Operators are special symbols that represent computations like addition and multiplication. The values the operator is applied to are called operands.\n",
    "\n",
    "The operators +, -, *, /, %, and ** perform addition, subtraction, multiplication, division, remainder, and exponentiation"
   ]
  },
  {
   "cell_type": "code",
   "execution_count": 22,
   "id": "347ae881-0c81-48e4-b6b9-911443a61af4",
   "metadata": {},
   "outputs": [
    {
     "data": {
      "text/plain": [
       "0"
      ]
     },
     "execution_count": 22,
     "metadata": {},
     "output_type": "execute_result"
    }
   ],
   "source": [
    "3//4"
   ]
  },
  {
   "cell_type": "markdown",
   "id": "2befb660-8079-4a8c-b225-05a39dfdc670",
   "metadata": {},
   "source": [
    "- With remiander you can you can check whether one number is divisible by another: if x % y is zero, then x is divisible by y.\n",
    "\n",
    "- Also you can extract the right-most digit or digits from a number. For example, x % 10 yields the right-most digit of x (in base 10). Similarly, x % 100 yields the last two digits."
   ]
  },
  {
   "cell_type": "code",
   "execution_count": 34,
   "id": "4adf90be-b0c7-4a81-b821-ff471fc4c892",
   "metadata": {},
   "outputs": [
    {
     "name": "stdout",
     "output_type": "stream",
     "text": [
      "5\n",
      "45\n"
     ]
    }
   ],
   "source": [
    "x = 55592345\n",
    "print(x % 10)\n",
    "print(x % 100)"
   ]
  },
  {
   "cell_type": "markdown",
   "id": "1cddf5aa-9e50-4af0-a9ec-eb15d47a9bf0",
   "metadata": {},
   "source": [
    "### Order of operations"
   ]
  },
  {
   "cell_type": "markdown",
   "id": "f4006769-b6bb-43ee-b253-99d62a48b2df",
   "metadata": {},
   "source": [
    "1- Parentheses have the highest precedence\n",
    "\n",
    "2- Exponentiation \n",
    "\n",
    "3- Multiplication and Division\n",
    "\n",
    "4-  Operators with the same precedence are evaluated from left to right\n"
   ]
  },
  {
   "cell_type": "code",
   "execution_count": 31,
   "id": "89729e31-c4a8-44b5-8040-44a5aa126f22",
   "metadata": {},
   "outputs": [],
   "source": [
    "x = 2 * (3-1) / 2 %"
   ]
  },
  {
   "cell_type": "markdown",
   "id": "d417e95d-cf5b-450a-8b58-dc88c9684242",
   "metadata": {},
   "source": [
    "#### compound operators / += / -= / *= / /= / %=\n",
    "\n",
    "Special operators called compound operators provide a shorthand way to update a variable, such as age += 1 being shorthand for age = age + 1. Other compound operators include -=, *=, /=, and %=."
   ]
  },
  {
   "cell_type": "code",
   "execution_count": 16,
   "id": "4d91ce31-dab0-4fa3-baf5-62caaa106291",
   "metadata": {},
   "outputs": [
    {
     "name": "stdout",
     "output_type": "stream",
     "text": [
      "7\n"
     ]
    }
   ],
   "source": [
    "x = 5\n",
    "y = 2\n",
    "\n",
    "y += x\n",
    "\n",
    "print(y)"
   ]
  },
  {
   "cell_type": "markdown",
   "id": "f4c2bff5-0346-4ecd-a753-425cf6c41a27",
   "metadata": {},
   "source": [
    "### String operations"
   ]
  },
  {
   "cell_type": "code",
   "execution_count": 35,
   "id": "9fd19f68-7099-4425-a09f-8acfaac7ebf7",
   "metadata": {},
   "outputs": [
    {
     "name": "stdout",
     "output_type": "stream",
     "text": [
      "25\n",
      "100150\n"
     ]
    }
   ],
   "source": [
    "first = 10\n",
    "second = 15\n",
    "print(first+second)\n",
    "\n",
    "first = '100'\n",
    "second = '150'\n",
    "print(first + second)"
   ]
  },
  {
   "cell_type": "code",
   "execution_count": 36,
   "id": "b8582774-d1ff-4e61-8135-a18bfc1771ff",
   "metadata": {},
   "outputs": [
    {
     "name": "stdout",
     "output_type": "stream",
     "text": [
      "Test Test Test \n"
     ]
    }
   ],
   "source": [
    "first = 'Test '\n",
    "second = 3\n",
    "print(first * second)"
   ]
  },
  {
   "cell_type": "markdown",
   "id": "44b17914-aa8e-4375-b18c-d9eb5028a5bc",
   "metadata": {},
   "source": [
    "### Asking the user for input"
   ]
  },
  {
   "cell_type": "markdown",
   "id": "91b67c6a-923b-4977-b074-98a38b63c466",
   "metadata": {},
   "source": [
    "- Python provides a built-in function called input that gets input from the keyboard.\n",
    "- It returns what the user typed as a string."
   ]
  },
  {
   "cell_type": "code",
   "execution_count": 37,
   "id": "fd109c74-0d98-42eb-b6a1-a41ede4ed070",
   "metadata": {},
   "outputs": [
    {
     "name": "stdin",
     "output_type": "stream",
     "text": [
      "What is your name?\n",
      " Ali\n"
     ]
    }
   ],
   "source": [
    "name = input('What is your name?\\n')"
   ]
  },
  {
   "cell_type": "code",
   "execution_count": 38,
   "id": "16106612-dc95-4c78-b691-7af04657e122",
   "metadata": {},
   "outputs": [
    {
     "data": {
      "text/plain": [
       "str"
      ]
     },
     "execution_count": 38,
     "metadata": {},
     "output_type": "execute_result"
    }
   ],
   "source": [
    "type(name)"
   ]
  },
  {
   "cell_type": "code",
   "execution_count": 39,
   "id": "5c29c1fb-1b67-4a50-a27f-55a7a4a7690f",
   "metadata": {},
   "outputs": [
    {
     "name": "stdin",
     "output_type": "stream",
     "text": [
      "How old are you?\n",
      " 20\n"
     ]
    }
   ],
   "source": [
    "age = int(input('How old are you?\\n'))"
   ]
  },
  {
   "cell_type": "code",
   "execution_count": 40,
   "id": "032339f2-8f82-4d80-ac0f-afe35628aaf1",
   "metadata": {},
   "outputs": [
    {
     "data": {
      "text/plain": [
       "int"
      ]
     },
     "execution_count": 40,
     "metadata": {},
     "output_type": "execute_result"
    }
   ],
   "source": [
    "type(age)"
   ]
  },
  {
   "cell_type": "markdown",
   "id": "0b8e3675-95a7-4a6a-9b1d-49f8cb85dc60",
   "metadata": {},
   "source": [
    "The sequence \\n at the end of the prompt represents a newline, which is a special character that causes a line break"
   ]
  },
  {
   "cell_type": "markdown",
   "id": "c71322b2-4e17-4eec-8bf2-3a188afb59fb",
   "metadata": {},
   "source": [
    "### object\n",
    "\n",
    "An object represents a value and is automatically created by the interpreter when executing a line of code. \n",
    "\n",
    "For example, executing x = 4 creates a new object to represent the value 4."
   ]
  },
  {
   "cell_type": "code",
   "execution_count": 5,
   "id": "3622fb96-bdf0-4ade-8749-e0fc3fe69c76",
   "metadata": {},
   "outputs": [],
   "source": [
    "x = 7"
   ]
  },
  {
   "cell_type": "code",
   "execution_count": 6,
   "id": "4173b0e5-b19e-4d72-903f-cf5e03c6e765",
   "metadata": {},
   "outputs": [
    {
     "data": {
      "text/plain": [
       "b'\\x07'"
      ]
     },
     "execution_count": 6,
     "metadata": {},
     "output_type": "execute_result"
    }
   ],
   "source": [
    "x.to_bytes()"
   ]
  },
  {
   "cell_type": "markdown",
   "id": "24392d36-f122-4fc0-a605-e4f25df7e815",
   "metadata": {},
   "source": [
    "**id()**\n",
    "\n",
    "Python provides a built-in function id() that gives the value of an object's identity."
   ]
  },
  {
   "cell_type": "code",
   "execution_count": 7,
   "id": "89b1f8d4-5f8a-4638-9d8b-3d85c8a91c31",
   "metadata": {},
   "outputs": [
    {
     "name": "stdout",
     "output_type": "stream",
     "text": [
      "4305393552\n",
      "4304938352\n"
     ]
    }
   ],
   "source": [
    "x = 2 + 2           # Create a new object with a value of 4, referenced by 'x'\n",
    "print(id(x))        # Print the identity (memory address) of the x object\n",
    "\n",
    "print(id('ABC'))    # Create and print the identity of a string ('ABC') object"
   ]
  },
  {
   "cell_type": "markdown",
   "id": "bbfe12c0-c17b-47d5-bf57-8d6c08491ff1",
   "metadata": {},
   "source": [
    "**garbage collection**\n",
    "  \n",
    "Deleting unused objects is an automatic process called garbage collection that frees memory space."
   ]
  },
  {
   "cell_type": "markdown",
   "id": "629146bd-acc1-42cc-a94a-7309c619e333",
   "metadata": {},
   "source": [
    "### Comments"
   ]
  },
  {
   "cell_type": "markdown",
   "id": "2d007e8a-5a4b-491d-a0ce-df7c3023447a",
   "metadata": {},
   "source": [
    "It is a good idea to add notes to your programs to explain in natural language what the program is doing."
   ]
  },
  {
   "cell_type": "code",
   "execution_count": null,
   "id": "1992546e-2b35-4605-bbd7-debb954895bd",
   "metadata": {},
   "outputs": [],
   "source": [
    "# compute the percentage of the hour that has elapsed\n",
    "percentage = (minute * 100) / 60"
   ]
  },
  {
   "cell_type": "code",
   "execution_count": null,
   "id": "266f4e09-0345-427c-9b54-001cb8ca9a88",
   "metadata": {},
   "outputs": [],
   "source": [
    "percentage = (minute * 100) / 60     # percentage of an hour"
   ]
  },
  {
   "cell_type": "code",
   "execution_count": null,
   "id": "149ec08e-384b-4402-b1fb-d483b31ae87e",
   "metadata": {},
   "outputs": [],
   "source": [
    "'''\n",
    "a multiline comments\n",
    "'''"
   ]
  },
  {
   "cell_type": "markdown",
   "id": "c46fd263-bad4-4269-8762-73af87a2af7f",
   "metadata": {},
   "source": [
    "### Choosing mnemonic variable names"
   ]
  },
  {
   "cell_type": "code",
   "execution_count": null,
   "id": "ab70a2a5-2105-42a7-8cbb-ff045b8cdb40",
   "metadata": {},
   "outputs": [],
   "source": [
    "x1q3z9ahd = 35.0\n",
    "x1q3z9afd = 12.50\n",
    "x1q3p9afd = x1q3z9ahd * x1q3z9afd\n",
    "print(x1q3p9afd)"
   ]
  },
  {
   "cell_type": "code",
   "execution_count": null,
   "id": "90edcb81-3329-4cd2-a0d4-e8607898643d",
   "metadata": {},
   "outputs": [],
   "source": [
    "hours = 35.0\n",
    "rate = 12.50\n",
    "pay = hours * rate\n",
    "print(pay)"
   ]
  },
  {
   "cell_type": "markdown",
   "id": "c550ad98-955d-4632-9b97-58306a8cb30f",
   "metadata": {},
   "source": [
    "### Exercise: \n",
    "\n",
    "Write a program to prompt the user for hours and rate per hour to compute gross pay."
   ]
  },
  {
   "cell_type": "code",
   "execution_count": null,
   "id": "1efb3d0e-898b-4d7f-825f-02190786b03e",
   "metadata": {},
   "outputs": [],
   "source": [
    "Enter Hours: 35\n",
    "Enter Rate: 2.75\n",
    "Pay: 96.25"
   ]
  },
  {
   "cell_type": "code",
   "execution_count": null,
   "id": "4c01406b-1710-47c0-89e0-13b0da2c5e72",
   "metadata": {},
   "outputs": [],
   "source": []
  }
 ],
 "metadata": {
  "kernelspec": {
   "display_name": "Python 3 (ipykernel)",
   "language": "python",
   "name": "python3"
  },
  "language_info": {
   "codemirror_mode": {
    "name": "ipython",
    "version": 3
   },
   "file_extension": ".py",
   "mimetype": "text/x-python",
   "name": "python",
   "nbconvert_exporter": "python",
   "pygments_lexer": "ipython3",
   "version": "3.12.1"
  }
 },
 "nbformat": 4,
 "nbformat_minor": 5
}
