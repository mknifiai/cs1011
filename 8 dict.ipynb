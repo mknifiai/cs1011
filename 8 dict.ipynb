{
 "cells": [
  {
   "cell_type": "markdown",
   "id": "f97494bf-bd1f-4ba7-9ef1-4a989cd48d18",
   "metadata": {},
   "source": [
    "## Dictionaries"
   ]
  },
  {
   "cell_type": "markdown",
   "id": "953e04e8-fe5b-496f-ab2c-35c826d76941",
   "metadata": {},
   "source": [
    "**Common dict operations**"
   ]
  },
  {
   "cell_type": "code",
   "execution_count": null,
   "id": "d8a93d36-9d84-4a8e-995d-50f6dee0529b",
   "metadata": {},
   "outputs": [],
   "source": [
    "# Indexing operation — retrieves the value associated with key.\n",
    "jose_grade = my_dict['Jose']\n",
    "\n",
    "# Adds an entry if the entry does not exist, else modifies the existing entry.\n",
    "my_dict['Jose'] = 'B+'\n",
    "\n",
    "# Deletes the key from a dict.\n",
    "del my_dict['Jose']\n",
    "\n",
    "# Tests for existence of key in my_dict.\n",
    "if 'Jose' in my_dict: #"
   ]
  },
  {
   "cell_type": "code",
   "execution_count": 1,
   "id": "2cfbfc8b-77bb-4d6c-9c09-c305e74ba8ce",
   "metadata": {},
   "outputs": [
    {
     "name": "stdout",
     "output_type": "stream",
     "text": [
      "IAD\n",
      "CDG\n"
     ]
    }
   ],
   "source": [
    "airport_codes = {}\n",
    "airport_codes['Paris'] = 'CDG'\n",
    "airport_codes['Washington'] = 'IAD'\n",
    "airport_codes['Tokyo'] = 'NRT'\n",
    "\n",
    "print(airport_codes['Washington'])\n",
    "print(airport_codes['Paris'])"
   ]
  },
  {
   "cell_type": "markdown",
   "id": "6e0b07ec-1838-495a-8863-c79f46859144",
   "metadata": {},
   "source": [
    "### 1.1 Dictionary methods"
   ]
  },
  {
   "cell_type": "code",
   "execution_count": null,
   "id": "7d433f59-9c86-43be-9c0e-f27b861a34d7",
   "metadata": {},
   "outputs": [],
   "source": [
    "# Removes all items from the dictionary.\n",
    "my_dict = {'Ahmad': 1, 'Jane': 42}\n",
    "my_dict.clear()\n",
    "print(my_dict)"
   ]
  },
  {
   "cell_type": "code",
   "execution_count": null,
   "id": "bf85cd54-8411-4c40-ad91-53225a900c7f",
   "metadata": {},
   "outputs": [],
   "source": [
    "# Reads the value of the key from the dictionary. \n",
    "#If the key does not exist in the dictionary, then returns default.\n",
    "my_dict = {'Ahmad': 1, 'Jane': 42}\n",
    "print(my_dict.get('Jane', 'N/A'))\n",
    "print(my_dict.get('Chad', 'N/A'))"
   ]
  },
  {
   "cell_type": "code",
   "execution_count": null,
   "id": "356782f3-20bc-40c6-8796-d1a521e06f7c",
   "metadata": {},
   "outputs": [],
   "source": [
    "# Merges dictionary my_dict1 with another dictionary my_dict2. \n",
    "# Existing entries in my_dict1 are overwritten if the same keys exist in my_dict2.\n",
    "my_dict = {'Ahmad': 1, 'Jane': 42}\n",
    "my_dict.update({'John': 50})\n",
    "print(my_dict)"
   ]
  },
  {
   "cell_type": "code",
   "execution_count": null,
   "id": "8cbf3934-d0ea-4285-8d62-926b35f9ffea",
   "metadata": {},
   "outputs": [],
   "source": [
    "# Removes and returns the key value from the dictionary. \n",
    "# If key does not exist, then default is returned.\n",
    "my_dict = {'Ahmad': 1, 'Jane': 42}\n",
    "val = my_dict.pop('Ahmad')\n",
    "print(my_dict)"
   ]
  },
  {
   "cell_type": "code",
   "execution_count": null,
   "id": "b3193a46-d1f1-4ed2-a192-722c3c0b92e8",
   "metadata": {},
   "outputs": [],
   "source": []
  },
  {
   "cell_type": "code",
   "execution_count": null,
   "id": "ddb8dd86-b2ec-48df-9b4b-58bdad6bfe07",
   "metadata": {},
   "outputs": [],
   "source": []
  },
  {
   "cell_type": "markdown",
   "id": "fe2bf124-8d9b-47ed-a4b0-402f4563f6be",
   "metadata": {},
   "source": [
    "### 1.2 Iterating over a dictionary"
   ]
  },
  {
   "cell_type": "markdown",
   "id": "95b835f5-a390-4d6d-aec3-304a3defe6b7",
   "metadata": {},
   "source": [
    "**hash**\n",
    "A hash is a transformation of the key into a unique value that allows the interpreter to perform fast lookup."
   ]
  },
  {
   "cell_type": "code",
   "execution_count": null,
   "id": "53e840aa-c787-49f3-ab0a-0524082dc477",
   "metadata": {},
   "outputs": [],
   "source": [
    "for key in dictionary:  # Loop expression\n",
    "    # Statements to execute in the loop\n",
    "\n",
    "#Statements to execute after the loop"
   ]
  },
  {
   "cell_type": "markdown",
   "id": "c0760725-ed53-4121-aa16-a6f1b373ff59",
   "metadata": {},
   "source": [
    "**view object**"
   ]
  },
  {
   "cell_type": "code",
   "execution_count": 6,
   "id": "441aa96f-ba76-4ecb-b91a-f31dd0452257",
   "metadata": {},
   "outputs": [
    {
     "name": "stdout",
     "output_type": "stream",
     "text": [
      "Coke: 90\n",
      "Coke_zero: 0\n",
      "Pepsi: 94\n"
     ]
    }
   ],
   "source": [
    "num_calories = dict(Coke=90, Coke_zero=0, Pepsi=94)\n",
    "\n",
    "for soda, calories in num_calories.items():\n",
    "    print(f'{soda}: {calories}')"
   ]
  },
  {
   "cell_type": "code",
   "execution_count": 7,
   "id": "1e7b362f-b522-4aae-8f2b-d70a3b91a2e0",
   "metadata": {},
   "outputs": [
    {
     "name": "stdout",
     "output_type": "stream",
     "text": [
      "Coke\n",
      "Coke_zero\n",
      "Pepsi\n"
     ]
    }
   ],
   "source": [
    "for soda in num_calories.keys():\n",
    "    print(soda)"
   ]
  },
  {
   "cell_type": "code",
   "execution_count": 8,
   "id": "494adefe-b2e5-42d1-b2e9-68ddee12d99f",
   "metadata": {},
   "outputs": [
    {
     "name": "stdout",
     "output_type": "stream",
     "text": [
      "90\n",
      "0\n",
      "94\n"
     ]
    }
   ],
   "source": [
    "for calories in num_calories.values():\n",
    "    print(calories)"
   ]
  },
  {
   "cell_type": "markdown",
   "id": "cc3f0af6-6b9f-4e18-88f4-0b3cda6705db",
   "metadata": {},
   "source": [
    "### 1.3 Dictionary nesting"
   ]
  },
  {
   "cell_type": "markdown",
   "id": "4882e98a-0943-468b-91b6-5aaa2543b899",
   "metadata": {},
   "source": [
    "A dictionary may contain one or more nested dictionaries, in which the dictionary contains another dictionary as a value."
   ]
  },
  {
   "cell_type": "code",
   "execution_count": 2,
   "id": "4f169149-fc0b-4148-bf20-fc3728d4904d",
   "metadata": {},
   "outputs": [
    {
     "name": "stdout",
     "output_type": "stream",
     "text": [
      "Jose:\n",
      " Grade: A+\n",
      " ID: 22321\n"
     ]
    }
   ],
   "source": [
    "students = {}\n",
    "students ['Jose'] = {'Grade': 'A+', 'StudentID': 22321}\n",
    "\n",
    "print('Jose:')\n",
    "\n",
    "print(f' Grade: {students [\"Jose\"][\"Grade\"]}')\n",
    "\n",
    "print(f' ID: {students[\"Jose\"][\"StudentID\"]}')"
   ]
  },
  {
   "cell_type": "markdown",
   "id": "b1c4525e-e165-4c92-a62c-57247c94a736",
   "metadata": {},
   "source": [
    "**data structure**\n",
    "  \n",
    "A data structure is a method of organizing data in a logical and coherent fashion.\n"
   ]
  },
  {
   "cell_type": "code",
   "execution_count": 5,
   "id": "61c5bd76-ed9c-4399-8acd-6bda6fab48b4",
   "metadata": {},
   "outputs": [
    {
     "name": "stdin",
     "output_type": "stream",
     "text": [
      "Enter student name:  Ali\n"
     ]
    },
    {
     "name": "stdout",
     "output_type": "stream",
     "text": [
      "Homework 0: 79\n",
      "Homework 1: 80\n",
      "Homework 2: 74\n",
      "Midterm: 85\n",
      "Final: 92\n",
      "Final percentage: 82.0%\n"
     ]
    },
    {
     "name": "stdin",
     "output_type": "stream",
     "text": [
      "Enter student name:  Khaled\n"
     ]
    },
    {
     "name": "stdout",
     "output_type": "stream",
     "text": [
      "Homework 0: 90\n",
      "Homework 1: 92\n",
      "Homework 2: 65\n",
      "Midterm: 87\n",
      "Final: 75\n",
      "Final percentage: 81.8%\n"
     ]
    },
    {
     "name": "stdin",
     "output_type": "stream",
     "text": [
      "Enter student name:  Ahmed\n"
     ]
    },
    {
     "name": "stdout",
     "output_type": "stream",
     "text": [
      "Homework 0: 50\n",
      "Homework 1: 52\n",
      "Homework 2: 78\n",
      "Midterm: 40\n",
      "Final: 65\n",
      "Final percentage: 57.0%\n"
     ]
    },
    {
     "name": "stdin",
     "output_type": "stream",
     "text": [
      "Enter student name:  exit\n"
     ]
    }
   ],
   "source": [
    "grades = {\n",
    "    'Ali': {\n",
    "        'Homeworks': [79, 80, 74],\n",
    "        'Midterm': 85,\n",
    "        'Final': 92\n",
    "    },\n",
    "    'Khaled': {\n",
    "        'Homeworks': [90, 92, 65],\n",
    "        'Midterm': 87,\n",
    "        'Final': 75\n",
    "    },\n",
    "    'Ahmed': {\n",
    "        'Homeworks': [50, 52, 78],\n",
    "        'Midterm': 40,\n",
    "        'Final': 65\n",
    "    },\n",
    "}\n",
    "\n",
    "user_input = input('Enter student name: ')\n",
    "\n",
    "while user_input != 'exit':\n",
    "    if user_input in grades:\n",
    "        # Get values from nested dict\n",
    "        homeworks = grades[user_input]['Homeworks']\n",
    "        midterm = grades[user_input]['Midterm']\n",
    "        final = grades[user_input]['Final']\n",
    "\n",
    "        # print info\n",
    "        for hw, score in enumerate(homeworks):\n",
    "            \n",
    "            print(f'Homework {hw}: {score}')\n",
    "\n",
    "        \n",
    "        print(f'Midterm: {midterm}')\n",
    "        \n",
    "        print(f'Final: {final}')\n",
    "\n",
    "        # Compute student total score\n",
    "        total_points = sum([i for i in homeworks]) + midterm + final\n",
    "        \n",
    "        print(f'Final percentage: {100*(total_points / 500.0):.1f}%')\n",
    "\n",
    "    user_input = input('Enter student name: ')"
   ]
  },
  {
   "cell_type": "code",
   "execution_count": null,
   "id": "a5452c4f-e239-4232-a6dd-8f1fd512df1c",
   "metadata": {},
   "outputs": [],
   "source": []
  }
 ],
 "metadata": {
  "kernelspec": {
   "display_name": "Python 3 (ipykernel)",
   "language": "python",
   "name": "python3"
  },
  "language_info": {
   "codemirror_mode": {
    "name": "ipython",
    "version": 3
   },
   "file_extension": ".py",
   "mimetype": "text/x-python",
   "name": "python",
   "nbconvert_exporter": "python",
   "pygments_lexer": "ipython3",
   "version": "3.12.1"
  }
 },
 "nbformat": 4,
 "nbformat_minor": 5
}
