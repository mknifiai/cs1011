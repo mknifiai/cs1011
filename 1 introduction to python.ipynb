{
 "cells": [
  {
   "cell_type": "markdown",
   "id": "644b32b9-ffe1-4c9c-ab47-a48fcd5276e7",
   "metadata": {},
   "source": [
    "### 1. Introduction to Python"
   ]
  },
  {
   "cell_type": "markdown",
   "id": "f2acd604-ec8a-45e6-b1de-366ab6788801",
   "metadata": {},
   "source": [
    "**Running Python Statements**"
   ]
  },
  {
   "cell_type": "markdown",
   "id": "d2ba4649-dc68-4fc7-80ab-5db4ddc92471",
   "metadata": {},
   "source": [
    "- Install Python\n",
    "- open the terminal (console) and type python at the command line"
   ]
  },
  {
   "cell_type": "markdown",
   "id": "9e9ee582-6947-4d7d-8dbb-8e18629ac26c",
   "metadata": {},
   "source": [
    "### 1.1. Jupyter Notebook\n",
    "\n",
    "A notebook is an executable document that combines executable code with formatted text. \n",
    "\n",
    "A notebook is composed of cells, which contain code or text. "
   ]
  },
  {
   "cell_type": "markdown",
   "id": "3f33fffd-7edb-438d-aa19-2fa24a61f049",
   "metadata": {},
   "source": [
    "- We can run the Python file from Jupyter Notebook"
   ]
  },
  {
   "cell_type": "code",
   "execution_count": 2,
   "id": "38420479-ea8d-4dc7-bda2-495a226deb98",
   "metadata": {},
   "outputs": [
    {
     "name": "stdout",
     "output_type": "stream",
     "text": [
      "x = 4\n"
     ]
    }
   ],
   "source": [
    "%run mycode.py"
   ]
  },
  {
   "cell_type": "markdown",
   "id": "0d249d6e-95da-49cb-9c15-b6a1da15a51a",
   "metadata": {},
   "source": [
    "### 1.2. Google Colab"
   ]
  },
  {
   "cell_type": "markdown",
   "id": "91bafc3f-901e-420d-b24f-2028cbcb81d5",
   "metadata": {},
   "source": [
    "Colab (short for Colaboratory) is Google’s hosted notebook service. Using Colab is a great way to get started with Python, as you don’t need to install anything or deal with library dependencies or environment management."
   ]
  },
  {
   "cell_type": "markdown",
   "id": "ccf5b282-2745-4a73-bf6b-57673139f1a9",
   "metadata": {},
   "source": [
    "### 2. Introduction to programming"
   ]
  },
  {
   "cell_type": "markdown",
   "id": "9c49cd5d-d04a-424b-8dee-2e4efdca2fd4",
   "metadata": {},
   "source": [
    "### 2.1 Computer hardware architecture"
   ]
  },
  {
   "cell_type": "markdown",
   "id": "8bab6e21-6d3d-4505-a176-3d2d20180305",
   "metadata": {},
   "source": [
    "<img src=\"img/hard.png\" width=400 height=400 />"
   ]
  },
  {
   "cell_type": "markdown",
   "id": "e80b8db2-0f82-4982-a67e-9198030b9eff",
   "metadata": {},
   "source": [
    "**The Central Processing Unit (or CPU)** is the part of the computer that is built to be obsessed with “what is next?” If your computer is rated at 3.0 Gigahertz, it means that the CPU will ask “What next?” three billion times per second. You are going to have to learn how to talk fast to keep up with the CPU.\n",
    "\n",
    "**The Main Memory** is used to store information that the CPU needs in a hurry. The main memory is nearly as fast as the CPU. But the information stored in the main memory vanishes when the computer is turned off.\n",
    "\n",
    "**The Secondary Memory** is also used to store information, but it is much slower than the main memory. The advantage of the secondary memory is that it can store information even when there is no power to the computer. Examples of secondary memory are disk drives or flash memory (typically found in USB sticks and portable music players).\n",
    "\n",
    "**The Input and Output** Devices are simply our screen, keyboard, mouse, microphone, speaker, touchpad, etc. They are all of the ways we interact with the computer.\n",
    "\n"
   ]
  },
  {
   "cell_type": "markdown",
   "id": "cb456dba-40c5-4197-a78f-cec42a8273ba",
   "metadata": {},
   "source": [
    "### 2.2 Interpreter and compiler\n",
    "\n",
    "Python is a high-level language. The actual hardware inside the Central Processing Unit (CPU) does not understand any of high-level languages.\n",
    "\n",
    "The CPU understands a language we call **machine language** (represented all in zeros and ones)."
   ]
  },
  {
   "cell_type": "markdown",
   "id": "896cd90e-8a89-41d9-8fee-7ac2037c64cb",
   "metadata": {},
   "source": [
    "We build various translators to allow programmers to write in high-level languages like Python or JavaScript and these translators convert the programs to machine language for actual execution by the CPU."
   ]
  },
  {
   "cell_type": "markdown",
   "id": "1ed326fe-895e-4531-bd11-3b47276964a4",
   "metadata": {},
   "source": [
    "These programming language translators fall into two general categories: \n",
    "- interpreters \n",
    "- compilers."
   ]
  },
  {
   "cell_type": "markdown",
   "id": "e2d4aa52-8bda-4841-8c85-3e08c911ac8d",
   "metadata": {},
   "source": [
    "Python is an interpreter..\n",
    "\n",
    "- An interpreter reads the source code of the program, parses the source code, and interprets the instructions on the fly."
   ]
  },
  {
   "cell_type": "markdown",
   "id": "50dee3aa-050a-4bd6-ac9e-b24ce5ae3123",
   "metadata": {},
   "source": [
    "- It is the nature of an interpreter to be able to have an interactive conversation. \n",
    "- A compiler needs to be handed the entire program in a file, and then it runs a process to translate the high-level source code into machine language and then the compiler puts the resulting machine language into a file for later execution."
   ]
  },
  {
   "cell_type": "markdown",
   "id": "1cc99d11-9673-4c0d-9a99-401307016ca1",
   "metadata": {},
   "source": [
    "### 2.3 What is a program?"
   ]
  },
  {
   "cell_type": "markdown",
   "id": "7b3e4cd8-2257-4c99-b2be-e2b346cc40b8",
   "metadata": {},
   "source": [
    "The definition of a program at its most basic is a sequence of Python statements that have been crafted to do something."
   ]
  },
  {
   "cell_type": "markdown",
   "id": "78b18795-fc03-4b3e-9653-ea0b0a79398e",
   "metadata": {},
   "source": [
    "### 2.4 The building blocks of programs"
   ]
  },
  {
   "cell_type": "markdown",
   "id": "90531cbc-ff79-401b-92c2-6d8fb73a98e2",
   "metadata": {},
   "source": [
    "**input**\n",
    "Get data from the “outside world”. This might be reading data from a file, or even some kind of sensor like a microphone or GPS.\n",
    "\n",
    "**output**\n",
    "Display the results of the program on a screen or store them in a file or perhaps write them to a device like a speaker to play music or speak text.\n",
    "\n",
    "**sequential execution**\n",
    "Perform statements one after another in the order they are encountered in the script.\n",
    "\n",
    "\n",
    "**conditional execution**\n",
    "Check for certain conditions and then execute or skip a sequence of statements.\n",
    "\n",
    "**repeated execution**\n",
    "Perform some set of statements repeatedly, usually with some variation.\n",
    "\n",
    "**reuse**\n",
    "Write a set of instructions once and give them a name and then reuse those instructions as needed throughout your program."
   ]
  },
  {
   "cell_type": "code",
   "execution_count": 18,
   "id": "1df6f5f1-c774-4da5-bed5-b3cb7684dde4",
   "metadata": {},
   "outputs": [
    {
     "name": "stdin",
     "output_type": "stream",
     "text": [
      "Enter your name:  Ali\n"
     ]
    },
    {
     "name": "stdout",
     "output_type": "stream",
     "text": [
      "A l i \n",
      "Your name has 3 letters\n"
     ]
    }
   ],
   "source": [
    "name = input('Enter your name: ')\n",
    "count = 0\n",
    "\n",
    "for i in name:\n",
    "    print(i, end=' ')\n",
    "    count = count + 1\n",
    "\n",
    "print(f'\\nYour name has {count} letters')\n",
    "    "
   ]
  },
  {
   "cell_type": "markdown",
   "id": "2b588222-6fa4-45c8-8dcd-a8cec65fd3f0",
   "metadata": {},
   "source": [
    "### 2.5 What could possibly go wrong?"
   ]
  },
  {
   "cell_type": "markdown",
   "id": "8dd3bef0-a567-453c-b224-5cce333bb61f",
   "metadata": {},
   "source": [
    "**Syntax errors**\n",
    "A syntax error means that you have violated the “grammar” rules of Python. \n",
    "\n",
    "**Logic errors**\n",
    "a flaw in the instructions of a computer program that causes it to produce incorrect or unexpected results, even though the code runs without crashing (e.g., > instead of >=) \n",
    "\n",
    "\n",
    "**Semantic errors**\n",
    "An error in a program that makes it do something other than what the programmer intended (e.g., adding a string to an integer without proper conversion or the use of uninitialized variables)"
   ]
  },
  {
   "cell_type": "markdown",
   "id": "235fe7da-b7a0-43af-9ab9-1b0668533b8f",
   "metadata": {},
   "source": [
    "### 2.6 Debugging\n",
    "\n",
    "Debugging is the process of finding the cause of the error (bug) in your code. "
   ]
  },
  {
   "cell_type": "markdown",
   "id": "43882353-dfb1-42a9-bf08-d5d9fc3b18b9",
   "metadata": {},
   "source": [
    "### 3. Computational thinking\n",
    "refers to the thought processes involved in formulating problems so their solutions can be represented as computational steps and algorithms. <a href=\"https://en.wikipedia.org/wiki/Computational_thinking\">wikipedia</a>\n",
    "\n",
    "\n",
    "**algorithm**\n",
    "\n",
    "A sequence of instructions that solves a problem is called an algorithm."
   ]
  },
  {
   "cell_type": "code",
   "execution_count": null,
   "id": "06b57091-4aee-47b1-8473-f4a9d2c302b5",
   "metadata": {},
   "outputs": [],
   "source": []
  }
 ],
 "metadata": {
  "kernelspec": {
   "display_name": "Python 3 (ipykernel)",
   "language": "python",
   "name": "python3"
  },
  "language_info": {
   "codemirror_mode": {
    "name": "ipython",
    "version": 3
   },
   "file_extension": ".py",
   "mimetype": "text/x-python",
   "name": "python",
   "nbconvert_exporter": "python",
   "pygments_lexer": "ipython3",
   "version": "3.12.1"
  }
 },
 "nbformat": 4,
 "nbformat_minor": 5
}
