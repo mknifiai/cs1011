{
 "cells": [
  {
   "cell_type": "markdown",
   "id": "d57fcae7-6f24-4c2c-abcf-e359d40ff8fd",
   "metadata": {},
   "source": [
    "## User-defined function"
   ]
  },
  {
   "cell_type": "markdown",
   "id": "c4be43c1-10f3-4412-80cb-973ca86e8abe",
   "metadata": {},
   "source": [
    "**function**\n",
    "\n",
    "Program redundancy can be reduced by creating a grouping of predefined statements for repeated operations, known as a function"
   ]
  },
  {
   "cell_type": "markdown",
   "id": "b2091256-7257-4edc-81e9-c58154d47a75",
   "metadata": {},
   "source": [
    "\n",
    "  \n",
    "**A function definition**: consists of the function's name and a block of statements.\n",
    "\n",
    "**A function call**: is an invocation of the function's name, causing the function's statements to execute.\n",
    "\n",
    "**The def keyword**: is used to create new functions."
   ]
  },
  {
   "cell_type": "code",
   "execution_count": 3,
   "id": "71522108-601b-4762-a7cd-67079eea3b00",
   "metadata": {},
   "outputs": [
    {
     "name": "stdout",
     "output_type": "stream",
     "text": [
      "User-defined function\n"
     ]
    }
   ],
   "source": [
    "def print_str():\n",
    "    print(\"User-defined function\")\n",
    "\n",
    "print_str()"
   ]
  },
  {
   "cell_type": "code",
   "execution_count": 4,
   "id": "30f16530-c0eb-48ae-a958-79ff07f4f7a2",
   "metadata": {},
   "outputs": [
    {
     "name": "stdout",
     "output_type": "stream",
     "text": [
      "I'm a lumberjack, and I'm okay.\n",
      "I sleep all night and I work all day.\n",
      "I'm a lumberjack, and I'm okay.\n",
      "I sleep all night and I work all day.\n"
     ]
    }
   ],
   "source": [
    "def print_lyrics():\n",
    "    print(\"I'm a lumberjack, and I'm okay.\")\n",
    "    print('I sleep all night and I work all day.')\n",
    "\n",
    "\n",
    "def repeat_lyrics():\n",
    "    print_lyrics()\n",
    "    print_lyrics()\n",
    "\n",
    "repeat_lyrics()"
   ]
  },
  {
   "cell_type": "markdown",
   "id": "52663a78-0b7c-4526-9322-e4080b3e5672",
   "metadata": {},
   "source": [
    "**return statement**:\n",
    "A function may return a value using a return statement.\n",
    "\n",
    "    - A function with no return statement is called a void function, and such a function returns the value None.\n",
    "\n",
    "**parameter**:\n",
    "A parameter is a function input specified in a function definition.\n",
    "\n",
    "**argument**:\n",
    "An argument is a value provided to a function's parameter during a function call.\n"
   ]
  },
  {
   "cell_type": "code",
   "execution_count": 5,
   "id": "157cf8dc-388a-4c64-b2f0-5cd4bc8d0971",
   "metadata": {},
   "outputs": [
    {
     "name": "stdout",
     "output_type": "stream",
     "text": [
      "7 squared is 49\n"
     ]
    }
   ],
   "source": [
    "def compute_square(num_to_square):\n",
    "    return num_to_square * num_to_square\n",
    "\n",
    "\n",
    "num_squared = compute_square(7)\n",
    "\n",
    "print(f'7 squared is {num_squared}')"
   ]
  },
  {
   "cell_type": "code",
   "execution_count": 6,
   "id": "ddf3d39a-58fb-4327-9b42-8dd767707a22",
   "metadata": {},
   "outputs": [
    {
     "name": "stdout",
     "output_type": "stream",
     "text": [
      "add(5, 7) is 12\n",
      "add('Tora', 'Bora') is ToraBora\n"
     ]
    }
   ],
   "source": [
    "def add(x, y):\n",
    "    return x + y\n",
    "    \n",
    "print(f'add(5, 7) is {add(5, 7)}')\n",
    "print(f\"add('Tora', 'Bora') is {add('Tora', 'Bora')}\")\n"
   ]
  },
  {
   "cell_type": "markdown",
   "id": "38a6e80e-ad8e-4521-8ca0-e22573a0782e",
   "metadata": {},
   "source": [
    "### Reasons for defining functions"
   ]
  },
  {
   "cell_type": "markdown",
   "id": "0f46805e-c95e-451d-955e-b9a185c3e098",
   "metadata": {},
   "source": [
    "- With user-defined functions, the main program is easy to understand."
   ]
  },
  {
   "cell_type": "markdown",
   "id": "9d3887b1-44e9-4d80-9829-3ebffb7bfae7",
   "metadata": {},
   "source": [
    "- **Modular development**\n",
    "    - Modular development is the process of dividing a program into separate modules that can be developed and tested separately and integrated into a single program."
   ]
  },
  {
   "cell_type": "markdown",
   "id": "256a7f61-c70a-4ff2-acf5-88b19a3d09bc",
   "metadata": {},
   "source": [
    "### Scope of variables and functions"
   ]
  },
  {
   "cell_type": "code",
   "execution_count": 7,
   "id": "140923ba-1f23-4ae1-9977-ee2865263ad5",
   "metadata": {},
   "outputs": [
    {
     "name": "stdout",
     "output_type": "stream",
     "text": [
      "Centimeters: 165.1\n"
     ]
    }
   ],
   "source": [
    "centimeters_per_inch = 2.54\n",
    "inches_per_foot = 12\n",
    "\n",
    "def height_US_to_centimeters(feet, inches):\n",
    "    \"\"\" Converts a height in feet/inches to centimeters.\"\"\"\n",
    "    total_inches = (feet * inches_per_foot) + inches  # Total inches\n",
    "    centimeters = total_inches * centimeters_per_inch\n",
    "    return centimeters\n",
    "\n",
    "feet = 5\n",
    "inches = 5\n",
    "\n",
    "print(f'Centimeters: {height_US_to_centimeters(feet, inches)}')"
   ]
  },
  {
   "cell_type": "markdown",
   "id": "eff0aff7-c2b9-45af-9d1e-b47831839de6",
   "metadata": {},
   "source": [
    "### Calling a List of Functions"
   ]
  },
  {
   "cell_type": "code",
   "execution_count": 9,
   "id": "8458ff70-4ec0-416d-8e97-5b6e7eeafc5d",
   "metadata": {},
   "outputs": [
    {
     "name": "stdout",
     "output_type": "stream",
     "text": [
      "5\n",
      "6\n"
     ]
    }
   ],
   "source": [
    "def add_one(n):\n",
    "    return n + 1\n",
    "\n",
    "def add_two(n):\n",
    "    return n + 2\n",
    "\n",
    "x = 4\n",
    "my_functions = [add_one, add_two]\n",
    "\n",
    "for my_func in my_functions:\n",
    "    print(my_func(x))"
   ]
  },
  {
   "cell_type": "markdown",
   "id": "e8383428-86c2-40c2-b6ce-bb31dab33bbf",
   "metadata": {},
   "source": [
    "### Function arguments"
   ]
  },
  {
   "cell_type": "markdown",
   "id": "a78231b5-a617-409e-b43b-3a832dd2e62a",
   "metadata": {},
   "source": [
    "Arguments to functions are passed by object reference, a concept known in Python as pass-by-assignment. \n",
    "\n",
    "When a function is called, new local variables are created in the function's local namespace by binding the names in the parameter list to the passed arguments."
   ]
  },
  {
   "cell_type": "markdown",
   "id": "c3672bde-0a5d-48fc-a8e3-848fff1580d1",
   "metadata": {},
   "source": [
    "    - If the object is immutable, such as a string or integer, then the modification is limited to inside the function.\n",
    "\n",
    "    - If the object is mutable, such as a list, then in-place modification of the object is seen outside the scope of the function. "
   ]
  },
  {
   "cell_type": "code",
   "execution_count": 8,
   "id": "a622017a-8c8e-4afd-9036-7059a8dc41bb",
   "metadata": {},
   "outputs": [
    {
     "name": "stdout",
     "output_type": "stream",
     "text": [
      "[10, 99, 30]\n"
     ]
    }
   ],
   "source": [
    "def modify(num_list):\n",
    "    num_list[1] = 99\n",
    "\t\n",
    "my_list = [10, 20, 30]\n",
    "modify(my_list)\n",
    "print(my_list)  # my_list still contains 99!"
   ]
  },
  {
   "cell_type": "markdown",
   "id": "fcb8f37b-ade1-45fb-b63c-3751d79a318c",
   "metadata": {},
   "source": [
    "### Arbitrary arguments"
   ]
  },
  {
   "cell_type": "markdown",
   "id": "efa3d377-81b3-4668-a249-c6e8e0c4185d",
   "metadata": {},
   "source": [
    "Sometimes a programmer doesn't know how many arguments a function requires. \n",
    "\n",
    "A function definition can include an **\\*args** parameter that collects optional positional parameters into an arbitrary **argument list tuple**."
   ]
  },
  {
   "cell_type": "code",
   "execution_count": 15,
   "id": "99cb9ee4-27ee-44bb-a73c-dc78faae5c44",
   "metadata": {},
   "outputs": [
    {
     "name": "stdout",
     "output_type": "stream",
     "text": [
      "s1 = 3, s2 = 15, s3 = 36\n"
     ]
    }
   ],
   "source": [
    "def add_num(x,y,*args):\n",
    "    s = x + y\n",
    "    \n",
    "    for i in range(len(args)):\n",
    "        s = s + args[i]\n",
    "    \n",
    "    return s\n",
    "\n",
    "\n",
    "s1 = add_num(1,2)\n",
    "s2 = add_num(1,2,3,4,5)\n",
    "s3 = add_num(1,2,3,4,5,6,7,8)\n",
    "\n",
    "print(f'{s1 = }, {s2 = }, {s3 = }')\n"
   ]
  },
  {
   "cell_type": "markdown",
   "id": "46e77202-9421-4196-a78f-37b506e342f0",
   "metadata": {},
   "source": [
    "###  keyword arguments\n",
    "Adding a final function parameter of **\\*\\*kwargs**, short for **keyword arguments**, creates a dictionary containing \"extra\" arguments not defined in the function definition. The keys of the dictionary are the parameter names specified in the function call."
   ]
  },
  {
   "cell_type": "code",
   "execution_count": 16,
   "id": "60e7934d-ce7d-43c9-b0e4-e72ca9056b8a",
   "metadata": {},
   "outputs": [],
   "source": [
    "def add_num(x,y,**kwargs):\n",
    "    print(kwargs)\n",
    "    \n",
    "    print(f'x = {x}, y = {y}', end=' ') \n",
    "    s = x+y\n",
    "    if len(kwargs) > 0: \n",
    "        print('with', end=' ') \n",
    "    for k, v in kwargs.items():\n",
    "        s = s + v\n",
    "        print(k,end=' ')\n",
    "    print(f's={s}')"
   ]
  },
  {
   "cell_type": "code",
   "execution_count": 17,
   "id": "7a62d56c-039d-4b70-be54-81e530982517",
   "metadata": {},
   "outputs": [
    {
     "name": "stdout",
     "output_type": "stream",
     "text": [
      "{'a': 3, 'b': 4, 'c': 5}\n",
      "x = 4, y = 6 with a b c s=22\n"
     ]
    }
   ],
   "source": [
    "x = 4\n",
    "y = 6\n",
    "\n",
    "add_num(x,y,a=3,b=4,c=5)"
   ]
  },
  {
   "cell_type": "markdown",
   "id": "f9b3d5f4-bb55-4fc1-8743-369d8b80b160",
   "metadata": {},
   "source": [
    "### default parameters"
   ]
  },
  {
   "cell_type": "code",
   "execution_count": 26,
   "id": "df12cb5e-e711-4093-b0b8-7c3600dd4b54",
   "metadata": {},
   "outputs": [],
   "source": [
    "def add_num(x,y,doSub=False):\n",
    "    \n",
    "    print(f'sum = {x+y}')\n",
    "    \n",
    "    if doSub:\n",
    "        print(f'sub = {x-y}')"
   ]
  },
  {
   "cell_type": "code",
   "execution_count": 27,
   "id": "e94842a5-0b74-4042-8c3e-a69dabbeeffb",
   "metadata": {},
   "outputs": [
    {
     "name": "stdout",
     "output_type": "stream",
     "text": [
      "sum = 8\n"
     ]
    }
   ],
   "source": [
    "x = 5\n",
    "y = 3\n",
    "\n",
    "add_num(x,y)"
   ]
  },
  {
   "cell_type": "markdown",
   "id": "888e2c92-b202-4169-9613-0d2caf01f5bf",
   "metadata": {},
   "source": [
    "### Multiple function outputs"
   ]
  },
  {
   "cell_type": "code",
   "execution_count": 25,
   "id": "b06e8c4c-ec27-41e4-887c-2edcb8c54998",
   "metadata": {},
   "outputs": [
    {
     "name": "stdout",
     "output_type": "stream",
     "text": [
      "v=(8, 2)\n"
     ]
    }
   ],
   "source": [
    "def add_sub_num(x,y):\n",
    "    return x+y,x-y\n",
    "\n",
    "x = 5\n",
    "y = 3\n",
    "\n",
    "v = add_sub_num(x,y)\n",
    "print (f'{v=}')"
   ]
  },
  {
   "cell_type": "code",
   "execution_count": null,
   "id": "809fcde0-633d-4baa-9bd9-47445d15e8ad",
   "metadata": {},
   "outputs": [],
   "source": []
  }
 ],
 "metadata": {
  "kernelspec": {
   "display_name": "Python 3 (ipykernel)",
   "language": "python",
   "name": "python3"
  },
  "language_info": {
   "codemirror_mode": {
    "name": "ipython",
    "version": 3
   },
   "file_extension": ".py",
   "mimetype": "text/x-python",
   "name": "python",
   "nbconvert_exporter": "python",
   "pygments_lexer": "ipython3",
   "version": "3.12.1"
  }
 },
 "nbformat": 4,
 "nbformat_minor": 5
}
