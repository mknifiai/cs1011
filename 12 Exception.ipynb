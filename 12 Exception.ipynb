{
 "cells": [
  {
   "cell_type": "markdown",
   "id": "70405dab-de99-4497-88a7-c73fedf1c6af",
   "metadata": {},
   "source": [
    "## 1. Exception"
   ]
  },
  {
   "cell_type": "markdown",
   "id": "4bc94d7a-7ec5-4e2e-b7e2-a827028a78c2",
   "metadata": {},
   "source": [
    "**Error-checking code**\n",
    "\n",
    "Error-checking code is code that a programmer introduces to detect and handle errors that occur while the program executes.\n",
    "\n",
    "**exception-handling**\n",
    "\n",
    "Python has special constructs known as exception-handling constructs because they handle exceptional circumstances, or errors, during execution.\n"
   ]
  },
  {
   "cell_type": "code",
   "execution_count": null,
   "id": "799e1653-f5f4-466a-a5cf-07fd65a43d61",
   "metadata": {},
   "outputs": [],
   "source": [
    "user_input = ''\n",
    "while user_input != 'q':\n",
    "    weight = int(input(\"Enter weight (in pounds): \"))\n",
    "    height = int(input(\"Enter height (in inches): \"))\n",
    "\n",
    "    bmi = (float(weight) / float(height * height)) * 703\n",
    "    print(f'BMI: {bmi}')\n",
    "    print('(CDC: 18.6-24.9 normal)\\n')\n",
    "\n",
    "    user_input = input(\"Enter any key ('q' to quit): \")"
   ]
  },
  {
   "cell_type": "markdown",
   "id": "d1390964-b1d1-478f-b022-970854c64453",
   "metadata": {},
   "source": [
    "**try**\n",
    "\n",
    "Code that potentially may produce an exception is placed in a try block.\n",
    "\n",
    "**except**\n",
    "\n",
    "If the code in the try block causes an exception, then the code placed in a following except block is executed."
   ]
  },
  {
   "cell_type": "code",
   "execution_count": null,
   "id": "dc80f773-c9b1-4420-9c0e-93ba362fbd13",
   "metadata": {},
   "outputs": [],
   "source": [
    "user_input = ''\n",
    "while user_input != 'q':\n",
    "    try:\n",
    "        weight = int(input(\"Enter weight (in pounds): \"))\n",
    "        height = int(input(\"Enter height (in inches): \"))\n",
    "\n",
    "        bmi = (float(weight) / float(height * height)) * 703\n",
    "        print(f'BMI: {bmi}')\n",
    "        print('(CDC: 18.6-24.9 normal)\\n')  # Source www.cdc.gov\n",
    "    except:\n",
    "        print('Could not calculate health info.\\n')\n",
    "\n",
    "    user_input = input(\"Enter any key ('q' to quit): \")"
   ]
  },
  {
   "cell_type": "markdown",
   "id": "c20db7c8-83e2-4d41-b633-b2687c4838a9",
   "metadata": {},
   "source": [
    "**exception handling**\n",
    "\n",
    "The **try** and **except** constructs are used together to implement exception handling, the process of responding to unexpected or unwanted events and errors during execution (handling exceptional conditions)."
   ]
  },
  {
   "cell_type": "code",
   "execution_count": null,
   "id": "bebbafe7-7aa9-4395-acd8-eb48640e0be9",
   "metadata": {},
   "outputs": [],
   "source": [
    "## Basic exception-handling constructs.\n",
    "try:\n",
    "    # ... Normal code that might produce errors\n",
    "except: # Go here if *any* error occurs in try block\n",
    "    # ... Exception handling code"
   ]
  },
  {
   "cell_type": "markdown",
   "id": "d0f2aea9-20ae-43af-b9b9-4c6c05ffd29a",
   "metadata": {},
   "source": [
    "#### Common exception types."
   ]
  },
  {
   "cell_type": "markdown",
   "id": "0ace6c4a-a346-4f60-9eea-4c7e8a91a12c",
   "metadata": {},
   "source": [
    "**EOFError**\tinput() hits an end-of-file condition (EOF) without reading any input.\n",
    "\n",
    "**KeyError**\tA dictionary key is not found in the set of keys.\n",
    "\n",
    "**ZeroDivisionError**\tDivide by zero error\n",
    "\n",
    "**ValueError**\tInvalid value (Ex: Input mismatch)\n",
    "\n",
    "**IndexError**\tIndex is out of bounds."
   ]
  },
  {
   "cell_type": "markdown",
   "id": "a9d59b3d-75cc-4072-a37f-13bb8b1cea60",
   "metadata": {},
   "source": [
    "## 2. Multiple exception handlers"
   ]
  },
  {
   "cell_type": "markdown",
   "id": "4689d650-ca39-4486-ae4a-1c0a04684c18",
   "metadata": {},
   "source": [
    "**exception handlers**\n",
    "\n",
    "Multiple exception handlers can be added to a try block by adding additional except blocks and specifying the type of exception that each except block handles."
   ]
  },
  {
   "cell_type": "code",
   "execution_count": null,
   "id": "be12b9fe-5ecd-47ac-b00a-fed2ba55de65",
   "metadata": {},
   "outputs": [],
   "source": [
    "try:\n",
    "    # ... Normal code\n",
    "except exceptiontype1:\n",
    "    # ... Code to handle exceptiontype1\n",
    "except exceptiontype2:\n",
    "    # ... Code to handle exceptiontype2\n",
    "...\n",
    "except:\n",
    "    # ... Code to handle other exception types"
   ]
  },
  {
   "cell_type": "markdown",
   "id": "2b780573-c118-4209-b2d5-5c0be6aaa15a",
   "metadata": {},
   "source": [
    "### Multiple exception types in a single exception handler."
   ]
  },
  {
   "cell_type": "code",
   "execution_count": null,
   "id": "838fbc50-ed2e-4a57-9177-e3c101697f8d",
   "metadata": {},
   "outputs": [],
   "source": [
    "try:\n",
    "    # ...\n",
    "except (ValueError, TypeError):\n",
    "    # Exception handler for any ValueError or TypeError that occurs.\n",
    "except (NameError, AttributeError):\n",
    "    # A different handler for NameError and AttributeError exceptions.\n",
    "except:\n",
    "    # A different handler for any other exception type."
   ]
  },
  {
   "cell_type": "markdown",
   "id": "5a9adc56-7b3d-4572-9ac6-21397a2e0f3e",
   "metadata": {},
   "source": [
    "## 3. Raising exceptions"
   ]
  },
  {
   "cell_type": "markdown",
   "id": "5dfb6a1e-7ac3-457a-918a-db3eca505da0",
   "metadata": {},
   "source": [
    "**raise**\n",
    "\n",
    "Code that detects an error can execute a raise statement, which causes immediate exit from the try block and the execution of an exception handler."
   ]
  },
  {
   "cell_type": "code",
   "execution_count": null,
   "id": "857a4432-6a4c-4876-b28f-5249dce10b5a",
   "metadata": {},
   "outputs": [],
   "source": [
    "user_input = ''\n",
    "while user_input != 'q':\n",
    "    try:\n",
    "        weight = int(input('Enter weight (in pounds): '))\n",
    "        if weight < 0:\n",
    "            raise ValueError('Invalid weight.')\n",
    "\n",
    "        height = int(input('Enter height (in inches): '))\n",
    "        if height <= 0:\n",
    "            raise ValueError('Invalid height.')\n",
    "\n",
    "        bmi = (float(weight) * 703) / (float(height * height))\n",
    "        print(f'BMI: {bmi}')\n",
    "        print('(CDC: 18.6-24.9 normal)\\n')\n",
    "\n",
    "    except ValueError as excpt:\n",
    "        print(excpt)\n",
    "        print('Could not calculate health info.\\n')\n",
    "\n",
    "    user_input = input(\"Enter any key ('q' to quit): \")"
   ]
  },
  {
   "cell_type": "markdown",
   "id": "69d8deec-d12f-4bc2-af35-eee93284c43a",
   "metadata": {},
   "source": [
    "**as**\n",
    "    \n",
    "The as keyword binds a name to the exception being handled."
   ]
  },
  {
   "cell_type": "markdown",
   "id": "deb1291e-36e9-4eeb-8427-39096c9b7ea8",
   "metadata": {},
   "source": [
    "## 4. Exceptions with functions"
   ]
  },
  {
   "cell_type": "code",
   "execution_count": null,
   "id": "ca6ed778-bc00-4532-a1c6-0fe97f422541",
   "metadata": {},
   "outputs": [],
   "source": [
    "def get_weight():\n",
    "    weight = int(input('Enter weight (in pounds): '))\n",
    "    if weight < 0:\n",
    "        raise ValueError('Invalid weight.')\n",
    "    return weight\n",
    "\n",
    "def get_height():\n",
    "    height = int(input('Enter height (in inches): '))\n",
    "    if height <= 0:\n",
    "        raise ValueError('Invalid height.')\n",
    "    return height\n",
    "\n",
    "user_input = ''\n",
    "while user_input != 'q':\n",
    "    try:\n",
    "        weight = get_weight()\n",
    "        height = get_height()\n",
    "\n",
    "        bmi = (float(weight) / float(height * height)) * 703\n",
    "        print(f'BMI: {bmi}')\n",
    "        print('(CDC: 18.6-24.9 normal)\\n')\n",
    "        # Source www.cdc.gov\n",
    "\n",
    "    except ValueError as excpt:\n",
    "        print(excpt)\n",
    "        print('Could not calculate health info.\\n')\n",
    "\n",
    "    user_input = input(\"Enter any key ('q' to quit): \")"
   ]
  },
  {
   "cell_type": "markdown",
   "id": "f0b2d3d7-5bbb-405f-8d34-52595bfa5bfd",
   "metadata": {},
   "source": [
    "## 5. Using finally to clean up"
   ]
  },
  {
   "cell_type": "markdown",
   "id": "a90a3d79-f7f7-45b8-acb9-8f06c4c74939",
   "metadata": {},
   "source": [
    "**finally**\n",
    "\n",
    "The finally clause of a try statement allows a programmer to specify clean-up actions that are always executed."
   ]
  },
  {
   "cell_type": "code",
   "execution_count": 4,
   "id": "93336447-3a93-4797-9fcf-1a824d66fbdc",
   "metadata": {},
   "outputs": [
    {
     "name": "stdin",
     "output_type": "stream",
     "text": [
      "Enter file name:  mydata.txt\n"
     ]
    },
    {
     "name": "stdout",
     "output_type": "stream",
     "text": [
      "Opening mydata.txt\n",
      "Closing mydata.txt\n",
      "Numbers found: 5 100 30 20\n"
     ]
    }
   ],
   "source": [
    "nums = []\n",
    "rd_nums = -1\n",
    "my_file = input('Enter file name: ')\n",
    "\n",
    "try:\n",
    "    print('Opening', my_file)\n",
    "    rd_nums = open(my_file, 'r')  # Might cause IOError\n",
    "\n",
    "    for line in rd_nums:\n",
    "        nums.append(int(line))  # Might cause ValueError\n",
    "except IOError:\n",
    "    print(f'Could not find {my_file}')\n",
    "except ValueError:\n",
    "    print(f'Could not read number from {my_file}')\n",
    "finally:\n",
    "    print(f'Closing {my_file}')\n",
    "    if rd_nums != -1:\n",
    "        rd_nums.close()\n",
    "        print(f'Numbers found: {\" \".join([str(n) for n in nums])}')"
   ]
  },
  {
   "cell_type": "markdown",
   "id": "4722f69b-d326-4753-8a94-927202c8f7b8",
   "metadata": {},
   "source": [
    "## 6. custom exception type"
   ]
  },
  {
   "cell_type": "code",
   "execution_count": null,
   "id": "3b454e13-0b96-4b39-b3bb-aa1b46f44332",
   "metadata": {},
   "outputs": [],
   "source": [
    "# Define a custom exception type\n",
    "class LessThanZeroError(Exception):\n",
    "    def __init__(self, value):\n",
    "        self.value = value\n",
    "\n",
    "my_num = int(input('Enter number: '))\n",
    "\n",
    "if my_num < 0:\n",
    "    raise LessThanZeroError('my_num must be greater than 0')\n",
    "else:\n",
    "    print(f'my_num: {my_num}')"
   ]
  },
  {
   "cell_type": "code",
   "execution_count": null,
   "id": "d05fd459-ddc7-4c42-95c9-3a4ab85ef594",
   "metadata": {},
   "outputs": [],
   "source": []
  }
 ],
 "metadata": {
  "kernelspec": {
   "display_name": "Python 3 (ipykernel)",
   "language": "python",
   "name": "python3"
  },
  "language_info": {
   "codemirror_mode": {
    "name": "ipython",
    "version": 3
   },
   "file_extension": ".py",
   "mimetype": "text/x-python",
   "name": "python",
   "nbconvert_exporter": "python",
   "pygments_lexer": "ipython3",
   "version": "3.12.1"
  }
 },
 "nbformat": 4,
 "nbformat_minor": 5
}
