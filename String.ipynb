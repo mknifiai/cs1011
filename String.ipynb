{
 "cells": [
  {
   "cell_type": "markdown",
   "id": "409e12d4-67f2-4b7e-a51f-7f0106f89fd3",
   "metadata": {},
   "source": [
    "## String"
   ]
  },
  {
   "cell_type": "markdown",
   "id": "6541170b-5698-48e3-8380-8a60835964d5",
   "metadata": {},
   "source": [
    "**index**\n",
    "\n",
    "An index is an integer matching a specific position in a string's sequence of characters.\n",
    "\n",
    "**Slice notation**\n",
    "\n",
    "Slice notation has the form my_str[start:end], which creates a new string whose value contains the characters of my_str from indices start to end -1."
   ]
  },
  {
   "cell_type": "code",
   "execution_count": 1,
   "id": "ace64d55-3a52-4d29-bd44-0e8591d67b07",
   "metadata": {},
   "outputs": [
    {
     "name": "stdout",
     "output_type": "stream",
     "text": [
      "en.wikipedia.org\n"
     ]
    }
   ],
   "source": [
    "url = 'http://en.wikipedia.org/wiki/Turing'\n",
    "domain = url[7:23]  # Read 'en.wikipedia.org' from url\n",
    "print(domain)"
   ]
  },
  {
   "cell_type": "markdown",
   "id": "6d70803b-9dec-49f5-93ed-ab4e4c43e724",
   "metadata": {},
   "source": [
    "#### A slice creates a new object."
   ]
  },
  {
   "cell_type": "code",
   "execution_count": 2,
   "id": "88de5a09-2374-413d-be04-3e8a30af0f05",
   "metadata": {},
   "outputs": [
    {
     "name": "stdout",
     "output_type": "stream",
     "text": [
      "The animal is a cat\n",
      "The animal is still a cat\n"
     ]
    }
   ],
   "source": [
    "my_str = \"The cat jumped the brown cow\"\n",
    "animal = my_str[4:7]\n",
    "print(f'The animal is a {animal}')\n",
    "\n",
    "my_str = 'The fox jumped the brown llama'\n",
    "print(f'The animal is still a {animal}')# animal variable remains unchanged."
   ]
  },
  {
   "cell_type": "code",
   "execution_count": 3,
   "id": "0d2988b2-629e-455f-8b15-3cfe7afca6ed",
   "metadata": {},
   "outputs": [
    {
     "name": "stdin",
     "output_type": "stream",
     "text": [
      "Enter a string:  Hello there. Nice to meet you!\n"
     ]
    },
    {
     "name": "stdout",
     "output_type": "stream",
     "text": [
      "\n",
      "The first half of the string is \"Hello there. Ni\"\n",
      "The second half of the string is \"ce to meet you!\"\n"
     ]
    }
   ],
   "source": [
    "usr_text = input('Enter a string: ')\n",
    "print()\n",
    "\n",
    "first_half = usr_text[:len(usr_text)//2]\n",
    "last_half = usr_text[len(usr_text)//2:]\n",
    "\n",
    "print(f'The first half of the string is \"{first_half}\"')\n",
    "print(f'The second half of the string is \"{last_half}\"')"
   ]
  },
  {
   "cell_type": "markdown",
   "id": "b2a7df79-187c-4b7b-aeaf-4b65940ff613",
   "metadata": {},
   "source": [
    "### Common slicing operations"
   ]
  },
  {
   "cell_type": "code",
   "execution_count": 4,
   "id": "32fd7960-dec5-4fbc-937b-10f2dab632af",
   "metadata": {},
   "outputs": [],
   "source": [
    "my_str = 'http://en.wikipedia.org/wiki/Nasa/'"
   ]
  },
  {
   "cell_type": "code",
   "execution_count": 5,
   "id": "949644f4-4f47-4cc9-8e34-725960d36ce8",
   "metadata": {},
   "outputs": [
    {
     "data": {
      "text/plain": [
       "'wikipedia'"
      ]
     },
     "execution_count": 5,
     "metadata": {},
     "output_type": "execute_result"
    }
   ],
   "source": [
    "my_str[10:19]"
   ]
  },
  {
   "cell_type": "code",
   "execution_count": 6,
   "id": "1517997a-b20f-4758-bf8d-5fe27e13f438",
   "metadata": {},
   "outputs": [
    {
     "data": {
      "text/plain": [
       "'wikipedia.org/wiki/'"
      ]
     },
     "execution_count": 6,
     "metadata": {},
     "output_type": "execute_result"
    }
   ],
   "source": [
    "my_str[10:-5]"
   ]
  },
  {
   "cell_type": "code",
   "execution_count": 8,
   "id": "51869c4e-1dbf-48a5-9130-a8d5e73c119c",
   "metadata": {},
   "outputs": [
    {
     "data": {
      "text/plain": [
       "'http://en.wikipedia.org'"
      ]
     },
     "execution_count": 8,
     "metadata": {},
     "output_type": "execute_result"
    }
   ],
   "source": [
    "my_str[:23]"
   ]
  },
  {
   "cell_type": "code",
   "execution_count": 9,
   "id": "b39246e7-c7bb-4c43-8993-124ed753246b",
   "metadata": {},
   "outputs": [
    {
     "data": {
      "text/plain": [
       "'http://en.wikipedia.org/wiki/Nasa'"
      ]
     },
     "execution_count": 9,
     "metadata": {},
     "output_type": "execute_result"
    }
   ],
   "source": [
    "my_str[:-1]"
   ]
  },
  {
   "cell_type": "markdown",
   "id": "74c12d1b-ee0f-4463-b312-59a3845ba2b7",
   "metadata": {},
   "source": [
    "### stride\n",
    "The stride determines how much to increment the index after reading each element."
   ]
  },
  {
   "cell_type": "code",
   "execution_count": 10,
   "id": "967d8f18-94d8-4539-9baa-ec2c84d182be",
   "metadata": {},
   "outputs": [
    {
     "name": "stdout",
     "output_type": "stream",
     "text": [
      "All numbers: 0123456789\n",
      "Every even number: 02468\n",
      "Every third number between 1 and 8: 147\n"
     ]
    }
   ],
   "source": [
    "numbers = '0123456789'\n",
    "\n",
    "print(f'All numbers: {numbers[::]}')\n",
    "print(f'Every even number: {numbers[::2]}')\n",
    "print(f'Every third number between 1 and 8: {numbers[1:9:3]}')"
   ]
  },
  {
   "cell_type": "markdown",
   "id": "2a69ead0-5912-41ae-883f-cc12664ab646",
   "metadata": {},
   "source": [
    "### Advanced string formatting"
   ]
  },
  {
   "cell_type": "markdown",
   "id": "24f6b20d-6d50-41c9-acf3-c825bdd6d004",
   "metadata": {},
   "source": [
    "**field width**\n",
    "\n",
    "A format specification may include a field width that defines the minimum number of characters that must be inserted into the string."
   ]
  },
  {
   "cell_type": "code",
   "execution_count": 11,
   "id": "6310bc52-9502-4d88-8fb1-08a07ea34fb2",
   "metadata": {},
   "outputs": [
    {
     "name": "stdout",
     "output_type": "stream",
     "text": [
      "Player Name     Goals   \n",
      "------------------------\n",
      "Sadio Mane      22      \n",
      "Gabriel Jesus   7       \n"
     ]
    }
   ],
   "source": [
    "print(f'{\"Player Name\":16}{\"Goals\":8}')\n",
    "\n",
    "print('-' * 24)\n",
    "\n",
    "\n",
    "print(f'{\"Sadio Mane\":16}{\"22\":8}')\n",
    "\n",
    "print(f'{\"Gabriel Jesus\":16}{\"7\":8}')"
   ]
  },
  {
   "cell_type": "markdown",
   "id": "666ebdec-78a4-4bfa-870f-863c98b2dd6a",
   "metadata": {},
   "source": [
    "### alignment character\n",
    "A format specification can include an alignment character that determines how a value should be aligned within the width of the field."
   ]
  },
  {
   "cell_type": "code",
   "execution_count": 13,
   "id": "b6f855f7-6a3a-499f-a10e-9f086ba976a6",
   "metadata": {},
   "outputs": [
    {
     "name": "stdout",
     "output_type": "stream",
     "text": [
      "     Player Name   Goals\n",
      "------------------------\n",
      "      Sadio Mane      22\n",
      "   Gabriel Jesus       7\n"
     ]
    }
   ],
   "source": [
    "names = ['Sadio Mane', 'Gabriel Jesus']\n",
    "goals = [22, 7]\n",
    "\n",
    "print(f'{\"Player Name\":>16}{\"Goals\":>8}')     ## Right-aligned   \n",
    "print('-' * 24)\n",
    "for i in range(2):\n",
    "    print(f'{names[i]:>16}{goals[i]:>8}')   "
   ]
  },
  {
   "cell_type": "code",
   "execution_count": 15,
   "id": "bd1080a0-83c9-4412-a456-0f5997ce240f",
   "metadata": {},
   "outputs": [
    {
     "name": "stdout",
     "output_type": "stream",
     "text": [
      "  Player Name    Goals  \n",
      "------------------------\n",
      "   Sadio Mane      22   \n",
      " Gabriel Jesus     7    \n"
     ]
    }
   ],
   "source": [
    "names = ['Sadio Mane', 'Gabriel Jesus']\n",
    "goals = [22, 7]\n",
    "\n",
    "print(f'{\"Player Name\":^16}{\"Goals\":^8}')    ## Centered\n",
    "print('-' * 24)\n",
    "for i in range(2):\n",
    "    print(f'{names[i]:^16}{goals[i]:^8}')"
   ]
  },
  {
   "cell_type": "markdown",
   "id": "e7e3d809-afec-434b-9ff8-8fdfff8b15a4",
   "metadata": {},
   "source": [
    "### fill character\n",
    "The fill character is used to pad a replacement field when the inserted string is smaller than the field width."
   ]
  },
  {
   "cell_type": "code",
   "execution_count": 19,
   "id": "5a45297a-d9b1-4ca0-9722-36812307b8e1",
   "metadata": {},
   "outputs": [
    {
     "name": "stdout",
     "output_type": "stream",
     "text": [
      "Wayne Rooney   36\n",
      "Wayne Rooney        36\n",
      "Wayne Rooney    000036\n",
      "Wayne Rooney____000036\n"
     ]
    }
   ],
   "source": [
    "name = 'Wayne Rooney'\n",
    "goals = 36\n",
    "\n",
    "print(f'{name:5}{goals:5}')\n",
    "\n",
    "# Use default empty space fill character\n",
    "print(f'{name:<16}{goals:>6}')\n",
    "# Use '0' as a fill character for score\n",
    "print(f'{name:<16}{goals:0>6}')\n",
    "# Use '_' as fill character for name\n",
    "print(f'{name:_<16}{goals:0>6}')"
   ]
  },
  {
   "cell_type": "markdown",
   "id": "89c94545-c8af-43f0-8eaa-566a15170c64",
   "metadata": {},
   "source": [
    "### precision\n",
    "\n",
    "The optional precision component of a format specification indicates how many digits should be included in the output of floating types."
   ]
  },
  {
   "cell_type": "code",
   "execution_count": 20,
   "id": "c48a4a88-a27a-43a0-ba31-bfc21bf7b567",
   "metadata": {},
   "outputs": [
    {
     "name": "stdout",
     "output_type": "stream",
     "text": [
      "pi is 3.141592653589793\n",
      "22/7 is 3.142857142857143\n",
      "22/7 looks better like 3.14\n"
     ]
    }
   ],
   "source": [
    "import math\n",
    "real_pi = math.pi  # math library provides close approximation of pi\n",
    "approximate_pi = 22.0 / 7.0  # Approximately correct pi to within 2 decimal places\n",
    "\n",
    "print(f'pi is {real_pi}')\n",
    "print(f'22/7 is {approximate_pi}')\n",
    "print(f'22/7 looks better like {approximate_pi:.2f}')"
   ]
  },
  {
   "cell_type": "markdown",
   "id": "af217aa4-1731-42b7-984c-3e633688ec45",
   "metadata": {},
   "source": [
    "## String methods"
   ]
  },
  {
   "cell_type": "markdown",
   "id": "a90575b4-a049-479a-868a-beb07acef668",
   "metadata": {},
   "source": [
    "**replace(old, new)**\n",
    "\n",
    "Replace(old, new) —Returns a copy of the string with all occurrences of the substring old replaced by the string new.\n",
    "\n",
    "**replace(old, new, count)**\n",
    "\n",
    "Replace(old, new, count) —Same as above, except replace(old, new, count) only replaces the first count occurrences of old."
   ]
  },
  {
   "cell_type": "code",
   "execution_count": 24,
   "id": "1aa32308-6354-45b2-9a05-486ce33170f5",
   "metadata": {},
   "outputs": [
    {
     "name": "stdout",
     "output_type": "stream",
     "text": [
      "Someday I will have tres goats, six horses, and nine llamas.\n"
     ]
    }
   ],
   "source": [
    "phrase = 'Someday I will have three goats, six horses, and nine llamas.'\n",
    "\n",
    "# Replace English with Spanish.\n",
    "\n",
    "phrase = phrase.replace('one', 'uno')\n",
    "phrase = phrase.replace('two', 'dos')\n",
    "\n",
    "phrase = phrase.replace('three', 'tres')\n",
    "\n",
    "print(phrase)"
   ]
  },
  {
   "cell_type": "markdown",
   "id": "95609d79-3725-442a-bb8a-351ca037cb02",
   "metadata": {},
   "source": [
    "**find(x)**\n",
    "\n",
    "Find(x) -- Returns the index of the first occurrence of item x in the string, otherwise, find(x) returns -1.\n",
    "\n",
    "**find(x, start)**\n",
    "\n",
    "Find(x, start) —Same as find(x), but begins the search at index start.\n",
    "\n",
    "**find(x, start, end)**\n",
    "\n",
    "Find(x, start, end) -- Same as find(x, start), but stops the search at index end - 1.\n",
    "\n",
    "**rfind(x)**\n",
    "\n",
    "Rfind(x) -- Same as find(x) but searches the string in reverse, returning the last occurrence in the string.\n",
    "\n",
    "**count(x)**\n",
    "\n",
    "Count(x) -- Returns the number of times x occurs in the string."
   ]
  },
  {
   "cell_type": "markdown",
   "id": "58b76280-3c3e-4513-bbca-e12be81797c3",
   "metadata": {},
   "source": [
    "### String comparisons"
   ]
  },
  {
   "cell_type": "markdown",
   "id": "10e81422-49df-454b-8297-6ed6bd5e0c93",
   "metadata": {},
   "source": [
    "<img src=\"img/string.png\" width=600 height=600 />"
   ]
  },
  {
   "cell_type": "markdown",
   "id": "553be5a9-9aa1-49f5-b6ed-805992780b36",
   "metadata": {},
   "source": [
    "**isalnum()**\n",
    "\n",
    "Isalnum() -- Returns True if all characters in the string are lowercase or uppercase letters, or the numbers 0-9.\n",
    "\n",
    "**isdigit()**\n",
    "\n",
    "Isdigit() -- Returns True if all characters are the numbers 0-9.\n",
    "\n",
    "**islower()**\n",
    "\n",
    "Islower() -- Returns True if all cased characters are lowercase letters.\n",
    "\n",
    "**isupper()**\n",
    "\n",
    "Isupper() -- Returns True if all cased characters are uppercase letters.\n",
    "\n",
    "**isspace()**\n",
    "\n",
    "Isspace() -- Returns True if all characters are whitespace.\n",
    "\n",
    "**startswith(x)**\n",
    "\n",
    "Startswith(x) -- Returns True if the string starts with x.\n",
    "\n",
    "**endswith(x)**\n",
    "\n",
    "Endswith(x) -- Returns True if the string ends with x.\n",
    "\n",
    "**capitalize()**\n",
    "\n",
    "Capitalize() -- Returns a copy of the string with the first character capitalized and the rest lowercased.\n",
    "\n",
    "**lower()**\n",
    "\n",
    "Lower() -- Returns a copy of the string with all characters lowercased.\n",
    "\n",
    "**upper()**\n",
    "\n",
    "Upper() -- Returns a copy of the string with all characters uppercased.\n",
    "\n",
    "**strip()**\n",
    "\n",
    "Strip() -- Returns a copy of the string with leading and trailing whitespace removed.\n",
    "\n",
    "**title()**\n",
    "\n",
    "Title() -- Returns a copy of the string as a title, with first letters of words capitalized.\n"
   ]
  },
  {
   "cell_type": "markdown",
   "id": "749b04f2-1086-4164-a32a-331a712a08ba",
   "metadata": {},
   "source": [
    "### Splitting and joining strings\n",
    "\n",
    "#### split()"
   ]
  },
  {
   "cell_type": "code",
   "execution_count": 26,
   "id": "96c6ddf2-74a6-43c1-8210-65865beb18de",
   "metadata": {},
   "outputs": [
    {
     "name": "stdout",
     "output_type": "stream",
     "text": [
      "['Music', 'artist', 'song.mp3']\n"
     ]
    }
   ],
   "source": [
    "string = 'Music/artist/song.mp3'\n",
    "my_tokens = string.split('/')\n",
    "print(my_tokens)"
   ]
  },
  {
   "cell_type": "code",
   "execution_count": 27,
   "id": "f7e398bb-ec10-428c-b62a-592c39b545f8",
   "metadata": {},
   "outputs": [
    {
     "name": "stdout",
     "output_type": "stream",
     "text": [
      "['I', 'love', 'python']\n"
     ]
    }
   ],
   "source": [
    "string = 'I love python'\n",
    "my_tokens = string.split()\n",
    "print(my_tokens)"
   ]
  },
  {
   "cell_type": "markdown",
   "id": "bafbd650-0605-40ef-a88f-d8982487a54d",
   "metadata": {},
   "source": [
    "#### join()"
   ]
  },
  {
   "cell_type": "code",
   "execution_count": 29,
   "id": "c46095f7-d83d-45fb-8209-0a027907f6e6",
   "metadata": {},
   "outputs": [
    {
     "name": "stdout",
     "output_type": "stream",
     "text": [
      "www.website.com/profile/settings\n"
     ]
    }
   ],
   "source": [
    "web_path = [ 'www.website.com', 'profile', 'settings' ]\n",
    "separator = '/'\n",
    "url = separator.join(web_path)\n",
    "print(url)"
   ]
  },
  {
   "cell_type": "markdown",
   "id": "319243e2-c79d-4daa-b893-7889948025c3",
   "metadata": {},
   "source": [
    "### Example"
   ]
  },
  {
   "cell_type": "code",
   "execution_count": 32,
   "id": "c4e33b72-e44a-444f-974b-a045b4510449",
   "metadata": {},
   "outputs": [
    {
     "name": "stdin",
     "output_type": "stream",
     "text": [
      "Enter Wikipedia URL:  http://en.wikipedia.org/Rome\n"
     ]
    },
    {
     "name": "stdout",
     "output_type": "stream",
     "text": [
      "http://en.wikipedia.org/Rome is not a valid address.\n",
      "Redirecting to http://en.wikipedia.org/wiki/Rome\n"
     ]
    }
   ],
   "source": [
    "url = input('Enter Wikipedia URL: ')\n",
    "\n",
    "tokens = url.split('/')\n",
    "\n",
    "if 'wiki' != tokens[3]:\n",
    "    tokens.insert(3, 'wiki')\n",
    "    new_url = '/'.join(tokens)\n",
    "\n",
    "    print(f'{url} is not a valid address.')\n",
    "    print(f'Redirecting to {new_url}')\n",
    "else:\n",
    "    print(f'Loading {url}')"
   ]
  },
  {
   "cell_type": "code",
   "execution_count": null,
   "id": "5893133d-7ac5-4647-939c-8f83fcb3661b",
   "metadata": {},
   "outputs": [],
   "source": []
  }
 ],
 "metadata": {
  "kernelspec": {
   "display_name": "Python 3 (ipykernel)",
   "language": "python",
   "name": "python3"
  },
  "language_info": {
   "codemirror_mode": {
    "name": "ipython",
    "version": 3
   },
   "file_extension": ".py",
   "mimetype": "text/x-python",
   "name": "python",
   "nbconvert_exporter": "python",
   "pygments_lexer": "ipython3",
   "version": "3.12.1"
  }
 },
 "nbformat": 4,
 "nbformat_minor": 5
}
