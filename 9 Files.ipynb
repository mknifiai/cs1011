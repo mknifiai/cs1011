{
 "cells": [
  {
   "cell_type": "markdown",
   "id": "dea8e23b-79e5-4a6e-8c38-b88f3a6c4836",
   "metadata": {},
   "source": [
    "## 1. Reading files"
   ]
  },
  {
   "cell_type": "markdown",
   "id": "1d019464-b312-43fc-a93d-6a91b56b12ac",
   "metadata": {},
   "source": [
    "A common programming task is to retrieve input from a file using the built-in open() function instead of using keyboard entry."
   ]
  },
  {
   "cell_type": "code",
   "execution_count": 15,
   "id": "6ffa25c8-7015-485e-90ef-4c68430a9825",
   "metadata": {},
   "outputs": [],
   "source": [
    "file_name = 'journal.txt'\n",
    "myjournal = open(file_name)\n",
    "\n",
    "contents = myjournal.read()\n",
    "\n",
    "###\n",
    "# The open function creates a file object. \n",
    "# The read function saves the content of the file as a string.\n",
    "###"
   ]
  },
  {
   "cell_type": "code",
   "execution_count": 17,
   "id": "f99dcba9-6c99-4474-afd4-0d148b2fb8c4",
   "metadata": {},
   "outputs": [
    {
     "name": "stdout",
     "output_type": "stream",
     "text": [
      "Because he's the hero Gotham deserves,\n",
      "but not the one it needs right now.\n",
      "\n"
     ]
    }
   ],
   "source": [
    "print(contents)"
   ]
  },
  {
   "cell_type": "code",
   "execution_count": 14,
   "id": "80a59a04-0899-4ead-9cb5-9fd3f11ba9c9",
   "metadata": {},
   "outputs": [
    {
     "name": "stdout",
     "output_type": "stream",
     "text": [
      "Writing journal.txt\n"
     ]
    }
   ],
   "source": [
    "%%writefile journal.txt\n",
    "Because he's the hero Gotham deserves,\n",
    "but not the one it needs right now."
   ]
  },
  {
   "cell_type": "code",
   "execution_count": 11,
   "id": "ffc522ba-377d-4919-b8cf-bf30054d4766",
   "metadata": {},
   "outputs": [
    {
     "name": "stdout",
     "output_type": "stream",
     "text": [
      "Because he's the hero Gotham deserves,\n",
      "but not the one it needs right now.\n"
     ]
    }
   ],
   "source": [
    "%cat journal.txt"
   ]
  },
  {
   "cell_type": "code",
   "execution_count": 13,
   "id": "41123667-dae4-4b1d-ba5d-e6f0d2994895",
   "metadata": {},
   "outputs": [
    {
     "name": "stdout",
     "output_type": "stream",
     "text": [
      "Opening file myfile.txt.\n",
      "Reading file myfile.txt.\n",
      "Closing file myfile.txt.\n",
      "\n",
      "Contents of myfile.txt:\n",
      "Because he's the hero Gotham deserves,\n",
      "but not the one it needs right now.\n",
      "\n"
     ]
    }
   ],
   "source": [
    "print('Opening file myfile.txt.')\n",
    "f = open('myfile.txt')  # create file object\n",
    "\n",
    "print('Reading file myfile.txt.')\n",
    "contents = f.read()  # read file text into a string\n",
    "\n",
    "print('Closing file myfile.txt.')\n",
    "f.close()  # close the file\n",
    "\n",
    "print('\\nContents of myfile.txt:')\n",
    "print(contents)"
   ]
  },
  {
   "cell_type": "markdown",
   "id": "4042f2a9-317f-4a7f-8cce-a106747590cb",
   "metadata": {},
   "source": [
    "**The file.close()** method closes the file, after which no more reads or writes to the file are allowed.\n",
    "\n",
    "**The file.read()** method returns the file contents as a string.\n",
    "\n",
    "**The file.readlines()** method returns a list of strings, where the first element is the contents of the first line, the second element is the contents of the second line, and so on.\n",
    "\n",
    "**EOF**\n",
    "Each method stops reading when the end-of-file (EOF) is detected, which indicates no more data is available."
   ]
  },
  {
   "cell_type": "code",
   "execution_count": 18,
   "id": "7af87946-0c98-4d3b-b878-439dd644e61e",
   "metadata": {},
   "outputs": [
    {
     "name": "stdout",
     "output_type": "stream",
     "text": [
      "Writing mydata.txt\n"
     ]
    }
   ],
   "source": [
    "%%writefile mydata.txt\n",
    "5\n",
    "100\n",
    "30\n",
    "20"
   ]
  },
  {
   "cell_type": "code",
   "execution_count": 20,
   "id": "3de5b3d5-901a-4771-97f4-7bcd658b77fe",
   "metadata": {},
   "outputs": [
    {
     "name": "stdout",
     "output_type": "stream",
     "text": [
      "Reading in data....\n",
      "\n",
      "Calculating average....\n",
      "Average value: 38.75\n"
     ]
    }
   ],
   "source": [
    "# Read file contents\n",
    "print ('Reading in data....')\n",
    "f = open('mydata.txt')\n",
    "lines = f.readlines()\n",
    "f.close()\n",
    "\n",
    "# Iterate over each line\n",
    "print('\\nCalculating average....')\n",
    "total = 0\n",
    "for ln in lines:\n",
    "    total += int(ln)\n",
    "\n",
    "# Compute result\n",
    "avg = total/len(lines)\n",
    "print(f'Average value: {avg}')"
   ]
  },
  {
   "cell_type": "markdown",
   "id": "265970f8-376c-49fa-9010-cfd2454bd763",
   "metadata": {},
   "source": [
    "#### Iterating over the lines of a file."
   ]
  },
  {
   "cell_type": "code",
   "execution_count": 24,
   "id": "464b69cb-7add-41d6-86ce-f7c207e84084",
   "metadata": {},
   "outputs": [
    {
     "name": "stdout",
     "output_type": "stream",
     "text": [
      "Because he's the hero Gotham deserves,\n",
      "but not the one it needs right now.\n"
     ]
    }
   ],
   "source": [
    "#### \n",
    "\n",
    "\"\"\"Echo the contents of a file.\"\"\"\n",
    "f = open('myfile.txt')\n",
    "\n",
    "for line in f:\n",
    "    print(line, end=\"\")\n",
    "\n",
    "f.close()"
   ]
  },
  {
   "cell_type": "markdown",
   "id": "21bffd8e-49c7-426d-9eca-ba4bff774819",
   "metadata": {},
   "source": [
    "## 2. Writing files"
   ]
  },
  {
   "cell_type": "markdown",
   "id": "a4559a9f-6b26-4ac4-8631-64b0a2aac9ae",
   "metadata": {},
   "source": [
    "**file.write()** method writes a string argument to a file."
   ]
  },
  {
   "cell_type": "code",
   "execution_count": 17,
   "id": "eaed06e0-30c7-42c0-a0fe-21771a000e8e",
   "metadata": {},
   "outputs": [],
   "source": [
    "f = open('myfile.txt', 'w')  # Open file\n",
    "f.write('Example string:\\n  test....')  # Write string\n",
    "f.close()  # Close the file"
   ]
  },
  {
   "cell_type": "markdown",
   "id": "e0331d48-ee4e-48be-a1a8-d87b9c34a0bc",
   "metadata": {},
   "source": [
    "#### Numeric values must be converted to strings."
   ]
  },
  {
   "cell_type": "code",
   "execution_count": 26,
   "id": "2a393a2a-c377-4e42-9cb2-28497f68ecc2",
   "metadata": {},
   "outputs": [],
   "source": [
    "num1 = 5\n",
    "num2 = 7.5\n",
    "num3 = num1 + num2\n",
    "\n",
    "f = open('myfile.txt', 'w')\n",
    "f.write(str(num1))\n",
    "f.write(' + ')\n",
    "f.write(str(num2))\n",
    "f.write(' = ')\n",
    "f.write(str(num3))\n",
    "f.close()"
   ]
  },
  {
   "cell_type": "markdown",
   "id": "d1a5c739-664d-42d3-a72d-2e85d7956480",
   "metadata": {},
   "source": [
    "### mode\n",
    "\n",
    "A mode indicates how a file is opened, such as whether or not writing to the file is allowed, if existing contents of the file are overwritten or appended, etc."
   ]
  },
  {
   "cell_type": "markdown",
   "id": "e6dbd628-e745-4267-9d87-655f2302f426",
   "metadata": {},
   "source": [
    "<img src=\"img/modo.png\" width=600 height=600 />"
   ]
  },
  {
   "cell_type": "code",
   "execution_count": 29,
   "id": "3200f8e1-75f7-40bf-a916-19ba0d415a2b",
   "metadata": {},
   "outputs": [],
   "source": [
    "myfile = open('myfile.txt','w')\n",
    "\n",
    "myfile.write('Num')\n",
    "myfile.write('5')\n",
    "myfile.write('\\n') \n",
    "#Statement myfile = open('myfile.txt', 'w') executes, \n",
    "#which opens a file named myfile.txt for writing.\n",
    "\n",
    "#Statement myfile.write('Num') executes. \n",
    "#The interpreter stores 'N', 'u', and 'm' in a buffer.\n",
    "\n",
    "#Statement myfile.write('5') executes. \n",
    "#The interpreter stores '5' in a buffer.\n",
    "\n",
    "#Statement myfile.write('\\n') executes. \n",
    "#The interpreter stores '\\n' in a buffer. Writing a newline causes the buffer to be written to the file, so 'Num5' is placed in myfile.txt."
   ]
  },
  {
   "cell_type": "markdown",
   "id": "6956eb57-f6a0-4776-843b-beae25a6ac04",
   "metadata": {},
   "source": [
    "**flush()** file method can be called to force the interpreter to flush the output buffer to disk."
   ]
  },
  {
   "cell_type": "code",
   "execution_count": 36,
   "id": "b29f0659-7e25-4239-b800-36294aa919c1",
   "metadata": {},
   "outputs": [],
   "source": [
    "import os\n",
    "\n",
    "# Open a file with default line-buffering.\n",
    "f = open('myfile.txt', 'w')\n",
    "\n",
    "# No newline character, so not written to disk immediately\n",
    "f.write('Write me to a file, please!')\n",
    "\n",
    "# Force output buffer to be written to disk\n",
    "f.flush()\n",
    "os.fsync(f.fileno())\n",
    "# The fileno() method returns the file descriptor of the stream, as a number.\n",
    "# The os.fsync() method forces write of file with file descriptor fd to disk.\n"
   ]
  },
  {
   "cell_type": "markdown",
   "id": "a5bb77d4-8e67-44fc-b6b4-1738982bc940",
   "metadata": {},
   "source": [
    "## 3. The 'with' statement\n",
    "\n",
    "A with statement can be used to open a file, execute a block of statements, and automatically close the file when complete."
   ]
  },
  {
   "cell_type": "code",
   "execution_count": null,
   "id": "04124479-ceec-475b-97d0-28db9e404065",
   "metadata": {},
   "outputs": [],
   "source": [
    "with open('myfile.txt', 'r') as myfile:\n",
    "    # Statement-1\n",
    "    # Statement-2\n",
    "    # ....\n",
    "    # Statement-N"
   ]
  },
  {
   "cell_type": "markdown",
   "id": "d140a570-13f4-400a-b55c-6f4959c7da19",
   "metadata": {},
   "source": [
    "**context manager**\n",
    "\n",
    "The with statement creates a context manager, which manages the use of a resource, such as a file, by performing set-up and teardown operations."
   ]
  },
  {
   "cell_type": "code",
   "execution_count": 56,
   "id": "db9f6700-9cb1-473a-a5f7-59cbc999a756",
   "metadata": {},
   "outputs": [
    {
     "name": "stdout",
     "output_type": "stream",
     "text": [
      "Opening myfile.txt\n",
      "Closed myfile.txt\n"
     ]
    }
   ],
   "source": [
    "print('Opening myfile.txt')\n",
    "\n",
    "# Open a file for reading and appending\n",
    "with open('myfile.txt', 'r+') as f:\n",
    "    # Read in two integers\n",
    "    num1 = int(f.readline())\n",
    "    num2 = int(f.readline())\n",
    "\n",
    "    product = num1 * num2\n",
    "\n",
    "    # Write back result on own line\n",
    "    f.write('\\n')\n",
    "    f.write(str(product))\n",
    "    f.write('\\nLine 1\\nLine 2\\n')\n",
    "\n",
    "    \n",
    "    \n",
    "\n",
    "# No need to call f.close() - f closed automatically \n",
    "print('Closed myfile.txt')"
   ]
  },
  {
   "cell_type": "markdown",
   "id": "589fe25a-c1df-498a-bd4c-aa8c786276ca",
   "metadata": {},
   "source": [
    "## 4. comma-separated values / fields\n",
    "\n",
    "A comma-separated values (csv) file is a simple text-based file format that uses commas to separate data items, called fields."
   ]
  },
  {
   "cell_type": "markdown",
   "id": "7aa1845f-241c-4730-b511-4ef743538fe6",
   "metadata": {},
   "source": [
    "**csv module**\n",
    "\n",
    "The Python standard library csv module can be used to help read and write files in the csv format."
   ]
  },
  {
   "cell_type": "code",
   "execution_count": 45,
   "id": "8f5a38b1-01c9-4c9e-919b-7b3057558f1f",
   "metadata": {},
   "outputs": [
    {
     "name": "stdout",
     "output_type": "stream",
     "text": [
      "Overwriting myfile.csv\n"
     ]
    }
   ],
   "source": [
    "%%writefile myfile.csv\n",
    "name, hw1, hw2, midterm, final\n",
    "Petr Little, 9, 8, 85, 78\n",
    "Sam Tarley, 10, 10, 99, 100\n",
    "Joff King, 4, 2, 55, 61"
   ]
  },
  {
   "cell_type": "code",
   "execution_count": 57,
   "id": "2f6b27a4-b0d9-44eb-8237-3a3e975ba5e5",
   "metadata": {},
   "outputs": [
    {
     "name": "stdout",
     "output_type": "stream",
     "text": [
      "Row #1: ['name', ' hw1', ' hw2', ' midterm', ' final']\n",
      "Row #2: ['Petr Little', ' 9', ' 8', ' 85', ' 78']\n",
      "Row #3: ['Sam Tarley', ' 10', ' 10', ' 99', ' 100']\n",
      "Row #4: ['Joff King', ' 4', ' 2', ' 55', ' 61']\n"
     ]
    }
   ],
   "source": [
    "import csv\n",
    "\n",
    "with open('myfile.csv', 'r') as csvfile:\n",
    "    grades_reader = csv.reader(csvfile, delimiter=',')\n",
    "\n",
    "    row_num = 1\n",
    "    for row in grades_reader:\n",
    "        print(f'Row #{row_num}: {row}')\n",
    "        row_num += 1"
   ]
  },
  {
   "cell_type": "markdown",
   "id": "114a7654-b2db-4407-b487-5aefb45adaa3",
   "metadata": {},
   "source": [
    "### Writing rows to a csv module."
   ]
  },
  {
   "cell_type": "code",
   "execution_count": 65,
   "id": "68bcfc93-99d6-4fbf-93ba-2ac799d9cb85",
   "metadata": {},
   "outputs": [],
   "source": [
    "import csv\n",
    "\n",
    "row1 = ['100', '50', '29']\n",
    "row2 = ['76', '32', '330']\n",
    "\n",
    "with open('gradeswr.csv', 'w') as csvfile:\n",
    "    grades_writer = csv.writer(csvfile)\n",
    "\n",
    "    grades_writer.writerow(row1)\n",
    "    grades_writer.writerow(row2)\n",
    "\n",
    "    grades_writer.writerows([row1, row2])"
   ]
  },
  {
   "cell_type": "code",
   "execution_count": null,
   "id": "87df9b3e-fcba-4954-ae77-a008f50ea26e",
   "metadata": {},
   "outputs": [],
   "source": []
  }
 ],
 "metadata": {
  "kernelspec": {
   "display_name": "Python 3 (ipykernel)",
   "language": "python",
   "name": "python3"
  },
  "language_info": {
   "codemirror_mode": {
    "name": "ipython",
    "version": 3
   },
   "file_extension": ".py",
   "mimetype": "text/x-python",
   "name": "python",
   "nbconvert_exporter": "python",
   "pygments_lexer": "ipython3",
   "version": "3.12.1"
  }
 },
 "nbformat": 4,
 "nbformat_minor": 5
}
