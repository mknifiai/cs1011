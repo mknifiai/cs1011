{
 "cells": [
  {
   "cell_type": "markdown",
   "id": "dea8e23b-79e5-4a6e-8c38-b88f3a6c4836",
   "metadata": {},
   "source": [
    "## 1. Reading files"
   ]
  },
  {
   "cell_type": "markdown",
   "id": "1d019464-b312-43fc-a93d-6a91b56b12ac",
   "metadata": {},
   "source": [
    "A common programming task is to retrieve input from a file using the built-in open() function instead of using keyboard entry."
   ]
  },
  {
   "cell_type": "code",
   "execution_count": null,
   "id": "6ffa25c8-7015-485e-90ef-4c68430a9825",
   "metadata": {},
   "outputs": [],
   "source": [
    "myjournal = open('journal.txt')\n",
    "\n",
    "contents = myjournal.read()\n",
    "\n",
    "###\n",
    "# The open function creates a file object. \n",
    "# The read function saves the content of the file as a string.\n",
    "###"
   ]
  },
  {
   "cell_type": "code",
   "execution_count": 12,
   "id": "80a59a04-0899-4ead-9cb5-9fd3f11ba9c9",
   "metadata": {},
   "outputs": [
    {
     "name": "stdout",
     "output_type": "stream",
     "text": [
      "Overwriting myfile.txt\n"
     ]
    }
   ],
   "source": [
    "%%writefile myfile.txt\n",
    "Because he's the hero Gotham deserves,\n",
    "but not the one it needs right now."
   ]
  },
  {
   "cell_type": "code",
   "execution_count": 13,
   "id": "41123667-dae4-4b1d-ba5d-e6f0d2994895",
   "metadata": {},
   "outputs": [
    {
     "name": "stdout",
     "output_type": "stream",
     "text": [
      "Opening file myfile.txt.\n",
      "Reading file myfile.txt.\n",
      "Closing file myfile.txt.\n",
      "\n",
      "Contents of myfile.txt:\n",
      "Because he's the hero Gotham deserves,\n",
      "but not the one it needs right now.\n",
      "\n"
     ]
    }
   ],
   "source": [
    "print('Opening file myfile.txt.')\n",
    "f = open('myfile.txt')  # create file object\n",
    "\n",
    "print('Reading file myfile.txt.')\n",
    "contents = f.read()  # read file text into a string\n",
    "\n",
    "print('Closing file myfile.txt.')\n",
    "f.close()  # close the file\n",
    "\n",
    "print('\\nContents of myfile.txt:')\n",
    "print(contents)"
   ]
  },
  {
   "cell_type": "markdown",
   "id": "4042f2a9-317f-4a7f-8cce-a106747590cb",
   "metadata": {},
   "source": [
    "**The file.close()** method closes the file, after which no more reads or writes to the file are allowed.\n",
    "\n",
    "**The file.read()** method returns the file contents as a string.\n",
    "\n",
    "**The file.readlines()** method returns a list of strings, where the first element is the contents of the first line, the second element is the contents of the second line, and so on.\n",
    "\n",
    "**EOF**\n",
    "Each method stops reading when the end-of-file (EOF) is detected, which indicates no more data is available."
   ]
  },
  {
   "cell_type": "code",
   "execution_count": 14,
   "id": "7af87946-0c98-4d3b-b878-439dd644e61e",
   "metadata": {},
   "outputs": [
    {
     "name": "stdout",
     "output_type": "stream",
     "text": [
      "Overwriting mydata.txt\n"
     ]
    }
   ],
   "source": [
    "%%writefile mydata.txt\n",
    "5\n",
    "100\n",
    "30\n",
    "20"
   ]
  },
  {
   "cell_type": "code",
   "execution_count": 15,
   "id": "3de5b3d5-901a-4771-97f4-7bcd658b77fe",
   "metadata": {},
   "outputs": [
    {
     "name": "stdout",
     "output_type": "stream",
     "text": [
      "Reading in data....\n",
      "\n",
      "Calculating average....\n",
      "Average value: 38.75\n"
     ]
    }
   ],
   "source": [
    "# Read file contents\n",
    "print ('Reading in data....')\n",
    "f = open('mydata.txt')\n",
    "lines = f.readlines()\n",
    "f.close()\n",
    "\n",
    "# Iterate over each line\n",
    "print('\\nCalculating average....')\n",
    "total = 0\n",
    "for ln in lines:\n",
    "    total += int(ln)\n",
    "\n",
    "# Compute result\n",
    "avg = total/len(lines)\n",
    "print(f'Average value: {avg}')"
   ]
  },
  {
   "cell_type": "markdown",
   "id": "265970f8-376c-49fa-9010-cfd2454bd763",
   "metadata": {},
   "source": [
    "#### Iterating over the lines of a file."
   ]
  },
  {
   "cell_type": "code",
   "execution_count": 16,
   "id": "464b69cb-7add-41d6-86ce-f7c207e84084",
   "metadata": {},
   "outputs": [
    {
     "name": "stdout",
     "output_type": "stream",
     "text": [
      "Because he's the hero Gotham deserves,\n",
      "but not the one it needs right now.\n"
     ]
    }
   ],
   "source": [
    "#### \n",
    "\n",
    "\"\"\"Echo the contents of a file.\"\"\"\n",
    "f = open('myfile.txt')\n",
    "\n",
    "for line in f:\n",
    "    print(line, end=\"\")\n",
    "\n",
    "f.close()"
   ]
  },
  {
   "cell_type": "markdown",
   "id": "21bffd8e-49c7-426d-9eca-ba4bff774819",
   "metadata": {},
   "source": [
    "## 2. Writing files"
   ]
  },
  {
   "cell_type": "markdown",
   "id": "a4559a9f-6b26-4ac4-8631-64b0a2aac9ae",
   "metadata": {},
   "source": [
    "**file.write()** method writes a string argument to a file."
   ]
  },
  {
   "cell_type": "code",
   "execution_count": 17,
   "id": "eaed06e0-30c7-42c0-a0fe-21771a000e8e",
   "metadata": {},
   "outputs": [],
   "source": [
    "f = open('myfile.txt', 'w')  # Open file\n",
    "f.write('Example string:\\n  test....')  # Write string\n",
    "f.close()  # Close the file"
   ]
  },
  {
   "cell_type": "markdown",
   "id": "e0331d48-ee4e-48be-a1a8-d87b9c34a0bc",
   "metadata": {},
   "source": [
    "#### Numeric values must be converted to strings."
   ]
  },
  {
   "cell_type": "code",
   "execution_count": 18,
   "id": "2a393a2a-c377-4e42-9cb2-28497f68ecc2",
   "metadata": {},
   "outputs": [],
   "source": [
    "num1 = 5\n",
    "num2 = 7.5\n",
    "num3 = num1 + num2\n",
    "\n",
    "f = open('myfile.txt', 'w')\n",
    "f.write(str(num1))\n",
    "f.write(' + ')\n",
    "f.write(str(num2))\n",
    "f.write(' = ')\n",
    "f.write(str(num3))\n",
    "f.close()"
   ]
  },
  {
   "cell_type": "markdown",
   "id": "d1a5c739-664d-42d3-a72d-2e85d7956480",
   "metadata": {},
   "source": [
    "### mode\n",
    "\n",
    "A mode indicates how a file is opened, such as whether or not writing to the file is allowed, if existing contents of the file are overwritten or appended, etc."
   ]
  },
  {
   "cell_type": "markdown",
   "id": "e6dbd628-e745-4267-9d87-655f2302f426",
   "metadata": {},
   "source": [
    "<img src=\"img/modo.png\" width=600 height=600 />"
   ]
  },
  {
   "cell_type": "code",
   "execution_count": null,
   "id": "3200f8e1-75f7-40bf-a916-19ba0d415a2b",
   "metadata": {},
   "outputs": [],
   "source": [
    "myfile = (myfile.txt' ,'w)\n",
    "\n",
    "myfile.write('Num')\n",
    "myfile.write('5')\n",
    "myfile.write('\\n') \n",
    "\n",
    "#Statement myfile = open('myfile.txt', 'w') executes, \n",
    "#which opens a file named myfile.txt for writing.\n",
    "\n",
    "#Statement myfile.write('Num') executes. \n",
    "#The interpreter stores 'N', 'u', and 'm' in a buffer.\n",
    "\n",
    "#Statement myfile.write('5') executes. \n",
    "#The interpreter stores '5' in a buffer.\n",
    "\n",
    "#Statement myfile.write('\\n') executes. \n",
    "#The interpreter stores '\\n' in a buffer. Writing a newline causes the buffer to be written to the file, so 'Num5' is placed in myfile.txt."
   ]
  },
  {
   "cell_type": "markdown",
   "id": "6956eb57-f6a0-4776-843b-beae25a6ac04",
   "metadata": {},
   "source": [
    "**flush()** file method can be called to force the interpreter to flush the output buffer to disk."
   ]
  },
  {
   "cell_type": "code",
   "execution_count": 21,
   "id": "b29f0659-7e25-4239-b800-36294aa919c1",
   "metadata": {},
   "outputs": [],
   "source": [
    "import os\n",
    "\n",
    "# Open a file with default line-buffering.\n",
    "f = open('myfile.txt', 'w')\n",
    "\n",
    "# No newline character, so not written to disk immediately\n",
    "f.write('Write me to a file, please!')\n",
    "\n",
    "# Force output buffer to be written to disk\n",
    "f.flush()\n",
    "os.fsync(f.fileno())\n",
    "# The fileno() method returns the file descriptor of the stream, as a number.\n",
    "# The os.fsync() method forces write of file with file descriptor fd to disk.\n"
   ]
  },
  {
   "cell_type": "markdown",
   "id": "b2e0e10d-5ad1-4a7a-8251-5bf5e5f79cb8",
   "metadata": {},
   "source": [
    "## 3. Interacting with file systems\n",
    "\n",
    "**OS module**\n",
    "\n",
    "The Python standard library's OS module provides an interface to operating system function calls and is thus a critical piece of a Python programmer's toolbox."
   ]
  },
  {
   "cell_type": "markdown",
   "id": "9c88a80f-d308-463a-b57d-956673df96e0",
   "metadata": {},
   "source": [
    "**Portability**\n",
    "\n",
    "Portability, the ability to access an item easily from multiple locations.\n",
    "\n",
    "**path separator**\n",
    "\n",
    "The character between directories, $\\textbackslash \\textbackslash$ , '/' is called the path separator, and using the incorrect path separator may result in that file not being found."
   ]
  },
  {
   "cell_type": "markdown",
   "id": "7802b618-2682-425c-b2fa-d26def72ea41",
   "metadata": {},
   "source": [
    "**Using os.path.join() to create a portable file path string.**"
   ]
  },
  {
   "cell_type": "code",
   "execution_count": 22,
   "id": "e7c06eae-033d-404f-b558-253d0ae26d3c",
   "metadata": {},
   "outputs": [
    {
     "ename": "FileNotFoundError",
     "evalue": "[Errno 2] No such file or directory: 'logs/1997/8/29/log.txt'",
     "output_type": "error",
     "traceback": [
      "\u001b[0;31m---------------------------------------------------------------------------\u001b[0m",
      "\u001b[0;31mFileNotFoundError\u001b[0m                         Traceback (most recent call last)",
      "Cell \u001b[0;32mIn[22], line 15\u001b[0m\n\u001b[1;32m     12\u001b[0m \u001b[38;5;66;03m# Build path string using current OS path separator\u001b[39;00m\n\u001b[1;32m     13\u001b[0m file_path \u001b[38;5;241m=\u001b[39m os\u001b[38;5;241m.\u001b[39mpath\u001b[38;5;241m.\u001b[39mjoin(\u001b[38;5;124m'\u001b[39m\u001b[38;5;124mlogs\u001b[39m\u001b[38;5;124m'\u001b[39m, year, month, day, \u001b[38;5;124m'\u001b[39m\u001b[38;5;124mlog.txt\u001b[39m\u001b[38;5;124m'\u001b[39m)\n\u001b[0;32m---> 15\u001b[0m f \u001b[38;5;241m=\u001b[39m \u001b[38;5;28;43mopen\u001b[39;49m\u001b[43m(\u001b[49m\u001b[43mfile_path\u001b[49m\u001b[43m,\u001b[49m\u001b[43m \u001b[49m\u001b[38;5;124;43m'\u001b[39;49m\u001b[38;5;124;43mr\u001b[39;49m\u001b[38;5;124;43m'\u001b[39;49m\u001b[43m)\u001b[49m\n\u001b[1;32m     17\u001b[0m \u001b[38;5;28mprint\u001b[39m(\u001b[38;5;124mf\u001b[39m\u001b[38;5;124m'\u001b[39m\u001b[38;5;132;01m{\u001b[39;00mfile_path\u001b[38;5;132;01m}\u001b[39;00m\u001b[38;5;124m: \u001b[39m\u001b[38;5;132;01m{\u001b[39;00mf\u001b[38;5;241m.\u001b[39mread()\u001b[38;5;132;01m}\u001b[39;00m\u001b[38;5;124m'\u001b[39m)\n\u001b[1;32m     18\u001b[0m f\u001b[38;5;241m.\u001b[39mclose()\n",
      "File \u001b[0;32m/Library/Frameworks/Python.framework/Versions/3.12/lib/python3.12/site-packages/IPython/core/interactiveshell.py:310\u001b[0m, in \u001b[0;36m_modified_open\u001b[0;34m(file, *args, **kwargs)\u001b[0m\n\u001b[1;32m    303\u001b[0m \u001b[38;5;28;01mif\u001b[39;00m file \u001b[38;5;129;01min\u001b[39;00m {\u001b[38;5;241m0\u001b[39m, \u001b[38;5;241m1\u001b[39m, \u001b[38;5;241m2\u001b[39m}:\n\u001b[1;32m    304\u001b[0m     \u001b[38;5;28;01mraise\u001b[39;00m \u001b[38;5;167;01mValueError\u001b[39;00m(\n\u001b[1;32m    305\u001b[0m         \u001b[38;5;124mf\u001b[39m\u001b[38;5;124m\"\u001b[39m\u001b[38;5;124mIPython won\u001b[39m\u001b[38;5;124m'\u001b[39m\u001b[38;5;124mt let you open fd=\u001b[39m\u001b[38;5;132;01m{\u001b[39;00mfile\u001b[38;5;132;01m}\u001b[39;00m\u001b[38;5;124m by default \u001b[39m\u001b[38;5;124m\"\u001b[39m\n\u001b[1;32m    306\u001b[0m         \u001b[38;5;124m\"\u001b[39m\u001b[38;5;124mas it is likely to crash IPython. If you know what you are doing, \u001b[39m\u001b[38;5;124m\"\u001b[39m\n\u001b[1;32m    307\u001b[0m         \u001b[38;5;124m\"\u001b[39m\u001b[38;5;124myou can use builtins\u001b[39m\u001b[38;5;124m'\u001b[39m\u001b[38;5;124m open.\u001b[39m\u001b[38;5;124m\"\u001b[39m\n\u001b[1;32m    308\u001b[0m     )\n\u001b[0;32m--> 310\u001b[0m \u001b[38;5;28;01mreturn\u001b[39;00m \u001b[43mio_open\u001b[49m\u001b[43m(\u001b[49m\u001b[43mfile\u001b[49m\u001b[43m,\u001b[49m\u001b[43m \u001b[49m\u001b[38;5;241;43m*\u001b[39;49m\u001b[43margs\u001b[49m\u001b[43m,\u001b[49m\u001b[43m \u001b[49m\u001b[38;5;241;43m*\u001b[39;49m\u001b[38;5;241;43m*\u001b[39;49m\u001b[43mkwargs\u001b[49m\u001b[43m)\u001b[49m\n",
      "\u001b[0;31mFileNotFoundError\u001b[0m: [Errno 2] No such file or directory: 'logs/1997/8/29/log.txt'"
     ]
    }
   ],
   "source": [
    "import os\n",
    "import datetime\n",
    "\n",
    "curr_day = datetime.date(1997, 8, 29)\n",
    "\n",
    "num_days = 30\n",
    "for i in range(num_days):\n",
    "    year = str(curr_day.year)\n",
    "    month = str(curr_day.month)\n",
    "    day = str(curr_day.day)\n",
    "\n",
    "    # Build path string using current OS path separator\n",
    "    file_path = os.path.join('logs', year, month, day, 'log.txt')\n",
    "\n",
    "    f = open(file_path, 'r')\n",
    "    \n",
    "    print(f'{file_path}: {f.read()}')\n",
    "    f.close()\n",
    "\n",
    "    curr_day = curr_day + datetime.timedelta(days=1)"
   ]
  },
  {
   "cell_type": "markdown",
   "id": "c809081b-52b1-495b-b7cb-cfd1cb70ae32",
   "metadata": {},
   "source": [
    "**The os.walk() function \"walks\" a directory tree like the one above, visiting each subdirectory in the specified path.**"
   ]
  },
  {
   "cell_type": "code",
   "execution_count": 23,
   "id": "da077506-d1bb-4aac-b881-21b837324013",
   "metadata": {},
   "outputs": [
    {
     "name": "stdin",
     "output_type": "stream",
     "text": [
      "Enter year:  199\n"
     ]
    },
    {
     "name": "stdout",
     "output_type": "stream",
     "text": [
      "\n"
     ]
    }
   ],
   "source": [
    "import os\n",
    "\n",
    "year = input('Enter year: ')\n",
    "path = os.path.join('logs', year)\n",
    "print()\n",
    "\n",
    "for dirname, subdirs, files in os.walk(path):\n",
    "    print(dirname, 'contains subdirectories:', subdirs, end=' ')\n",
    "    print('and the files:', files)"
   ]
  },
  {
   "cell_type": "markdown",
   "id": "a5bb77d4-8e67-44fc-b6b4-1738982bc940",
   "metadata": {},
   "source": [
    "## 4. The 'with' statement\n",
    "\n",
    "A with statement can be used to open a file, execute a block of statements, and automatically close the file when complete."
   ]
  },
  {
   "cell_type": "code",
   "execution_count": null,
   "id": "04124479-ceec-475b-97d0-28db9e404065",
   "metadata": {},
   "outputs": [],
   "source": [
    "with open('myfile.txt', 'r') as myfile:\n",
    "    # Statement-1\n",
    "    # Statement-2\n",
    "    # ....\n",
    "    # Statement-N"
   ]
  },
  {
   "cell_type": "markdown",
   "id": "d140a570-13f4-400a-b55c-6f4959c7da19",
   "metadata": {},
   "source": [
    "**context manager**\n",
    "\n",
    "The with statement creates a context manager, which manages the use of a resource, such as a file, by performing set-up and teardown operations."
   ]
  },
  {
   "cell_type": "code",
   "execution_count": null,
   "id": "db9f6700-9cb1-473a-a5f7-59cbc999a756",
   "metadata": {},
   "outputs": [],
   "source": [
    "print('Opening myfile.txt')\n",
    "\n",
    "# Open a file for reading and appending\n",
    "with open('myfile.txt', 'r+') as f:\n",
    "    # Read in two integers\n",
    "    num1 = int(f.readline())\n",
    "    num2 = int(f.readline())\n",
    "\n",
    "    product = num1 * num2\n",
    "\n",
    "    # Write back result on own line\n",
    "    f.write('\\n')\n",
    "    f.write(str(product))\n",
    "\n",
    "# No need to call f.close() - f closed automatically \n",
    "print('Closed myfile.txt')"
   ]
  },
  {
   "cell_type": "markdown",
   "id": "589fe25a-c1df-498a-bd4c-aa8c786276ca",
   "metadata": {},
   "source": [
    "## 5. comma-separated values / fields\n",
    "\n",
    "A comma-separated values (csv) file is a simple text-based file format that uses commas to separate data items, called fields."
   ]
  },
  {
   "cell_type": "markdown",
   "id": "7aa1845f-241c-4730-b511-4ef743538fe6",
   "metadata": {},
   "source": [
    "**csv module**\n",
    "\n",
    "The Python standard library csv module can be used to help read and write files in the csv format."
   ]
  },
  {
   "cell_type": "code",
   "execution_count": 34,
   "id": "8f5a38b1-01c9-4c9e-919b-7b3057558f1f",
   "metadata": {},
   "outputs": [
    {
     "name": "stdout",
     "output_type": "stream",
     "text": [
      "Overwriting myfile.csv\n"
     ]
    }
   ],
   "source": [
    "%%writefile myfile.csv\n",
    "name, hw1, hw2, midterm, final\n",
    "Petr Little, 9, 8, 85, 78\n",
    "Sam Tarley, 10, 10, 99, 100\n",
    "Joff King, 4, 2, 55, 61"
   ]
  },
  {
   "cell_type": "code",
   "execution_count": 35,
   "id": "2f6b27a4-b0d9-44eb-8237-3a3e975ba5e5",
   "metadata": {},
   "outputs": [
    {
     "name": "stdout",
     "output_type": "stream",
     "text": [
      "Row #1: ['name', ' hw1', ' hw2', ' midterm', ' final']\n",
      "Row #2: ['Petr Little', ' 9', ' 8', ' 85', ' 78']\n",
      "Row #3: ['Sam Tarley', ' 10', ' 10', ' 99', ' 100']\n",
      "Row #4: ['Joff King', ' 4', ' 2', ' 55', ' 61']\n"
     ]
    }
   ],
   "source": [
    "import csv\n",
    "\n",
    "with open('myfile.csv', 'r') as csvfile:\n",
    "    grades_reader = csv.reader(csvfile, delimiter=',')\n",
    "\n",
    "    row_num = 1\n",
    "    for row in grades_reader:\n",
    "        print(f'Row #{row_num}: {row}')\n",
    "        row_num += 1"
   ]
  },
  {
   "cell_type": "markdown",
   "id": "114a7654-b2db-4407-b487-5aefb45adaa3",
   "metadata": {},
   "source": [
    "### Writing rows to a csv module."
   ]
  },
  {
   "cell_type": "code",
   "execution_count": 36,
   "id": "68bcfc93-99d6-4fbf-93ba-2ac799d9cb85",
   "metadata": {},
   "outputs": [],
   "source": [
    "import csv\n",
    "\n",
    "row1 = ['100', '50', '29']\n",
    "row2 = ['76', '32', '330']\n",
    "\n",
    "with open('gradeswr.csv', 'w', newline='') as csvfile:\n",
    "    grades_writer = csv.writer(csvfile)\n",
    "\n",
    "    grades_writer.writerow(row1)\n",
    "    grades_writer.writerow(row2)\n",
    "\n",
    "    grades_writer.writerows([row1, row2])"
   ]
  },
  {
   "cell_type": "markdown",
   "id": "a4e0033b-5d05-4357-b5a8-0c2c1c325da0",
   "metadata": {},
   "source": [
    "### What does the following program do?"
   ]
  },
  {
   "cell_type": "code",
   "execution_count": null,
   "id": "b097d9a1-7767-4586-94ca-26acf57528c5",
   "metadata": {},
   "outputs": [],
   "source": [
    "import csv\n",
    "\n",
    "file_name = input()\n",
    "\n",
    "word_list = []\n",
    "\n",
    "with open(str(file_name), 'r') as csvfile:\n",
    "    user_file = csv.reader(csvfile, delimiter=',')\n",
    "    \n",
    "    for row in user_file:\n",
    "        for index in range(len(row)):\n",
    "            if row[index] not in word_list:\n",
    "                print(f'{row[index]} - {row.count(row[index])}')\n",
    "                word_list.append(row[index])"
   ]
  }
 ],
 "metadata": {
  "kernelspec": {
   "display_name": "Python 3 (ipykernel)",
   "language": "python",
   "name": "python3"
  },
  "language_info": {
   "codemirror_mode": {
    "name": "ipython",
    "version": 3
   },
   "file_extension": ".py",
   "mimetype": "text/x-python",
   "name": "python",
   "nbconvert_exporter": "python",
   "pygments_lexer": "ipython3",
   "version": "3.12.1"
  }
 },
 "nbformat": 4,
 "nbformat_minor": 5
}
