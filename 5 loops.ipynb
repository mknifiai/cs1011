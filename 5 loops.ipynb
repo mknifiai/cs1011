{
 "cells": [
  {
   "cell_type": "markdown",
   "id": "b8a2bf91-93b7-46ff-aeda-ec3ad5bc6226",
   "metadata": {},
   "source": [
    "## Loops"
   ]
  },
  {
   "cell_type": "markdown",
   "id": "27641823-3a81-440f-9b64-275e73738a64",
   "metadata": {},
   "source": [
    "**loop / loop body**\n",
    "\n",
    "A loop is a program construct that repeatedly executes the loop's statements (known as the loop body) while the loop's expression is true; when the expression is false, execution proceeds past the loop.\n",
    "\n",
    "**iteration**\n",
    "\n",
    "Each time through a loop's statements is called an iteration."
   ]
  },
  {
   "cell_type": "markdown",
   "id": "10141e17-2918-4948-a091-396cab61fc7d",
   "metadata": {},
   "source": [
    "### 1. While loops"
   ]
  },
  {
   "cell_type": "code",
   "execution_count": null,
   "id": "1c1c0779-d139-4897-a42c-1aa25a8b0aa4",
   "metadata": {},
   "outputs": [],
   "source": [
    "while expression:  # Loop expression\n",
    "    # Loop body: Sub-statements to execute\n",
    "    # if the loop expression evaluates to True\n",
    "\n",
    "# Statements to execute after the expression evaluates to False"
   ]
  },
  {
   "cell_type": "code",
   "execution_count": 1,
   "id": "eb9aa422-7d15-473a-a9e3-5e97dfd246d9",
   "metadata": {},
   "outputs": [
    {
     "name": "stdout",
     "output_type": "stream",
     "text": [
      "2\n"
     ]
    },
    {
     "name": "stdin",
     "output_type": "stream",
     "text": [
      " y\n"
     ]
    },
    {
     "name": "stdout",
     "output_type": "stream",
     "text": [
      "4\n"
     ]
    },
    {
     "name": "stdin",
     "output_type": "stream",
     "text": [
      " y\n"
     ]
    },
    {
     "name": "stdout",
     "output_type": "stream",
     "text": [
      "8\n"
     ]
    },
    {
     "name": "stdin",
     "output_type": "stream",
     "text": [
      " b\n"
     ]
    },
    {
     "name": "stdout",
     "output_type": "stream",
     "text": [
      "Done\n"
     ]
    }
   ],
   "source": [
    "curr_power = 2\n",
    "user_char = 'y'\n",
    "\n",
    "while user_char == 'y':\n",
    "    print(curr_power)\n",
    "    curr_power = curr_power * 2\n",
    "    user_char = input()\n",
    "\n",
    "print('Done')"
   ]
  },
  {
   "cell_type": "markdown",
   "id": "e5a38480-9870-453c-a98e-6b046156fd4f",
   "metadata": {},
   "source": [
    "#### sentinel value\n",
    "a value that when evaluated by the loop expression causes the loop to terminate."
   ]
  },
  {
   "cell_type": "code",
   "execution_count": 3,
   "id": "209b375e-40af-4204-802f-225710e3e66c",
   "metadata": {},
   "outputs": [
    {
     "name": "stdout",
     "output_type": "stream",
     "text": [
      " - - \n",
      "  0  \n",
      "-----\n",
      "\n",
      "\n"
     ]
    },
    {
     "name": "stdin",
     "output_type": "stream",
     "text": [
      "Enter a character ('q' for quit):  10\n"
     ]
    },
    {
     "name": "stdout",
     "output_type": "stream",
     "text": [
      " 1 1 \n",
      "  0  \n",
      "11111\n",
      "\n",
      "\n"
     ]
    },
    {
     "name": "stdin",
     "output_type": "stream",
     "text": [
      "Enter a character ('q' for quit):  3\n"
     ]
    },
    {
     "name": "stdout",
     "output_type": "stream",
     "text": [
      " 3 3 \n",
      "  0  \n",
      "33333\n",
      "\n",
      "\n"
     ]
    },
    {
     "name": "stdin",
     "output_type": "stream",
     "text": [
      "Enter a character ('q' for quit):  q\n"
     ]
    },
    {
     "name": "stdout",
     "output_type": "stream",
     "text": [
      "Goodbye.\n",
      "\n"
     ]
    }
   ],
   "source": [
    "nose = '0'  # Looks a little like a nose\n",
    "user_value = '-'\n",
    "\n",
    "while user_value != 'q':\n",
    "    print(f' {user_value} {user_value} ')  # Print eyes     \n",
    "    print(f'  {nose}  ')  # Print nose     \n",
    "    print(user_value*5)  # Print mouth\n",
    "    print('\\n')\n",
    "\n",
    "    # Get new character for eyes and mouth\n",
    "    user_input = input(\"Enter a character ('q' for quit): \")\n",
    "    user_value = user_input[0]\n",
    "\n",
    "print('Goodbye.\\n')"
   ]
  },
  {
   "cell_type": "markdown",
   "id": "108bf7e7-4f2a-47ee-b2f5-454c66d63b84",
   "metadata": {},
   "source": [
    "### infinite loop\n",
    "\n",
    "An infinite loop is a loop that will always execute because the loop's expression is always True."
   ]
  },
  {
   "cell_type": "markdown",
   "id": "3d2656a4-9c65-4a5a-8706-e5ecda4a2549",
   "metadata": {},
   "source": [
    "#### While loop example"
   ]
  },
  {
   "cell_type": "code",
   "execution_count": 7,
   "id": "de625340-2173-4894-85d4-50d0df3a30a9",
   "metadata": {},
   "outputs": [
    {
     "name": "stdin",
     "output_type": "stream",
     "text": [
      " 10\n",
      " 1\n",
      " 0\n"
     ]
    },
    {
     "name": "stdout",
     "output_type": "stream",
     "text": [
      "Average: 6\n",
      "\n"
     ]
    }
   ],
   "source": [
    "'''\n",
    "Outputs average of list of positive integers\n",
    "List ends with 0 (sentinel)\n",
    "Ex: 10 1 6 3 0  yields (10 + 1 + 6 + 3) / 4, or 5\n",
    "'''\n",
    "\n",
    "values_sum = 0\n",
    "num_values = 0\n",
    "\n",
    "curr_value = int(input())\n",
    "   \n",
    "while curr_value > 0: # Get values until 0 (or less)\n",
    "    values_sum += curr_value\n",
    "    num_values += 1\n",
    "    curr_value = int(input())\n",
    "\n",
    "print(f'Average: {values_sum / num_values:.0f}\\n')"
   ]
  },
  {
   "cell_type": "markdown",
   "id": "ed62b9a4-2cb1-4afe-a5fb-67eb8d04f706",
   "metadata": {},
   "source": [
    "### Counting\n",
    "\n",
    "**loop variable**\n",
    "\n",
    "The programmer can use a variable to count the number of iterations, called a loop variable."
   ]
  },
  {
   "cell_type": "code",
   "execution_count": 9,
   "id": "0901df37-650c-4728-ba3f-7c586277e679",
   "metadata": {},
   "outputs": [
    {
     "name": "stdout",
     "output_type": "stream",
     "text": [
      "6\n"
     ]
    }
   ],
   "source": [
    "# Iterating N times using a loop variable\n",
    "N = 5\n",
    "i = 1\n",
    "while i <= N:\n",
    "    # Loop body statements go here\n",
    "    i = i + 1\n",
    "\n",
    "print(i)"
   ]
  },
  {
   "cell_type": "markdown",
   "id": "fdff6b18-94e0-400c-9372-8c7625df9421",
   "metadata": {},
   "source": [
    "### 2. For loops"
   ]
  },
  {
   "cell_type": "markdown",
   "id": "1d4bafe5-d2a9-4c3e-b290-392a0a35cbd5",
   "metadata": {},
   "source": [
    "**A for loop statement** loops over each element in a container one at a time, assigning a variable with the next element that can then be used in the loop body."
   ]
  },
  {
   "cell_type": "code",
   "execution_count": null,
   "id": "71b10104-9266-4901-ae67-a0c76d547f9b",
   "metadata": {},
   "outputs": [],
   "source": [
    "for variable in container:\n",
    "    # Loop body: Sub-statements to execute\n",
    "    # for each item in the container\n",
    "\n",
    "# Statements to execute after the for loop is complete\n"
   ]
  },
  {
   "cell_type": "code",
   "execution_count": 10,
   "id": "d7776076-8dc4-48f9-b920-89dc05f2619e",
   "metadata": {},
   "outputs": [
    {
     "name": "stdout",
     "output_type": "stream",
     "text": [
      "MTV is on channel 35\n",
      "CNN is on channel 28\n",
      "FOX is on channel 11\n",
      "NBC is on channel 4\n",
      "CBS is on channel 12\n"
     ]
    }
   ],
   "source": [
    "channels = {\n",
    "    'MTV': 35,\n",
    "    'CNN': 28,\n",
    "    'FOX': 11,\n",
    "    'NBC': 4,\n",
    "    'CBS': 12\n",
    "}\n",
    "\n",
    "for c in channels:\n",
    "    print(f'{c} is on channel {channels[c]}')"
   ]
  },
  {
   "cell_type": "code",
   "execution_count": 11,
   "id": "47f78a5d-297c-4f40-b99b-03d65fb6286a",
   "metadata": {},
   "outputs": [
    {
     "name": "stdout",
     "output_type": "stream",
     "text": [
      "T_a_k_e_ _m_e_ _t_o_ _t_h_e_ _m_o_o_n_._\n"
     ]
    }
   ],
   "source": [
    "my_str = ''\n",
    "for character in \"Take me to the moon.\":\n",
    "    my_str += character + '_'\n",
    "print(my_str)"
   ]
  },
  {
   "cell_type": "markdown",
   "id": "f47e5bea-c789-440f-ae63-b536327e48ac",
   "metadata": {},
   "source": [
    "#### Reversed"
   ]
  },
  {
   "cell_type": "code",
   "execution_count": 13,
   "id": "719ae8e0-1a0f-464e-b9a7-15e4e205ec0f",
   "metadata": {},
   "outputs": [
    {
     "name": "stdout",
     "output_type": "stream",
     "text": [
      "Biffle | Bowyer | Busch | Gordon | Patrick | \n",
      "Printing in reverse:\n",
      "Patrick | Gordon | Busch | Bowyer | Biffle | "
     ]
    }
   ],
   "source": [
    "names = [\n",
    "    'Biffle',\n",
    "    'Bowyer', \n",
    "    'Busch',\n",
    "    'Gordon',\n",
    "    'Patrick'\n",
    "]\n",
    "\n",
    "for name in names:\n",
    "    print(name, '|', end=' ')\n",
    "\n",
    "print('\\nPrinting in reverse:')\n",
    "for name in reversed(names):\n",
    "    print(name, '|', end=' ')"
   ]
  },
  {
   "cell_type": "markdown",
   "id": "6e9af085-4283-4d03-afd4-dd664e14fe33",
   "metadata": {},
   "source": [
    "#### Counting using the range() function"
   ]
  },
  {
   "cell_type": "markdown",
   "id": "b8a82271-e053-456d-86ce-15686c7aca8e",
   "metadata": {},
   "source": [
    "**Range()** generates a sequence of integers between a starting integer that is included in the range, an ending integer that is not included in the range, and an integer step value."
   ]
  },
  {
   "cell_type": "code",
   "execution_count": null,
   "id": "21aa3cb6-31aa-4b8a-9639-b20d8a0eb54e",
   "metadata": {},
   "outputs": [],
   "source": [
    "range(start,stop,step)"
   ]
  },
  {
   "cell_type": "code",
   "execution_count": 17,
   "id": "5054d199-ccff-497e-a238-6790074a6337",
   "metadata": {},
   "outputs": [
    {
     "name": "stdout",
     "output_type": "stream",
     "text": [
      "0 1 2 3 4 "
     ]
    }
   ],
   "source": [
    "for i in range(5):\n",
    "    print(i, end=' ')"
   ]
  },
  {
   "cell_type": "code",
   "execution_count": 19,
   "id": "726986ed-d82e-4911-896f-13fa61f4a3b0",
   "metadata": {},
   "outputs": [
    {
     "name": "stdout",
     "output_type": "stream",
     "text": [
      "0 1 2 3 4 "
     ]
    }
   ],
   "source": [
    "for i in range(0,5,1):\n",
    "    print(i, end=' ')"
   ]
  },
  {
   "cell_type": "code",
   "execution_count": 20,
   "id": "bf46c79a-4004-4954-afdf-2f51e969883e",
   "metadata": {},
   "outputs": [
    {
     "name": "stdout",
     "output_type": "stream",
     "text": [
      "10 9 8 7 6 5 4 3 2 "
     ]
    }
   ],
   "source": [
    "for i in range(10,1,-1):\n",
    "    print(i, end=' ')"
   ]
  },
  {
   "cell_type": "markdown",
   "id": "40cc969a-27de-4636-9131-6ecec882b417",
   "metadata": {},
   "source": [
    "#### While vs. for loops"
   ]
  },
  {
   "cell_type": "code",
   "execution_count": null,
   "id": "f6497366-3b16-4232-8cad-2988c0c5dce9",
   "metadata": {},
   "outputs": [],
   "source": [
    "i = 0\n",
    "while i < 100 : \n",
    "   # Loop body statements\n",
    "   i += 1\n",
    "\n",
    "\n",
    "for i in range(100):\n",
    "\n",
    "    # Loop body statements"
   ]
  },
  {
   "cell_type": "markdown",
   "id": "9c00f6f6-8399-43b6-a2da-454ac5d35e67",
   "metadata": {},
   "source": [
    "### 3. Nested loops"
   ]
  },
  {
   "cell_type": "markdown",
   "id": "b8b5aedb-f950-4c66-b4d7-a1b9196d92c5",
   "metadata": {},
   "source": [
    "**outer loop / inner loop**\n",
    "    \n",
    "The nested loops are commonly referred to as the outer loop and inner loop."
   ]
  },
  {
   "cell_type": "code",
   "execution_count": 24,
   "id": "254c2f0e-e5b5-4e8f-8560-df49566dc418",
   "metadata": {},
   "outputs": [
    {
     "name": "stdout",
     "output_type": "stream",
     "text": [
      "aa.com ab.com ac.com ad.com ae.com af.com ag.com ah.com ai.com aj.com ak.com al.com am.com an.com ao.com ap.com aq.com ar.com as.com at.com au.com av.com aw.com ax.com ay.com az.com ba.com bb.com bc.com bd.com be.com bf.com bg.com bh.com bi.com bj.com bk.com bl.com bm.com bn.com bo.com bp.com bq.com br.com bs.com bt.com bu.com bv.com bw.com bx.com by.com bz.com ca.com cb.com cc.com cd.com ce.com cf.com cg.com ch.com ci.com cj.com ck.com cl.com cm.com cn.com co.com cp.com cq.com cr.com cs.com ct.com cu.com cv.com cw.com cx.com cy.com cz.com da.com db.com dc.com dd.com de.com df.com dg.com dh.com di.com dj.com dk.com dl.com dm.com dn.com do.com dp.com dq.com dr.com ds.com dt.com du.com dv.com dw.com dx.com dy.com dz.com ea.com eb.com ec.com ed.com ee.com ef.com eg.com eh.com ei.com ej.com ek.com el.com em.com en.com eo.com ep.com eq.com er.com es.com et.com eu.com ev.com ew.com ex.com ey.com ez.com fa.com fb.com fc.com fd.com fe.com ff.com fg.com fh.com fi.com fj.com fk.com fl.com fm.com fn.com fo.com fp.com fq.com fr.com fs.com ft.com fu.com fv.com fw.com fx.com fy.com fz.com ga.com gb.com gc.com gd.com ge.com gf.com gg.com gh.com gi.com gj.com gk.com gl.com gm.com gn.com go.com gp.com gq.com gr.com gs.com gt.com gu.com gv.com gw.com gx.com gy.com gz.com ha.com hb.com hc.com hd.com he.com hf.com hg.com hh.com hi.com hj.com hk.com hl.com hm.com hn.com ho.com hp.com hq.com hr.com hs.com ht.com hu.com hv.com hw.com hx.com hy.com hz.com ia.com ib.com ic.com id.com ie.com if.com ig.com ih.com ii.com ij.com ik.com il.com im.com in.com io.com ip.com iq.com ir.com is.com it.com iu.com iv.com iw.com ix.com iy.com iz.com ja.com jb.com jc.com jd.com je.com jf.com jg.com jh.com ji.com jj.com jk.com jl.com jm.com jn.com jo.com jp.com jq.com jr.com js.com jt.com ju.com jv.com jw.com jx.com jy.com jz.com ka.com kb.com kc.com kd.com ke.com kf.com kg.com kh.com ki.com kj.com kk.com kl.com km.com kn.com ko.com kp.com kq.com kr.com ks.com kt.com ku.com kv.com kw.com kx.com ky.com kz.com la.com lb.com lc.com ld.com le.com lf.com lg.com lh.com li.com lj.com lk.com ll.com lm.com ln.com lo.com lp.com lq.com lr.com ls.com lt.com lu.com lv.com lw.com lx.com ly.com lz.com ma.com mb.com mc.com md.com me.com mf.com mg.com mh.com mi.com mj.com mk.com ml.com mm.com mn.com mo.com mp.com mq.com mr.com ms.com mt.com mu.com mv.com mw.com mx.com my.com mz.com na.com nb.com nc.com nd.com ne.com nf.com ng.com nh.com ni.com nj.com nk.com nl.com nm.com nn.com no.com np.com nq.com nr.com ns.com nt.com nu.com nv.com nw.com nx.com ny.com nz.com oa.com ob.com oc.com od.com oe.com of.com og.com oh.com oi.com oj.com ok.com ol.com om.com on.com oo.com op.com oq.com or.com os.com ot.com ou.com ov.com ow.com ox.com oy.com oz.com pa.com pb.com pc.com pd.com pe.com pf.com pg.com ph.com pi.com pj.com pk.com pl.com pm.com pn.com po.com pp.com pq.com pr.com ps.com pt.com pu.com pv.com pw.com px.com py.com pz.com qa.com qb.com qc.com qd.com qe.com qf.com qg.com qh.com qi.com qj.com qk.com ql.com qm.com qn.com qo.com qp.com qq.com qr.com qs.com qt.com qu.com qv.com qw.com qx.com qy.com qz.com ra.com rb.com rc.com rd.com re.com rf.com rg.com rh.com ri.com rj.com rk.com rl.com rm.com rn.com ro.com rp.com rq.com rr.com rs.com rt.com ru.com rv.com rw.com rx.com ry.com rz.com sa.com sb.com sc.com sd.com se.com sf.com sg.com sh.com si.com sj.com sk.com sl.com sm.com sn.com so.com sp.com sq.com sr.com ss.com st.com su.com sv.com sw.com sx.com sy.com sz.com ta.com tb.com tc.com td.com te.com tf.com tg.com th.com ti.com tj.com tk.com tl.com tm.com tn.com to.com tp.com tq.com tr.com ts.com tt.com tu.com tv.com tw.com tx.com ty.com tz.com ua.com ub.com uc.com ud.com ue.com uf.com ug.com uh.com ui.com uj.com uk.com ul.com um.com un.com uo.com up.com uq.com ur.com us.com ut.com uu.com uv.com uw.com ux.com uy.com uz.com va.com vb.com vc.com vd.com ve.com vf.com vg.com vh.com vi.com vj.com vk.com vl.com vm.com vn.com vo.com vp.com vq.com vr.com vs.com vt.com vu.com vv.com vw.com vx.com vy.com vz.com wa.com wb.com wc.com wd.com we.com wf.com wg.com wh.com wi.com wj.com wk.com wl.com wm.com wn.com wo.com wp.com wq.com wr.com ws.com wt.com wu.com wv.com ww.com wx.com wy.com wz.com xa.com xb.com xc.com xd.com xe.com xf.com xg.com xh.com xi.com xj.com xk.com xl.com xm.com xn.com xo.com xp.com xq.com xr.com xs.com xt.com xu.com xv.com xw.com xx.com xy.com xz.com ya.com yb.com yc.com yd.com ye.com yf.com yg.com yh.com yi.com yj.com yk.com yl.com ym.com yn.com yo.com yp.com yq.com yr.com ys.com yt.com yu.com yv.com yw.com yx.com yy.com yz.com za.com zb.com zc.com zd.com ze.com zf.com zg.com zh.com zi.com zj.com zk.com zl.com zm.com zn.com zo.com zp.com zq.com zr.com zs.com zt.com zu.com zv.com zw.com zx.com zy.com zz.com "
     ]
    }
   ],
   "source": [
    "letter1 = 'a'\n",
    "letter2 = '?'\n",
    "while letter1 <= 'z':  # Outer loop\n",
    "    letter2 = 'a'\n",
    "    while letter2 <= 'z':  # Inner loop\n",
    "        print(f'{letter1}{letter2}.com', end=' ')\n",
    "        letter2 = chr(ord(letter2) + 1)\n",
    "    letter1 = chr(ord(letter1) + 1)"
   ]
  },
  {
   "cell_type": "code",
   "execution_count": 22,
   "id": "47e80eb9-cdca-438d-a5f6-4ee19dc71a12",
   "metadata": {},
   "outputs": [
    {
     "name": "stdin",
     "output_type": "stream",
     "text": [
      "Enter an integer (negative to quit):\n",
      " 4\n"
     ]
    },
    {
     "name": "stdout",
     "output_type": "stream",
     "text": [
      "Depicted graphically:\n",
      "* * * * \n",
      "\n"
     ]
    },
    {
     "name": "stdin",
     "output_type": "stream",
     "text": [
      "Enter an integer (negative to quit):\n",
      " 3\n"
     ]
    },
    {
     "name": "stdout",
     "output_type": "stream",
     "text": [
      "Depicted graphically:\n",
      "* * * \n",
      "\n"
     ]
    },
    {
     "name": "stdin",
     "output_type": "stream",
     "text": [
      "Enter an integer (negative to quit):\n",
      " -1\n"
     ]
    },
    {
     "name": "stdout",
     "output_type": "stream",
     "text": [
      "Goodbye.\n"
     ]
    }
   ],
   "source": [
    "num = 0\n",
    "while num >= 0:\n",
    "    num = int(input('Enter an integer (negative to quit):\\n'))\n",
    "\n",
    "    if num >= 0:\n",
    "        print('Depicted graphically:')\n",
    "        for i in range(num):\n",
    "            print('*', end=' ')\n",
    "        print('\\n')\n",
    "\n",
    "print('Goodbye.')"
   ]
  },
  {
   "cell_type": "markdown",
   "id": "7d1d98d6-32dc-4106-addd-f0bde64192cf",
   "metadata": {},
   "source": [
    "### 4. Break and continue"
   ]
  },
  {
   "cell_type": "markdown",
   "id": "99f07cc6-82c6-4a91-bb2d-b0d738cfd351",
   "metadata": {},
   "source": [
    "A **break** statement in a loop causes the loop to exit immediately."
   ]
  },
  {
   "cell_type": "code",
   "execution_count": 29,
   "id": "fc6e1b6b-bc1d-45e3-a317-21d3dc171181",
   "metadata": {},
   "outputs": [
    {
     "name": "stdout",
     "output_type": "stream",
     "text": [
      "i=0 i=1 i=2 i=3 i=4 "
     ]
    }
   ],
   "source": [
    "for i in range(10):\n",
    "    if i == 5:\n",
    "        break\n",
    "    print(f'{i=}', end = ' ')\n",
    "    "
   ]
  },
  {
   "cell_type": "markdown",
   "id": "5199f23e-4b95-4ed6-baa2-fcc1ccc3e069",
   "metadata": {},
   "source": [
    "A **continue** statement in a loop causes an immediate jump to the while or for loop header statement."
   ]
  },
  {
   "cell_type": "code",
   "execution_count": 30,
   "id": "07040f59-1a77-4c6f-96eb-ae0c6734e045",
   "metadata": {},
   "outputs": [
    {
     "name": "stdout",
     "output_type": "stream",
     "text": [
      "i=0 i=1 i=2 i=3 i=4 i=6 i=7 i=8 i=9 "
     ]
    }
   ],
   "source": [
    "for i in range(10):\n",
    "    if i == 5:\n",
    "        continue\n",
    "    print(f'{i=}', end = ' ')"
   ]
  },
  {
   "cell_type": "markdown",
   "id": "d56641ae-a500-4a6e-bcb5-30645fde9caa",
   "metadata": {},
   "source": [
    "### 5. Getting both index and value when looping: enumerate()"
   ]
  },
  {
   "cell_type": "code",
   "execution_count": 31,
   "id": "66d0d8ed-511c-4e7f-abed-0387091e593c",
   "metadata": {},
   "outputs": [
    {
     "name": "stdout",
     "output_type": "stream",
     "text": [
      "Element 0: 4\n",
      "Element 1: 8\n",
      "Element 2: 10\n"
     ]
    }
   ],
   "source": [
    "origins = [4, 8, 10]\n",
    "\n",
    "for index in range(len(origins)):\n",
    "    value = origins[index]  # Retrieve value of element in list.\n",
    "    print(f'Element {index}: {value}')"
   ]
  },
  {
   "cell_type": "code",
   "execution_count": 32,
   "id": "2a81621f-e3bb-4626-a4d9-7c7fcd96c2e4",
   "metadata": {},
   "outputs": [
    {
     "name": "stdout",
     "output_type": "stream",
     "text": [
      "Element 0: 4\n",
      "Element 1: 8\n",
      "Element 2: 10\n"
     ]
    }
   ],
   "source": [
    "origins = [4, 8, 10]\n",
    "\n",
    "for value in origins:\n",
    "    index = origins.index(value)  # Retrieve index of value in list\n",
    "    print(f'Element {index}: {value}')"
   ]
  },
  {
   "cell_type": "code",
   "execution_count": 33,
   "id": "4bfe08f4-d8f0-4eb7-9149-6a7b4251bd4f",
   "metadata": {},
   "outputs": [
    {
     "name": "stdout",
     "output_type": "stream",
     "text": [
      "Element 0: 4\n",
      "Element 1: 8\n",
      "Element 2: 10\n"
     ]
    }
   ],
   "source": [
    "origins = [4, 8, 10]\n",
    "\n",
    "for (index, value) in enumerate(origins):\n",
    "    print(f'Element {index}: {value}')"
   ]
  },
  {
   "cell_type": "code",
   "execution_count": null,
   "id": "f25b5b8e-f1b1-448e-a295-e4844837669e",
   "metadata": {},
   "outputs": [],
   "source": []
  }
 ],
 "metadata": {
  "kernelspec": {
   "display_name": "Python 3 (ipykernel)",
   "language": "python",
   "name": "python3"
  },
  "language_info": {
   "codemirror_mode": {
    "name": "ipython",
    "version": 3
   },
   "file_extension": ".py",
   "mimetype": "text/x-python",
   "name": "python",
   "nbconvert_exporter": "python",
   "pygments_lexer": "ipython3",
   "version": "3.12.1"
  }
 },
 "nbformat": 4,
 "nbformat_minor": 5
}
